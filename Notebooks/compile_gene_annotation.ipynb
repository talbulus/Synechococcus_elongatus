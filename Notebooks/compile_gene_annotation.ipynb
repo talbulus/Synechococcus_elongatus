{
 "cells": [
  {
   "cell_type": "markdown",
   "metadata": {
    "toc": true
   },
   "source": [
    "<h1>Table of Contents<span class=\"tocSkip\"></span></h1>\n",
    "<div class=\"toc\"><ul class=\"toc-item\"><li><span><a href=\"#Get-information-from-GFF-file\" data-toc-modified-id=\"Get-information-from-GFF-file-1\"><span class=\"toc-item-num\">1&nbsp;&nbsp;</span>Get information from GFF file</a></span><ul class=\"toc-item\"><li><span><a href=\"#Convert-GFF-to-Pandas-DataFrame\" data-toc-modified-id=\"Convert-GFF-to-Pandas-DataFrame-1.1\"><span class=\"toc-item-num\">1.1&nbsp;&nbsp;</span>Convert GFF to Pandas DataFrame</a></span></li><li><span><a href=\"#Check-genes\" data-toc-modified-id=\"Check-genes-1.2\"><span class=\"toc-item-num\">1.2&nbsp;&nbsp;</span>Check genes</a></span></li><li><span><a href=\"#Generate-nucleotide-fasta-files-for-CDS\" data-toc-modified-id=\"Generate-nucleotide-fasta-files-for-CDS-1.3\"><span class=\"toc-item-num\">1.3&nbsp;&nbsp;</span>Generate nucleotide fasta files for CDS</a></span></li></ul></li><li><span><a href=\"#Get-COGs\" data-toc-modified-id=\"Get-COGs-2\"><span class=\"toc-item-num\">2&nbsp;&nbsp;</span>Get COGs</a></span><ul class=\"toc-item\"><li><span><a href=\"#Run-EggNOG-Mapper\" data-toc-modified-id=\"Run-EggNOG-Mapper-2.1\"><span class=\"toc-item-num\">2.1&nbsp;&nbsp;</span>Run EggNOG Mapper</a></span></li><li><span><a href=\"#Add-COG-class-and-KEGG-orthology\" data-toc-modified-id=\"Add-COG-class-and-KEGG-orthology-2.2\"><span class=\"toc-item-num\">2.2&nbsp;&nbsp;</span>Add COG class and KEGG orthology</a></span></li><li><span><a href=\"#Uniprot-ID-mapping\" data-toc-modified-id=\"Uniprot-ID-mapping-2.3\"><span class=\"toc-item-num\">2.3&nbsp;&nbsp;</span>Uniprot ID mapping</a></span></li></ul></li><li><span><a href=\"#Clean-up-and-save-annotation\" data-toc-modified-id=\"Clean-up-and-save-annotation-3\"><span class=\"toc-item-num\">3&nbsp;&nbsp;</span>Clean up and save annotation</a></span><ul class=\"toc-item\"><li><span><a href=\"#Final-statistics\" data-toc-modified-id=\"Final-statistics-3.1\"><span class=\"toc-item-num\">3.1&nbsp;&nbsp;</span>Final statistics</a></span></li><li><span><a href=\"#Fill-missing-values\" data-toc-modified-id=\"Fill-missing-values-3.2\"><span class=\"toc-item-num\">3.2&nbsp;&nbsp;</span>Fill missing values</a></span></li></ul></li></ul></div>"
   ]
  },
  {
   "cell_type": "code",
   "execution_count": 10,
   "metadata": {},
   "outputs": [],
   "source": [
    "import pandas as pd\n",
    "import matplotlib.pyplot as plt\n",
    "import seaborn as sns\n",
    "import sys,os\n",
    "from Bio import SeqIO\n",
    "sys.path.append('/home/tahani/Documents/github/modulome/modulome/')"
   ]
  },
  {
   "cell_type": "code",
   "execution_count": 11,
   "metadata": {},
   "outputs": [],
   "source": [
    "from modulome.config import *\n",
    "from modulome.util import *"
   ]
  },
  {
   "cell_type": "code",
   "execution_count": 12,
   "metadata": {},
   "outputs": [],
   "source": [
    "organism = 'Synechococcus_elongatus'\n",
    "kegg_organism_code = 'syf'"
   ]
  },
  {
   "cell_type": "code",
   "execution_count": 13,
   "metadata": {},
   "outputs": [],
   "source": [
    "org_dir = os.path.join(DATA_DIR,'organisms',organism)\n",
    "seq_dir = os.path.join(org_dir,'sequence_files')"
   ]
  },
  {
   "cell_type": "markdown",
   "metadata": {},
   "source": [
    "# Get information from GFF file"
   ]
  },
  {
   "cell_type": "markdown",
   "metadata": {},
   "source": [
    "## Convert GFF to Pandas DataFrame\n",
    "Code is borrowed from modulome-nextflow to make sure dataframes will work with log-tpm files"
   ]
  },
  {
   "cell_type": "code",
   "execution_count": 14,
   "metadata": {},
   "outputs": [],
   "source": [
    "annot_list = []\n",
    "for filename in os.listdir(seq_dir):\n",
    "    if filename.endswith('.gff3'):\n",
    "        gff = os.path.join(seq_dir,filename)\n",
    "        annot_list.append(gff2pandas(gff))\n",
    "keep_cols = ['refseq','start','end','strand','gene_name','locus_tag','old_locus_tag','gene_product','ncbi_protein']\n",
    "DF_annot = pd.concat(annot_list)[keep_cols]\n",
    "DF_annot.set_index('locus_tag',drop=True,inplace=True)\n",
    "\n",
    "# Some gene products have commas in the name, which are represented by %2C. \n",
    "# Should we change this or keep this as is? (i.e. 2,3-butanediol)"
   ]
  },
  {
   "cell_type": "code",
   "execution_count": 15,
   "metadata": {},
   "outputs": [
    {
     "data": {
      "text/html": [
       "<div>\n",
       "<style scoped>\n",
       "    .dataframe tbody tr th:only-of-type {\n",
       "        vertical-align: middle;\n",
       "    }\n",
       "\n",
       "    .dataframe tbody tr th {\n",
       "        vertical-align: top;\n",
       "    }\n",
       "\n",
       "    .dataframe thead th {\n",
       "        text-align: right;\n",
       "    }\n",
       "</style>\n",
       "<table border=\"1\" class=\"dataframe\">\n",
       "  <thead>\n",
       "    <tr style=\"text-align: right;\">\n",
       "      <th></th>\n",
       "      <th>refseq</th>\n",
       "      <th>start</th>\n",
       "      <th>end</th>\n",
       "      <th>strand</th>\n",
       "      <th>gene_name</th>\n",
       "      <th>old_locus_tag</th>\n",
       "      <th>gene_product</th>\n",
       "      <th>ncbi_protein</th>\n",
       "    </tr>\n",
       "    <tr>\n",
       "      <th>locus_tag</th>\n",
       "      <th></th>\n",
       "      <th></th>\n",
       "      <th></th>\n",
       "      <th></th>\n",
       "      <th></th>\n",
       "      <th></th>\n",
       "      <th></th>\n",
       "      <th></th>\n",
       "    </tr>\n",
       "  </thead>\n",
       "  <tbody>\n",
       "    <tr>\n",
       "      <th>SYNPCC7942_RS00005</th>\n",
       "      <td>NC_007604.1</td>\n",
       "      <td>65</td>\n",
       "      <td>1237</td>\n",
       "      <td>+</td>\n",
       "      <td>None</td>\n",
       "      <td>Synpcc7942_0001</td>\n",
       "      <td>DNA polymerase III subunit beta</td>\n",
       "      <td>WP_011243806.1</td>\n",
       "    </tr>\n",
       "    <tr>\n",
       "      <th>SYNPCC7942_RS00010</th>\n",
       "      <td>NC_007604.1</td>\n",
       "      <td>1262</td>\n",
       "      <td>2134</td>\n",
       "      <td>+</td>\n",
       "      <td>None</td>\n",
       "      <td>Synpcc7942_0002</td>\n",
       "      <td>hypothetical protein</td>\n",
       "      <td>WP_011243805.1</td>\n",
       "    </tr>\n",
       "    <tr>\n",
       "      <th>SYNPCC7942_RS00015</th>\n",
       "      <td>NC_007604.1</td>\n",
       "      <td>2178</td>\n",
       "      <td>4511</td>\n",
       "      <td>+</td>\n",
       "      <td>purL</td>\n",
       "      <td>Synpcc7942_0003</td>\n",
       "      <td>phosphoribosylformylglycinamidine synthase sub...</td>\n",
       "      <td>WP_011243804.1</td>\n",
       "    </tr>\n",
       "    <tr>\n",
       "      <th>SYNPCC7942_RS00020</th>\n",
       "      <td>NC_007604.1</td>\n",
       "      <td>4596</td>\n",
       "      <td>6077</td>\n",
       "      <td>+</td>\n",
       "      <td>None</td>\n",
       "      <td>Synpcc7942_0004</td>\n",
       "      <td>amidophosphoribosyltransferase</td>\n",
       "      <td>WP_011243803.1</td>\n",
       "    </tr>\n",
       "    <tr>\n",
       "      <th>SYNPCC7942_RS00025</th>\n",
       "      <td>NC_007604.1</td>\n",
       "      <td>6111</td>\n",
       "      <td>7706</td>\n",
       "      <td>-</td>\n",
       "      <td>None</td>\n",
       "      <td>Synpcc7942_0005</td>\n",
       "      <td>permease</td>\n",
       "      <td>WP_011377397.1</td>\n",
       "    </tr>\n",
       "  </tbody>\n",
       "</table>\n",
       "</div>"
      ],
      "text/plain": [
       "                         refseq  start   end strand gene_name  \\\n",
       "locus_tag                                                       \n",
       "SYNPCC7942_RS00005  NC_007604.1     65  1237      +      None   \n",
       "SYNPCC7942_RS00010  NC_007604.1   1262  2134      +      None   \n",
       "SYNPCC7942_RS00015  NC_007604.1   2178  4511      +      purL   \n",
       "SYNPCC7942_RS00020  NC_007604.1   4596  6077      +      None   \n",
       "SYNPCC7942_RS00025  NC_007604.1   6111  7706      -      None   \n",
       "\n",
       "                      old_locus_tag  \\\n",
       "locus_tag                             \n",
       "SYNPCC7942_RS00005  Synpcc7942_0001   \n",
       "SYNPCC7942_RS00010  Synpcc7942_0002   \n",
       "SYNPCC7942_RS00015  Synpcc7942_0003   \n",
       "SYNPCC7942_RS00020  Synpcc7942_0004   \n",
       "SYNPCC7942_RS00025  Synpcc7942_0005   \n",
       "\n",
       "                                                         gene_product  \\\n",
       "locus_tag                                                               \n",
       "SYNPCC7942_RS00005                    DNA polymerase III subunit beta   \n",
       "SYNPCC7942_RS00010                               hypothetical protein   \n",
       "SYNPCC7942_RS00015  phosphoribosylformylglycinamidine synthase sub...   \n",
       "SYNPCC7942_RS00020                     amidophosphoribosyltransferase   \n",
       "SYNPCC7942_RS00025                                           permease   \n",
       "\n",
       "                      ncbi_protein  \n",
       "locus_tag                           \n",
       "SYNPCC7942_RS00005  WP_011243806.1  \n",
       "SYNPCC7942_RS00010  WP_011243805.1  \n",
       "SYNPCC7942_RS00015  WP_011243804.1  \n",
       "SYNPCC7942_RS00020  WP_011243803.1  \n",
       "SYNPCC7942_RS00025  WP_011377397.1  "
      ]
     },
     "execution_count": 15,
     "metadata": {},
     "output_type": "execute_result"
    }
   ],
   "source": [
    "DF_annot.head()"
   ]
  },
  {
   "cell_type": "markdown",
   "metadata": {},
   "source": [
    "## Check genes"
   ]
  },
  {
   "cell_type": "code",
   "execution_count": 16,
   "metadata": {},
   "outputs": [],
   "source": [
    "tpm_file = os.path.join(org_dir,'1_log_tpm_final.csv')\n",
    "DF_log_tpm = pd.read_csv(tpm_file,index_col=0)"
   ]
  },
  {
   "cell_type": "code",
   "execution_count": 17,
   "metadata": {},
   "outputs": [
    {
     "data": {
      "text/html": [
       "<div>\n",
       "<style scoped>\n",
       "    .dataframe tbody tr th:only-of-type {\n",
       "        vertical-align: middle;\n",
       "    }\n",
       "\n",
       "    .dataframe tbody tr th {\n",
       "        vertical-align: top;\n",
       "    }\n",
       "\n",
       "    .dataframe thead th {\n",
       "        text-align: right;\n",
       "    }\n",
       "</style>\n",
       "<table border=\"1\" class=\"dataframe\">\n",
       "  <thead>\n",
       "    <tr style=\"text-align: right;\">\n",
       "      <th></th>\n",
       "      <th>refseq</th>\n",
       "      <th>start</th>\n",
       "      <th>end</th>\n",
       "      <th>strand</th>\n",
       "      <th>gene_name</th>\n",
       "      <th>old_locus_tag</th>\n",
       "      <th>gene_product</th>\n",
       "      <th>ncbi_protein</th>\n",
       "    </tr>\n",
       "    <tr>\n",
       "      <th>locus_tag</th>\n",
       "      <th></th>\n",
       "      <th></th>\n",
       "      <th></th>\n",
       "      <th></th>\n",
       "      <th></th>\n",
       "      <th></th>\n",
       "      <th></th>\n",
       "      <th></th>\n",
       "    </tr>\n",
       "  </thead>\n",
       "  <tbody>\n",
       "  </tbody>\n",
       "</table>\n",
       "</div>"
      ],
      "text/plain": [
       "Empty DataFrame\n",
       "Columns: [refseq, start, end, strand, gene_name, old_locus_tag, gene_product, ncbi_protein]\n",
       "Index: []"
      ]
     },
     "execution_count": 17,
     "metadata": {},
     "output_type": "execute_result"
    }
   ],
   "source": [
    "# Check that the genes are the same in the expression dataset as in the annotation dataframe.\n",
    "# Mismatched genes are listed below\n",
    "test = DF_annot.sort_index().index == DF_log_tpm.sort_index().index\n",
    "DF_annot[~test]"
   ]
  },
  {
   "cell_type": "markdown",
   "metadata": {},
   "source": [
    "## Generate nucleotide fasta files for CDS"
   ]
  },
  {
   "cell_type": "code",
   "execution_count": 18,
   "metadata": {},
   "outputs": [],
   "source": [
    "cds_list = []\n",
    "for filename in os.listdir(seq_dir):\n",
    "    if filename.endswith('.fasta'):\n",
    "        fasta = os.path.join(seq_dir,filename)\n",
    "        seq = SeqIO.read(fasta,'fasta')\n",
    "        \n",
    "        # Get gene information for genes in this fasta file\n",
    "        df_genes = DF_annot[DF_annot.refseq == seq.id]\n",
    "        for i,row in df_genes.iterrows():\n",
    "            cds = seq[row.start-1:row.end]\n",
    "            if row.strand == '-':\n",
    "                cds = seq[row.start-1:row.end].reverse_complement()\n",
    "            cds.id = row.name\n",
    "            cds.description = row.gene_name if pd.notnull(row.gene_name) else row.name\n",
    "            cds_list.append(cds)"
   ]
  },
  {
   "cell_type": "code",
   "execution_count": 19,
   "metadata": {},
   "outputs": [
    {
     "data": {
      "text/plain": [
       "2714"
      ]
     },
     "execution_count": 19,
     "metadata": {},
     "output_type": "execute_result"
    }
   ],
   "source": [
    "SeqIO.write(cds_list,os.path.join(seq_dir,'CDS.fna'),'fasta')"
   ]
  },
  {
   "cell_type": "markdown",
   "metadata": {},
   "source": [
    "# Get COGs"
   ]
  },
  {
   "cell_type": "markdown",
   "metadata": {},
   "source": [
    "## Run EggNOG Mapper\n",
    "1. Go to [http://eggnog-mapper.embl.de/].\n",
    "1. Upload the CDS.fna file from your organism directory (within the sequence_files folder)\n",
    "1. Make sure to limit the taxonomy to the correct level\n",
    "1. After the job is submitted, you must follow the link in your email to run the job.\n",
    "1. Once the job completes (after ~4 hrs), download the annotations file.\n",
    "1. Save the annotation file to `data/eggNOG/<organism_name>.annotations`"
   ]
  },
  {
   "cell_type": "markdown",
   "metadata": {},
   "source": [
    "## Add COG class and KEGG orthology"
   ]
  },
  {
   "cell_type": "code",
   "execution_count": 22,
   "metadata": {},
   "outputs": [],
   "source": [
    "DF_eggnog = pd.read_csv(os.path.join(DATA_DIR,'eggNOG',organism+'.annotations'),sep='\\t',skiprows=4,header=None)\n",
    "eggnog_cols = ['query_name','seed eggNOG ortholog','seed ortholog evalue','seed ortholog score',\n",
    "               'Predicted taxonomic group','Predicted protein name','Gene Ontology terms',\n",
    "               'EC number','KEGG_ko','KEGG_Pathway','KEGG_Module','KEGG_Reaction',\n",
    "               'KEGG_rclass','BRITE','KEGG_TC','CAZy','BiGG Reaction','tax_scope',\n",
    "               'eggNOG OGs','bestOG_deprecated','COG','eggNOG free text description']\n",
    "DF_eggnog.columns = eggnog_cols\n",
    "# Strip last three rows as they are comments\n",
    "DF_eggnog = DF_eggnog.iloc[:-3]\n",
    "\n",
    "# Set locus tag as index\n",
    "DF_eggnog = DF_eggnog.drop_duplicates('query_name').set_index('query_name')\n",
    "DF_eggnog.index.name = 'locus_tag'\n",
    "\n",
    "# Only keep KEGG orthology and COG\n",
    "DF_eggnog = DF_eggnog[['KEGG_ko','COG']]"
   ]
  },
  {
   "cell_type": "code",
   "execution_count": 23,
   "metadata": {},
   "outputs": [
    {
     "data": {
      "text/html": [
       "<div>\n",
       "<style scoped>\n",
       "    .dataframe tbody tr th:only-of-type {\n",
       "        vertical-align: middle;\n",
       "    }\n",
       "\n",
       "    .dataframe tbody tr th {\n",
       "        vertical-align: top;\n",
       "    }\n",
       "\n",
       "    .dataframe thead th {\n",
       "        text-align: right;\n",
       "    }\n",
       "</style>\n",
       "<table border=\"1\" class=\"dataframe\">\n",
       "  <thead>\n",
       "    <tr style=\"text-align: right;\">\n",
       "      <th></th>\n",
       "      <th>KEGG_ko</th>\n",
       "      <th>COG</th>\n",
       "    </tr>\n",
       "    <tr>\n",
       "      <th>locus_tag</th>\n",
       "      <th></th>\n",
       "      <th></th>\n",
       "    </tr>\n",
       "  </thead>\n",
       "  <tbody>\n",
       "    <tr>\n",
       "      <th>SYNPCC7942_RS00005</th>\n",
       "      <td>ko:K02338</td>\n",
       "      <td>L</td>\n",
       "    </tr>\n",
       "    <tr>\n",
       "      <th>SYNPCC7942_RS00010</th>\n",
       "      <td>NaN</td>\n",
       "      <td>S</td>\n",
       "    </tr>\n",
       "    <tr>\n",
       "      <th>SYNPCC7942_RS00015</th>\n",
       "      <td>ko:K01952</td>\n",
       "      <td>F</td>\n",
       "    </tr>\n",
       "    <tr>\n",
       "      <th>SYNPCC7942_RS00020</th>\n",
       "      <td>ko:K00764</td>\n",
       "      <td>F</td>\n",
       "    </tr>\n",
       "    <tr>\n",
       "      <th>SYNPCC7942_RS00025</th>\n",
       "      <td>ko:K06901</td>\n",
       "      <td>P</td>\n",
       "    </tr>\n",
       "  </tbody>\n",
       "</table>\n",
       "</div>"
      ],
      "text/plain": [
       "                      KEGG_ko COG\n",
       "locus_tag                        \n",
       "SYNPCC7942_RS00005  ko:K02338   L\n",
       "SYNPCC7942_RS00010        NaN   S\n",
       "SYNPCC7942_RS00015  ko:K01952   F\n",
       "SYNPCC7942_RS00020  ko:K00764   F\n",
       "SYNPCC7942_RS00025  ko:K06901   P"
      ]
     },
     "execution_count": 23,
     "metadata": {},
     "output_type": "execute_result"
    }
   ],
   "source": [
    "DF_eggnog.head()"
   ]
  },
  {
   "cell_type": "code",
   "execution_count": 24,
   "metadata": {},
   "outputs": [],
   "source": [
    "DF_annot_cog = pd.concat([DF_annot,DF_eggnog],axis=1,sort=False)\n",
    "DF_annot_cog.index.name = 'locus_tag'\n",
    "assert(len(DF_annot_cog) == len(DF_annot))"
   ]
  },
  {
   "cell_type": "markdown",
   "metadata": {},
   "source": [
    "## Uniprot ID mapping"
   ]
  },
  {
   "cell_type": "code",
   "execution_count": 25,
   "metadata": {},
   "outputs": [],
   "source": [
    "# Try the uniprot ID mapping tool - Use EMBL for Genbank file and P_REFSEQ_AC for Refseq file\n",
    "mapping_uniprot = uniprot_id_mapping(DF_annot.ncbi_protein.fillna(''),input_id='P_REFSEQ_AC',output_id='ACC',\n",
    "                             input_name='ncbi_protein',output_name='uniprot')\n",
    "\n",
    "# Merge with current annotation\n",
    "DF_annot_cog_uniprot = pd.merge(DF_annot_cog.reset_index(),mapping_uniprot,how='left',on='ncbi_protein')\n",
    "DF_annot_cog_uniprot.set_index('locus_tag',inplace=True)\n",
    "assert(len(DF_annot) == len(DF_annot_cog_uniprot))"
   ]
  },
  {
   "cell_type": "code",
   "execution_count": 26,
   "metadata": {},
   "outputs": [
    {
     "data": {
      "text/html": [
       "<div>\n",
       "<style scoped>\n",
       "    .dataframe tbody tr th:only-of-type {\n",
       "        vertical-align: middle;\n",
       "    }\n",
       "\n",
       "    .dataframe tbody tr th {\n",
       "        vertical-align: top;\n",
       "    }\n",
       "\n",
       "    .dataframe thead th {\n",
       "        text-align: right;\n",
       "    }\n",
       "</style>\n",
       "<table border=\"1\" class=\"dataframe\">\n",
       "  <thead>\n",
       "    <tr style=\"text-align: right;\">\n",
       "      <th></th>\n",
       "      <th>refseq</th>\n",
       "      <th>start</th>\n",
       "      <th>end</th>\n",
       "      <th>strand</th>\n",
       "      <th>gene_name</th>\n",
       "      <th>old_locus_tag</th>\n",
       "      <th>gene_product</th>\n",
       "      <th>ncbi_protein</th>\n",
       "      <th>KEGG_ko</th>\n",
       "      <th>COG</th>\n",
       "      <th>uniprot</th>\n",
       "    </tr>\n",
       "    <tr>\n",
       "      <th>locus_tag</th>\n",
       "      <th></th>\n",
       "      <th></th>\n",
       "      <th></th>\n",
       "      <th></th>\n",
       "      <th></th>\n",
       "      <th></th>\n",
       "      <th></th>\n",
       "      <th></th>\n",
       "      <th></th>\n",
       "      <th></th>\n",
       "      <th></th>\n",
       "    </tr>\n",
       "  </thead>\n",
       "  <tbody>\n",
       "    <tr>\n",
       "      <th>SYNPCC7942_RS00005</th>\n",
       "      <td>NC_007604.1</td>\n",
       "      <td>65</td>\n",
       "      <td>1237</td>\n",
       "      <td>+</td>\n",
       "      <td>None</td>\n",
       "      <td>Synpcc7942_0001</td>\n",
       "      <td>DNA polymerase III subunit beta</td>\n",
       "      <td>WP_011243806.1</td>\n",
       "      <td>ko:K02338</td>\n",
       "      <td>L</td>\n",
       "      <td>UPI000049B79B</td>\n",
       "    </tr>\n",
       "    <tr>\n",
       "      <th>SYNPCC7942_RS00010</th>\n",
       "      <td>NC_007604.1</td>\n",
       "      <td>1262</td>\n",
       "      <td>2134</td>\n",
       "      <td>+</td>\n",
       "      <td>None</td>\n",
       "      <td>Synpcc7942_0002</td>\n",
       "      <td>hypothetical protein</td>\n",
       "      <td>WP_011243805.1</td>\n",
       "      <td>NaN</td>\n",
       "      <td>S</td>\n",
       "      <td>A0A0H3K3Q0</td>\n",
       "    </tr>\n",
       "    <tr>\n",
       "      <th>SYNPCC7942_RS00015</th>\n",
       "      <td>NC_007604.1</td>\n",
       "      <td>2178</td>\n",
       "      <td>4511</td>\n",
       "      <td>+</td>\n",
       "      <td>purL</td>\n",
       "      <td>Synpcc7942_0003</td>\n",
       "      <td>phosphoribosylformylglycinamidine synthase sub...</td>\n",
       "      <td>WP_011243804.1</td>\n",
       "      <td>ko:K01952</td>\n",
       "      <td>F</td>\n",
       "      <td>Q55041</td>\n",
       "    </tr>\n",
       "    <tr>\n",
       "      <th>SYNPCC7942_RS00020</th>\n",
       "      <td>NC_007604.1</td>\n",
       "      <td>4596</td>\n",
       "      <td>6077</td>\n",
       "      <td>+</td>\n",
       "      <td>None</td>\n",
       "      <td>Synpcc7942_0004</td>\n",
       "      <td>amidophosphoribosyltransferase</td>\n",
       "      <td>WP_011243803.1</td>\n",
       "      <td>ko:K00764</td>\n",
       "      <td>F</td>\n",
       "      <td>A0A0H3K6A8</td>\n",
       "    </tr>\n",
       "    <tr>\n",
       "      <th>SYNPCC7942_RS00025</th>\n",
       "      <td>NC_007604.1</td>\n",
       "      <td>6111</td>\n",
       "      <td>7706</td>\n",
       "      <td>-</td>\n",
       "      <td>None</td>\n",
       "      <td>Synpcc7942_0005</td>\n",
       "      <td>permease</td>\n",
       "      <td>WP_011377397.1</td>\n",
       "      <td>ko:K06901</td>\n",
       "      <td>P</td>\n",
       "      <td>Q31SD2</td>\n",
       "    </tr>\n",
       "  </tbody>\n",
       "</table>\n",
       "</div>"
      ],
      "text/plain": [
       "                         refseq  start   end strand gene_name  \\\n",
       "locus_tag                                                       \n",
       "SYNPCC7942_RS00005  NC_007604.1     65  1237      +      None   \n",
       "SYNPCC7942_RS00010  NC_007604.1   1262  2134      +      None   \n",
       "SYNPCC7942_RS00015  NC_007604.1   2178  4511      +      purL   \n",
       "SYNPCC7942_RS00020  NC_007604.1   4596  6077      +      None   \n",
       "SYNPCC7942_RS00025  NC_007604.1   6111  7706      -      None   \n",
       "\n",
       "                      old_locus_tag  \\\n",
       "locus_tag                             \n",
       "SYNPCC7942_RS00005  Synpcc7942_0001   \n",
       "SYNPCC7942_RS00010  Synpcc7942_0002   \n",
       "SYNPCC7942_RS00015  Synpcc7942_0003   \n",
       "SYNPCC7942_RS00020  Synpcc7942_0004   \n",
       "SYNPCC7942_RS00025  Synpcc7942_0005   \n",
       "\n",
       "                                                         gene_product  \\\n",
       "locus_tag                                                               \n",
       "SYNPCC7942_RS00005                    DNA polymerase III subunit beta   \n",
       "SYNPCC7942_RS00010                               hypothetical protein   \n",
       "SYNPCC7942_RS00015  phosphoribosylformylglycinamidine synthase sub...   \n",
       "SYNPCC7942_RS00020                     amidophosphoribosyltransferase   \n",
       "SYNPCC7942_RS00025                                           permease   \n",
       "\n",
       "                      ncbi_protein    KEGG_ko COG        uniprot  \n",
       "locus_tag                                                         \n",
       "SYNPCC7942_RS00005  WP_011243806.1  ko:K02338   L  UPI000049B79B  \n",
       "SYNPCC7942_RS00010  WP_011243805.1        NaN   S     A0A0H3K3Q0  \n",
       "SYNPCC7942_RS00015  WP_011243804.1  ko:K01952   F         Q55041  \n",
       "SYNPCC7942_RS00020  WP_011243803.1  ko:K00764   F     A0A0H3K6A8  \n",
       "SYNPCC7942_RS00025  WP_011377397.1  ko:K06901   P         Q31SD2  "
      ]
     },
     "execution_count": 26,
     "metadata": {},
     "output_type": "execute_result"
    }
   ],
   "source": [
    "DF_annot_cog_uniprot.head()"
   ]
  },
  {
   "cell_type": "markdown",
   "metadata": {},
   "source": [
    "# Clean up and save annotation"
   ]
  },
  {
   "cell_type": "code",
   "execution_count": 27,
   "metadata": {},
   "outputs": [],
   "source": [
    "# Temporarily remove warning\n",
    "pd.set_option('mode.chained_assignment', None)"
   ]
  },
  {
   "cell_type": "code",
   "execution_count": 28,
   "metadata": {},
   "outputs": [],
   "source": [
    "order = ['gene_name','start','end','strand','gene_product','uniprot','COG','KEGG_ko']\n",
    "DF_annot_final = DF_annot_cog_uniprot[order]\n",
    "# Strip \"ko:\" from KEGG orthologies\n",
    "DF_annot_final['KEGG_ko'] = [item[3:] if isinstance(item,str) else item for item in DF_annot_final['KEGG_ko']]\n",
    "# Only include one COG group\n",
    "DF_annot_final['COG'] = [item[0] if isinstance(item,str) else item for item in DF_annot_final['COG']]"
   ]
  },
  {
   "cell_type": "code",
   "execution_count": 29,
   "metadata": {},
   "outputs": [
    {
     "data": {
      "text/html": [
       "<div>\n",
       "<style scoped>\n",
       "    .dataframe tbody tr th:only-of-type {\n",
       "        vertical-align: middle;\n",
       "    }\n",
       "\n",
       "    .dataframe tbody tr th {\n",
       "        vertical-align: top;\n",
       "    }\n",
       "\n",
       "    .dataframe thead th {\n",
       "        text-align: right;\n",
       "    }\n",
       "</style>\n",
       "<table border=\"1\" class=\"dataframe\">\n",
       "  <thead>\n",
       "    <tr style=\"text-align: right;\">\n",
       "      <th></th>\n",
       "      <th>gene_name</th>\n",
       "      <th>start</th>\n",
       "      <th>end</th>\n",
       "      <th>strand</th>\n",
       "      <th>gene_product</th>\n",
       "      <th>uniprot</th>\n",
       "      <th>COG</th>\n",
       "      <th>KEGG_ko</th>\n",
       "    </tr>\n",
       "    <tr>\n",
       "      <th>locus_tag</th>\n",
       "      <th></th>\n",
       "      <th></th>\n",
       "      <th></th>\n",
       "      <th></th>\n",
       "      <th></th>\n",
       "      <th></th>\n",
       "      <th></th>\n",
       "      <th></th>\n",
       "    </tr>\n",
       "  </thead>\n",
       "  <tbody>\n",
       "    <tr>\n",
       "      <th>SYNPCC7942_RS00005</th>\n",
       "      <td>None</td>\n",
       "      <td>65</td>\n",
       "      <td>1237</td>\n",
       "      <td>+</td>\n",
       "      <td>DNA polymerase III subunit beta</td>\n",
       "      <td>UPI000049B79B</td>\n",
       "      <td>L</td>\n",
       "      <td>K02338</td>\n",
       "    </tr>\n",
       "    <tr>\n",
       "      <th>SYNPCC7942_RS00010</th>\n",
       "      <td>None</td>\n",
       "      <td>1262</td>\n",
       "      <td>2134</td>\n",
       "      <td>+</td>\n",
       "      <td>hypothetical protein</td>\n",
       "      <td>A0A0H3K3Q0</td>\n",
       "      <td>S</td>\n",
       "      <td>NaN</td>\n",
       "    </tr>\n",
       "    <tr>\n",
       "      <th>SYNPCC7942_RS00015</th>\n",
       "      <td>purL</td>\n",
       "      <td>2178</td>\n",
       "      <td>4511</td>\n",
       "      <td>+</td>\n",
       "      <td>phosphoribosylformylglycinamidine synthase sub...</td>\n",
       "      <td>Q55041</td>\n",
       "      <td>F</td>\n",
       "      <td>K01952</td>\n",
       "    </tr>\n",
       "    <tr>\n",
       "      <th>SYNPCC7942_RS00020</th>\n",
       "      <td>None</td>\n",
       "      <td>4596</td>\n",
       "      <td>6077</td>\n",
       "      <td>+</td>\n",
       "      <td>amidophosphoribosyltransferase</td>\n",
       "      <td>A0A0H3K6A8</td>\n",
       "      <td>F</td>\n",
       "      <td>K00764</td>\n",
       "    </tr>\n",
       "    <tr>\n",
       "      <th>SYNPCC7942_RS00025</th>\n",
       "      <td>None</td>\n",
       "      <td>6111</td>\n",
       "      <td>7706</td>\n",
       "      <td>-</td>\n",
       "      <td>permease</td>\n",
       "      <td>Q31SD2</td>\n",
       "      <td>P</td>\n",
       "      <td>K06901</td>\n",
       "    </tr>\n",
       "  </tbody>\n",
       "</table>\n",
       "</div>"
      ],
      "text/plain": [
       "                   gene_name  start   end strand  \\\n",
       "locus_tag                                          \n",
       "SYNPCC7942_RS00005      None     65  1237      +   \n",
       "SYNPCC7942_RS00010      None   1262  2134      +   \n",
       "SYNPCC7942_RS00015      purL   2178  4511      +   \n",
       "SYNPCC7942_RS00020      None   4596  6077      +   \n",
       "SYNPCC7942_RS00025      None   6111  7706      -   \n",
       "\n",
       "                                                         gene_product  \\\n",
       "locus_tag                                                               \n",
       "SYNPCC7942_RS00005                    DNA polymerase III subunit beta   \n",
       "SYNPCC7942_RS00010                               hypothetical protein   \n",
       "SYNPCC7942_RS00015  phosphoribosylformylglycinamidine synthase sub...   \n",
       "SYNPCC7942_RS00020                     amidophosphoribosyltransferase   \n",
       "SYNPCC7942_RS00025                                           permease   \n",
       "\n",
       "                          uniprot COG KEGG_ko  \n",
       "locus_tag                                      \n",
       "SYNPCC7942_RS00005  UPI000049B79B   L  K02338  \n",
       "SYNPCC7942_RS00010     A0A0H3K3Q0   S     NaN  \n",
       "SYNPCC7942_RS00015         Q55041   F  K01952  \n",
       "SYNPCC7942_RS00020     A0A0H3K6A8   F  K00764  \n",
       "SYNPCC7942_RS00025         Q31SD2   P  K06901  "
      ]
     },
     "execution_count": 29,
     "metadata": {},
     "output_type": "execute_result"
    }
   ],
   "source": [
    "DF_annot_final.head()"
   ]
  },
  {
   "cell_type": "markdown",
   "metadata": {},
   "source": [
    "## Final statistics"
   ]
  },
  {
   "cell_type": "code",
   "execution_count": 30,
   "metadata": {},
   "outputs": [],
   "source": [
    "sns.set_style('ticks')"
   ]
  },
  {
   "cell_type": "code",
   "execution_count": 31,
   "metadata": {},
   "outputs": [
    {
     "data": {
      "image/png": "[encoded data removed]",
      "text/plain": [
       "<Figure size 432x288 with 1 Axes>"
      ]
     },
     "metadata": {},
     "output_type": "display_data"
    }
   ],
   "source": [
    "fig,ax = plt.subplots()\n",
    "DF_annot_final.count().plot(kind='bar',ax=ax)\n",
    "ax.set_ylabel('# of Values',fontsize=18)\n",
    "ax.tick_params(labelsize=16)"
   ]
  },
  {
   "cell_type": "code",
   "execution_count": 32,
   "metadata": {},
   "outputs": [
    {
     "data": {
      "image/png": "[encoded data removed]",
      "text/plain": [
       "<Figure size 432x288 with 1 Axes>"
      ]
     },
     "metadata": {},
     "output_type": "display_data"
    }
   ],
   "source": [
    "counts = DF_annot_final.COG.value_counts()\n",
    "plt.pie(counts.values,labels=counts.index);"
   ]
  },
  {
   "cell_type": "markdown",
   "metadata": {},
   "source": [
    "## Fill missing values"
   ]
  },
  {
   "cell_type": "code",
   "execution_count": 33,
   "metadata": {},
   "outputs": [],
   "source": [
    "# Fill in missing gene names with locus tag names\n",
    "DF_annot_final['tmp_name'] = DF_annot_final.copy().index.tolist()\n",
    "DF_annot_final.gene_name.fillna(DF_annot_final.tmp_name,inplace=True)\n",
    "DF_annot_final.drop('tmp_name',axis=1,inplace=True)\n",
    "\n",
    "# Fill missing COGs with X\n",
    "DF_annot_final['COG'].fillna('X',inplace=True)"
   ]
  },
  {
   "cell_type": "code",
   "execution_count": 34,
   "metadata": {},
   "outputs": [],
   "source": [
    "DF_annot_final.to_csv(os.path.join(DATA_DIR,'organisms',organism,'1_gene_info_final.csv'))"
   ]
  },
  {
   "cell_type": "code",
   "execution_count": null,
   "metadata": {},
   "outputs": [],
   "source": [
    "#Tahani 8/9/2020 11:31pm"
   ]
  },
  {
   "cell_type": "code",
   "execution_count": null,
   "metadata": {},
   "outputs": [],
   "source": []
  }
 ],
 "metadata": {
  "kernelspec": {
   "display_name": "Python 3",
   "language": "python",
   "name": "python3"
  },
  "language_info": {
   "codemirror_mode": {
    "name": "ipython",
    "version": 3
   },
   "file_extension": ".py",
   "mimetype": "text/x-python",
   "name": "python",
   "nbconvert_exporter": "python",
   "pygments_lexer": "ipython3",
   "version": "3.8.3"
  },
  "toc": {
   "base_numbering": 1,
   "nav_menu": {},
   "number_sections": true,
   "sideBar": true,
   "skip_h1_title": false,
   "title_cell": "Table of Contents",
   "title_sidebar": "Contents",
   "toc_cell": true,
   "toc_position": {},
   "toc_section_display": true,
   "toc_window_display": false
  }
 },
 "nbformat": 4,
 "nbformat_minor": 2
}
