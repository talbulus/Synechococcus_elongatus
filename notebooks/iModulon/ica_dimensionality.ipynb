{
 "cells": [
  {
   "cell_type": "markdown",
   "metadata": {
    "toc": true
   },
   "source": [
    "<h1>Table of Contents<span class=\"tocSkip\"></span></h1>\n",
    "<div class=\"toc\"><ul class=\"toc-item\"><li><span><a href=\"#Load-Data\" data-toc-modified-id=\"Load-Data-1\"><span class=\"toc-item-num\">1&nbsp;&nbsp;</span>Load Data</a></span></li><li><span><a href=\"#Compare-dimensionalities\" data-toc-modified-id=\"Compare-dimensionalities-2\"><span class=\"toc-item-num\">2&nbsp;&nbsp;</span>Compare dimensionalities</a></span></li><li><span><a href=\"#Find-&quot;single-gene&quot;-iModulons\" data-toc-modified-id=\"Find-&quot;single-gene&quot;-iModulons-3\"><span class=\"toc-item-num\">3&nbsp;&nbsp;</span>Find \"single-gene\" iModulons</a></span></li><li><span><a href=\"#Plot-Components\" data-toc-modified-id=\"Plot-Components-4\"><span class=\"toc-item-num\">4&nbsp;&nbsp;</span>Plot Components</a></span></li></ul></div>"
   ]
  },
  {
   "cell_type": "code",
   "execution_count": 1,
   "metadata": {},
   "outputs": [],
   "source": [
    "# import sys\n",
    "# sys.path.append('/home/tahani/Documents/github/pymodulon')"
   ]
  },
  {
   "cell_type": "code",
   "execution_count": 2,
   "metadata": {},
   "outputs": [],
   "source": [
    "import pymodulon \n",
    "from pymodulon.core import IcaData\n",
    "import os\n",
    "import pandas as pd\n",
    "import matplotlib.pyplot as plt\n",
    "from scipy import stats\n",
    "import numpy as np\n",
    "from tqdm.notebook import tqdm"
   ]
  },
  {
   "cell_type": "code",
   "execution_count": 3,
   "metadata": {},
   "outputs": [],
   "source": [
    "# Directory containing ICA outputs\n",
    "DATA_DIR = '/home/tahani/Documents/elongatus/data/0_ica_run2'"
   ]
  },
  {
   "cell_type": "markdown",
   "metadata": {},
   "source": [
    "# Load Data"
   ]
  },
  {
   "cell_type": "code",
   "execution_count": 4,
   "metadata": {},
   "outputs": [],
   "source": [
    "def load_M(dim):\n",
    "    return pd.read_csv(os.path.join(DATA_DIR,str(dim),'S.csv'),index_col=0)\n",
    "\n",
    "def load_A(dim):\n",
    "    return pd.read_csv(os.path.join(DATA_DIR,str(dim),'A.csv'),index_col=0)"
   ]
  },
  {
   "cell_type": "code",
   "execution_count": 5,
   "metadata": {},
   "outputs": [],
   "source": [
    "dims = sorted([int(x) for x in os.listdir(DATA_DIR)])\n",
    "M_data = [load_M(dim) for dim in dims]\n",
    "A_data = [load_A(dim) for dim in dims]"
   ]
  },
  {
   "cell_type": "code",
   "execution_count": 6,
   "metadata": {},
   "outputs": [],
   "source": [
    "n_components = [m.shape[1] for m in M_data]"
   ]
  },
  {
   "cell_type": "markdown",
   "metadata": {},
   "source": [
    "# Compare dimensionalities"
   ]
  },
  {
   "cell_type": "code",
   "execution_count": 7,
   "metadata": {},
   "outputs": [],
   "source": [
    "final_m = M_data[-1]\n",
    "thresh = 0.7"
   ]
  },
  {
   "cell_type": "code",
   "execution_count": 8,
   "metadata": {},
   "outputs": [
    {
     "data": {
      "text/html": [
       "<div>\n",
       "<style scoped>\n",
       "    .dataframe tbody tr th:only-of-type {\n",
       "        vertical-align: middle;\n",
       "    }\n",
       "\n",
       "    .dataframe tbody tr th {\n",
       "        vertical-align: top;\n",
       "    }\n",
       "\n",
       "    .dataframe thead th {\n",
       "        text-align: right;\n",
       "    }\n",
       "</style>\n",
       "<table border=\"1\" class=\"dataframe\">\n",
       "  <thead>\n",
       "    <tr style=\"text-align: right;\">\n",
       "      <th></th>\n",
       "      <th>0</th>\n",
       "      <th>1</th>\n",
       "      <th>2</th>\n",
       "      <th>3</th>\n",
       "      <th>4</th>\n",
       "      <th>5</th>\n",
       "      <th>6</th>\n",
       "      <th>7</th>\n",
       "      <th>8</th>\n",
       "      <th>9</th>\n",
       "      <th>...</th>\n",
       "      <th>83</th>\n",
       "      <th>84</th>\n",
       "      <th>85</th>\n",
       "      <th>86</th>\n",
       "      <th>87</th>\n",
       "      <th>88</th>\n",
       "      <th>89</th>\n",
       "      <th>90</th>\n",
       "      <th>91</th>\n",
       "      <th>92</th>\n",
       "    </tr>\n",
       "    <tr>\n",
       "      <th>Geneid</th>\n",
       "      <th></th>\n",
       "      <th></th>\n",
       "      <th></th>\n",
       "      <th></th>\n",
       "      <th></th>\n",
       "      <th></th>\n",
       "      <th></th>\n",
       "      <th></th>\n",
       "      <th></th>\n",
       "      <th></th>\n",
       "      <th></th>\n",
       "      <th></th>\n",
       "      <th></th>\n",
       "      <th></th>\n",
       "      <th></th>\n",
       "      <th></th>\n",
       "      <th></th>\n",
       "      <th></th>\n",
       "      <th></th>\n",
       "      <th></th>\n",
       "      <th></th>\n",
       "    </tr>\n",
       "  </thead>\n",
       "  <tbody>\n",
       "    <tr>\n",
       "      <th>HKK26_RS00005</th>\n",
       "      <td>0.009562</td>\n",
       "      <td>0.015876</td>\n",
       "      <td>0.087722</td>\n",
       "      <td>0.028457</td>\n",
       "      <td>-0.016495</td>\n",
       "      <td>0.006393</td>\n",
       "      <td>0.001323</td>\n",
       "      <td>-0.008759</td>\n",
       "      <td>-0.032518</td>\n",
       "      <td>-0.033207</td>\n",
       "      <td>...</td>\n",
       "      <td>0.007387</td>\n",
       "      <td>-0.010687</td>\n",
       "      <td>-0.001404</td>\n",
       "      <td>0.049098</td>\n",
       "      <td>-0.036841</td>\n",
       "      <td>0.014741</td>\n",
       "      <td>-0.000665</td>\n",
       "      <td>0.010266</td>\n",
       "      <td>-0.044120</td>\n",
       "      <td>-0.001476</td>\n",
       "    </tr>\n",
       "    <tr>\n",
       "      <th>HKK26_RS00010</th>\n",
       "      <td>0.005312</td>\n",
       "      <td>-0.006521</td>\n",
       "      <td>0.012743</td>\n",
       "      <td>-0.002356</td>\n",
       "      <td>-0.000774</td>\n",
       "      <td>0.022403</td>\n",
       "      <td>-0.034409</td>\n",
       "      <td>0.003462</td>\n",
       "      <td>-0.048789</td>\n",
       "      <td>-0.015964</td>\n",
       "      <td>...</td>\n",
       "      <td>0.006470</td>\n",
       "      <td>0.019046</td>\n",
       "      <td>0.004617</td>\n",
       "      <td>0.010067</td>\n",
       "      <td>0.065814</td>\n",
       "      <td>0.006327</td>\n",
       "      <td>-0.012626</td>\n",
       "      <td>-0.009047</td>\n",
       "      <td>-0.002128</td>\n",
       "      <td>-0.033131</td>\n",
       "    </tr>\n",
       "    <tr>\n",
       "      <th>HKK26_RS00015</th>\n",
       "      <td>0.000526</td>\n",
       "      <td>0.010632</td>\n",
       "      <td>-0.003314</td>\n",
       "      <td>-0.000800</td>\n",
       "      <td>-0.008142</td>\n",
       "      <td>-0.009678</td>\n",
       "      <td>0.014701</td>\n",
       "      <td>0.006584</td>\n",
       "      <td>-0.012578</td>\n",
       "      <td>-0.007821</td>\n",
       "      <td>...</td>\n",
       "      <td>0.006555</td>\n",
       "      <td>0.018115</td>\n",
       "      <td>-0.000802</td>\n",
       "      <td>0.007202</td>\n",
       "      <td>0.011350</td>\n",
       "      <td>-0.006236</td>\n",
       "      <td>0.017690</td>\n",
       "      <td>0.024891</td>\n",
       "      <td>-0.000237</td>\n",
       "      <td>-0.001132</td>\n",
       "    </tr>\n",
       "    <tr>\n",
       "      <th>HKK26_RS00020</th>\n",
       "      <td>0.002148</td>\n",
       "      <td>0.009143</td>\n",
       "      <td>0.004310</td>\n",
       "      <td>-0.022959</td>\n",
       "      <td>-0.018208</td>\n",
       "      <td>0.019348</td>\n",
       "      <td>0.014400</td>\n",
       "      <td>-0.006604</td>\n",
       "      <td>-0.012833</td>\n",
       "      <td>-0.008134</td>\n",
       "      <td>...</td>\n",
       "      <td>0.003694</td>\n",
       "      <td>0.001969</td>\n",
       "      <td>-0.012759</td>\n",
       "      <td>0.018091</td>\n",
       "      <td>-0.003236</td>\n",
       "      <td>0.005107</td>\n",
       "      <td>0.040862</td>\n",
       "      <td>0.011255</td>\n",
       "      <td>-0.033558</td>\n",
       "      <td>-0.027545</td>\n",
       "    </tr>\n",
       "    <tr>\n",
       "      <th>HKK26_RS00025</th>\n",
       "      <td>-0.025716</td>\n",
       "      <td>0.002434</td>\n",
       "      <td>0.008901</td>\n",
       "      <td>-0.018674</td>\n",
       "      <td>-0.040137</td>\n",
       "      <td>-0.012564</td>\n",
       "      <td>-0.021257</td>\n",
       "      <td>-0.000839</td>\n",
       "      <td>-0.001513</td>\n",
       "      <td>0.006761</td>\n",
       "      <td>...</td>\n",
       "      <td>0.014676</td>\n",
       "      <td>-0.004157</td>\n",
       "      <td>-0.014091</td>\n",
       "      <td>-0.051704</td>\n",
       "      <td>0.013254</td>\n",
       "      <td>-0.001191</td>\n",
       "      <td>0.021029</td>\n",
       "      <td>-0.009869</td>\n",
       "      <td>-0.003419</td>\n",
       "      <td>0.055725</td>\n",
       "    </tr>\n",
       "    <tr>\n",
       "      <th>...</th>\n",
       "      <td>...</td>\n",
       "      <td>...</td>\n",
       "      <td>...</td>\n",
       "      <td>...</td>\n",
       "      <td>...</td>\n",
       "      <td>...</td>\n",
       "      <td>...</td>\n",
       "      <td>...</td>\n",
       "      <td>...</td>\n",
       "      <td>...</td>\n",
       "      <td>...</td>\n",
       "      <td>...</td>\n",
       "      <td>...</td>\n",
       "      <td>...</td>\n",
       "      <td>...</td>\n",
       "      <td>...</td>\n",
       "      <td>...</td>\n",
       "      <td>...</td>\n",
       "      <td>...</td>\n",
       "      <td>...</td>\n",
       "      <td>...</td>\n",
       "    </tr>\n",
       "    <tr>\n",
       "      <th>ST32046_p4</th>\n",
       "      <td>-0.007871</td>\n",
       "      <td>0.004352</td>\n",
       "      <td>0.000356</td>\n",
       "      <td>0.035515</td>\n",
       "      <td>-0.010040</td>\n",
       "      <td>-0.011848</td>\n",
       "      <td>0.002633</td>\n",
       "      <td>-0.002699</td>\n",
       "      <td>-0.002926</td>\n",
       "      <td>-0.017170</td>\n",
       "      <td>...</td>\n",
       "      <td>-0.011902</td>\n",
       "      <td>0.015708</td>\n",
       "      <td>0.006782</td>\n",
       "      <td>0.017674</td>\n",
       "      <td>0.001704</td>\n",
       "      <td>-0.001334</td>\n",
       "      <td>0.019063</td>\n",
       "      <td>-0.001560</td>\n",
       "      <td>0.006339</td>\n",
       "      <td>0.017674</td>\n",
       "    </tr>\n",
       "    <tr>\n",
       "      <th>ST32046_p5</th>\n",
       "      <td>-0.020370</td>\n",
       "      <td>0.020649</td>\n",
       "      <td>-0.001724</td>\n",
       "      <td>0.008206</td>\n",
       "      <td>0.009236</td>\n",
       "      <td>-0.016738</td>\n",
       "      <td>0.010143</td>\n",
       "      <td>-0.009689</td>\n",
       "      <td>0.010843</td>\n",
       "      <td>0.012954</td>\n",
       "      <td>...</td>\n",
       "      <td>-0.025344</td>\n",
       "      <td>0.002328</td>\n",
       "      <td>-0.033738</td>\n",
       "      <td>0.008984</td>\n",
       "      <td>-0.024639</td>\n",
       "      <td>0.007088</td>\n",
       "      <td>0.014497</td>\n",
       "      <td>-0.004789</td>\n",
       "      <td>0.002911</td>\n",
       "      <td>0.008569</td>\n",
       "    </tr>\n",
       "    <tr>\n",
       "      <th>ST32046_p7</th>\n",
       "      <td>0.000191</td>\n",
       "      <td>0.032625</td>\n",
       "      <td>-0.012246</td>\n",
       "      <td>-0.028049</td>\n",
       "      <td>-0.023168</td>\n",
       "      <td>0.011247</td>\n",
       "      <td>0.002404</td>\n",
       "      <td>0.000545</td>\n",
       "      <td>0.000808</td>\n",
       "      <td>0.073420</td>\n",
       "      <td>...</td>\n",
       "      <td>0.031186</td>\n",
       "      <td>-0.016544</td>\n",
       "      <td>0.002561</td>\n",
       "      <td>0.007259</td>\n",
       "      <td>0.082299</td>\n",
       "      <td>0.001516</td>\n",
       "      <td>-0.000088</td>\n",
       "      <td>-0.005205</td>\n",
       "      <td>-0.012020</td>\n",
       "      <td>0.007610</td>\n",
       "    </tr>\n",
       "    <tr>\n",
       "      <th>ST32046_p8</th>\n",
       "      <td>-0.034251</td>\n",
       "      <td>-0.036603</td>\n",
       "      <td>0.021123</td>\n",
       "      <td>0.007495</td>\n",
       "      <td>-0.018261</td>\n",
       "      <td>-0.007115</td>\n",
       "      <td>0.001869</td>\n",
       "      <td>-0.041843</td>\n",
       "      <td>-0.018206</td>\n",
       "      <td>0.014115</td>\n",
       "      <td>...</td>\n",
       "      <td>0.002860</td>\n",
       "      <td>-0.004651</td>\n",
       "      <td>-0.027984</td>\n",
       "      <td>0.005248</td>\n",
       "      <td>0.011873</td>\n",
       "      <td>-0.009554</td>\n",
       "      <td>0.002569</td>\n",
       "      <td>-0.022449</td>\n",
       "      <td>0.010317</td>\n",
       "      <td>0.009248</td>\n",
       "    </tr>\n",
       "    <tr>\n",
       "      <th>ST32046_p9</th>\n",
       "      <td>-0.006774</td>\n",
       "      <td>-0.000403</td>\n",
       "      <td>-0.018641</td>\n",
       "      <td>0.034081</td>\n",
       "      <td>-0.005758</td>\n",
       "      <td>-0.012601</td>\n",
       "      <td>0.011968</td>\n",
       "      <td>-0.014328</td>\n",
       "      <td>0.014506</td>\n",
       "      <td>0.016435</td>\n",
       "      <td>...</td>\n",
       "      <td>-0.012642</td>\n",
       "      <td>0.006084</td>\n",
       "      <td>0.015746</td>\n",
       "      <td>0.019149</td>\n",
       "      <td>-0.005665</td>\n",
       "      <td>-0.022282</td>\n",
       "      <td>-0.002546</td>\n",
       "      <td>-0.019418</td>\n",
       "      <td>0.028968</td>\n",
       "      <td>0.007891</td>\n",
       "    </tr>\n",
       "  </tbody>\n",
       "</table>\n",
       "<p>2700 rows × 93 columns</p>\n",
       "</div>"
      ],
      "text/plain": [
       "                      0         1         2         3         4         5  \\\n",
       "Geneid                                                                      \n",
       "HKK26_RS00005  0.009562  0.015876  0.087722  0.028457 -0.016495  0.006393   \n",
       "HKK26_RS00010  0.005312 -0.006521  0.012743 -0.002356 -0.000774  0.022403   \n",
       "HKK26_RS00015  0.000526  0.010632 -0.003314 -0.000800 -0.008142 -0.009678   \n",
       "HKK26_RS00020  0.002148  0.009143  0.004310 -0.022959 -0.018208  0.019348   \n",
       "HKK26_RS00025 -0.025716  0.002434  0.008901 -0.018674 -0.040137 -0.012564   \n",
       "...                 ...       ...       ...       ...       ...       ...   \n",
       "ST32046_p4    -0.007871  0.004352  0.000356  0.035515 -0.010040 -0.011848   \n",
       "ST32046_p5    -0.020370  0.020649 -0.001724  0.008206  0.009236 -0.016738   \n",
       "ST32046_p7     0.000191  0.032625 -0.012246 -0.028049 -0.023168  0.011247   \n",
       "ST32046_p8    -0.034251 -0.036603  0.021123  0.007495 -0.018261 -0.007115   \n",
       "ST32046_p9    -0.006774 -0.000403 -0.018641  0.034081 -0.005758 -0.012601   \n",
       "\n",
       "                      6         7         8         9  ...        83  \\\n",
       "Geneid                                                 ...             \n",
       "HKK26_RS00005  0.001323 -0.008759 -0.032518 -0.033207  ...  0.007387   \n",
       "HKK26_RS00010 -0.034409  0.003462 -0.048789 -0.015964  ...  0.006470   \n",
       "HKK26_RS00015  0.014701  0.006584 -0.012578 -0.007821  ...  0.006555   \n",
       "HKK26_RS00020  0.014400 -0.006604 -0.012833 -0.008134  ...  0.003694   \n",
       "HKK26_RS00025 -0.021257 -0.000839 -0.001513  0.006761  ...  0.014676   \n",
       "...                 ...       ...       ...       ...  ...       ...   \n",
       "ST32046_p4     0.002633 -0.002699 -0.002926 -0.017170  ... -0.011902   \n",
       "ST32046_p5     0.010143 -0.009689  0.010843  0.012954  ... -0.025344   \n",
       "ST32046_p7     0.002404  0.000545  0.000808  0.073420  ...  0.031186   \n",
       "ST32046_p8     0.001869 -0.041843 -0.018206  0.014115  ...  0.002860   \n",
       "ST32046_p9     0.011968 -0.014328  0.014506  0.016435  ... -0.012642   \n",
       "\n",
       "                     84        85        86        87        88        89  \\\n",
       "Geneid                                                                      \n",
       "HKK26_RS00005 -0.010687 -0.001404  0.049098 -0.036841  0.014741 -0.000665   \n",
       "HKK26_RS00010  0.019046  0.004617  0.010067  0.065814  0.006327 -0.012626   \n",
       "HKK26_RS00015  0.018115 -0.000802  0.007202  0.011350 -0.006236  0.017690   \n",
       "HKK26_RS00020  0.001969 -0.012759  0.018091 -0.003236  0.005107  0.040862   \n",
       "HKK26_RS00025 -0.004157 -0.014091 -0.051704  0.013254 -0.001191  0.021029   \n",
       "...                 ...       ...       ...       ...       ...       ...   \n",
       "ST32046_p4     0.015708  0.006782  0.017674  0.001704 -0.001334  0.019063   \n",
       "ST32046_p5     0.002328 -0.033738  0.008984 -0.024639  0.007088  0.014497   \n",
       "ST32046_p7    -0.016544  0.002561  0.007259  0.082299  0.001516 -0.000088   \n",
       "ST32046_p8    -0.004651 -0.027984  0.005248  0.011873 -0.009554  0.002569   \n",
       "ST32046_p9     0.006084  0.015746  0.019149 -0.005665 -0.022282 -0.002546   \n",
       "\n",
       "                     90        91        92  \n",
       "Geneid                                       \n",
       "HKK26_RS00005  0.010266 -0.044120 -0.001476  \n",
       "HKK26_RS00010 -0.009047 -0.002128 -0.033131  \n",
       "HKK26_RS00015  0.024891 -0.000237 -0.001132  \n",
       "HKK26_RS00020  0.011255 -0.033558 -0.027545  \n",
       "HKK26_RS00025 -0.009869 -0.003419  0.055725  \n",
       "...                 ...       ...       ...  \n",
       "ST32046_p4    -0.001560  0.006339  0.017674  \n",
       "ST32046_p5    -0.004789  0.002911  0.008569  \n",
       "ST32046_p7    -0.005205 -0.012020  0.007610  \n",
       "ST32046_p8    -0.022449  0.010317  0.009248  \n",
       "ST32046_p9    -0.019418  0.028968  0.007891  \n",
       "\n",
       "[2700 rows x 93 columns]"
      ]
     },
     "execution_count": 8,
     "metadata": {},
     "output_type": "execute_result"
    }
   ],
   "source": [
    "final_m"
   ]
  },
  {
   "cell_type": "code",
   "execution_count": 9,
   "metadata": {},
   "outputs": [
    {
     "data": {
      "application/vnd.jupyter.widget-view+json": {
       "model_id": "3513ffa4647d41e5955ae06acdd70a31",
       "version_major": 2,
       "version_minor": 0
      },
      "text/plain": [
       "  0%|          | 0/21 [00:00<?, ?it/s]"
      ]
     },
     "metadata": {},
     "output_type": "display_data"
    }
   ],
   "source": [
    "n_final_mods = []\n",
    "for m in tqdm(M_data):\n",
    "    corrs = pd.DataFrame(index=final_m.columns,columns=m.columns)\n",
    "    for col1 in final_m.columns:\n",
    "        for col2 in m.columns:\n",
    "            corrs.loc[col1,col2] = abs(stats.pearsonr(final_m[col1],m[col2])[0])\n",
    "    n_final_mods.append(len(np.where(corrs > thresh)[0]))"
   ]
  },
  {
   "cell_type": "markdown",
   "metadata": {},
   "source": [
    "# Find \"single-gene\" iModulons\n",
    "At a high enough dimensionality, some iModulons track the expression trajectory of a single iModulon"
   ]
  },
  {
   "cell_type": "code",
   "execution_count": 10,
   "metadata": {},
   "outputs": [
    {
     "data": {
      "application/vnd.jupyter.widget-view+json": {
       "model_id": "5679431d9ee1460bbd99126dc4440df2",
       "version_major": 2,
       "version_minor": 0
      },
      "text/plain": [
       "  0%|          | 0/21 [00:00<?, ?it/s]"
      ]
     },
     "metadata": {},
     "output_type": "display_data"
    }
   ],
   "source": [
    "n_single_genes = []\n",
    "for m in tqdm(M_data):\n",
    "    counter = 0\n",
    "    for col in m.columns:\n",
    "        sorted_genes = abs(m[col]).sort_values(ascending=False)\n",
    "        if sorted_genes.iloc[0] > 2 * sorted_genes.iloc[1]:\n",
    "            counter += 1\n",
    "    n_single_genes.append(counter)"
   ]
  },
  {
   "cell_type": "markdown",
   "metadata": {},
   "source": [
    "# Plot Components"
   ]
  },
  {
   "cell_type": "code",
   "execution_count": 11,
   "metadata": {},
   "outputs": [],
   "source": [
    "non_single_components = np.array(n_components) - np.array(n_single_genes)"
   ]
  },
  {
   "cell_type": "code",
   "execution_count": 12,
   "metadata": {},
   "outputs": [],
   "source": [
    "DF_stats = pd.DataFrame([n_components,n_final_mods,non_single_components,n_single_genes],\n",
    "                        index=['Robust Components','Final Components','Multi-gene Components',\n",
    "                        'Single Gene Components'],\n",
    "                        columns=dims).T\n",
    "DF_stats.sort_index(inplace=True)"
   ]
  },
  {
   "cell_type": "code",
   "execution_count": 13,
   "metadata": {},
   "outputs": [
    {
     "name": "stdout",
     "output_type": "stream",
     "text": [
      "Optimal Dimensionality: 110\n"
     ]
    }
   ],
   "source": [
    "dimensionality = DF_stats[DF_stats['Final Components'] >= DF_stats['Multi-gene Components']].iloc[0].name\n",
    "print('Optimal Dimensionality:',dimensionality)"
   ]
  },
  {
   "cell_type": "code",
   "execution_count": 22,
   "metadata": {},
   "outputs": [
    {
     "data": {
      "image/png": "[encoded data removed]",
      "text/plain": [
       "<Figure size 720x576 with 1 Axes>"
      ]
     },
     "metadata": {
      "needs_background": "light"
     },
     "output_type": "display_data"
    }
   ],
   "source": [
    "plt.figure(figsize=(10,8))\n",
    "plt.plot(dims,n_components,label='Robust Components')\n",
    "plt.plot(dims,n_final_mods,label='Final Components')\n",
    "plt.plot(dims,non_single_components,label='Non-single-gene Components')\n",
    "plt.plot(dims,n_single_genes,label='Single Gene Components')\n",
    "\n",
    "plt.vlines(dimensionality,0,max(n_components),linestyle='dashed')\n",
    "\n",
    "plt.xlabel('Dimensionality')\n",
    "plt.ylabel('# Components')\n",
    "plt.legend(bbox_to_anchor=(1,1))\n",
    "\n",
    "plt.savefig('dimentionality.pdf', format='pdf', bbox_inches='tight', dpi=1200)"
   ]
  },
  {
   "cell_type": "markdown",
   "metadata": {},
   "source": [
    "Tahani \n",
    "- 02/22/2021"
   ]
  },
  {
   "cell_type": "code",
   "execution_count": null,
   "metadata": {},
   "outputs": [],
   "source": []
  }
 ],
 "metadata": {
  "kernelspec": {
   "display_name": "Python 3",
   "language": "python",
   "name": "python3"
  },
  "language_info": {
   "codemirror_mode": {
    "name": "ipython",
    "version": 3
   },
   "file_extension": ".py",
   "mimetype": "text/x-python",
   "name": "python",
   "nbconvert_exporter": "python",
   "pygments_lexer": "ipython3",
   "version": "3.8.5"
  },
  "toc": {
   "base_numbering": 1,
   "nav_menu": {},
   "number_sections": true,
   "sideBar": true,
   "skip_h1_title": false,
   "title_cell": "Table of Contents",
   "title_sidebar": "Contents",
   "toc_cell": true,
   "toc_position": {},
   "toc_section_display": true,
   "toc_window_display": false
  }
 },
 "nbformat": 4,
 "nbformat_minor": 4
}
