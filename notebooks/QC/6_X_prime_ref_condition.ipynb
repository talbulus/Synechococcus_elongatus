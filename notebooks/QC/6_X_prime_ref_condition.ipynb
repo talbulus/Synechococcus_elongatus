{
 "cells": [
  {
   "cell_type": "markdown",
   "metadata": {
    "toc": true
   },
   "source": [
    "<h1>Table of Contents<span class=\"tocSkip\"></span></h1>\n",
    "<div class=\"toc\"><ul class=\"toc-item\"><li><span><a href=\"#Load-data\" data-toc-modified-id=\"Load-data-1\"><span class=\"toc-item-num\">1&nbsp;&nbsp;</span>Load data</a></span></li><li><span><a href=\"#Data-Growth\" data-toc-modified-id=\"Data-Growth-2\"><span class=\"toc-item-num\">2&nbsp;&nbsp;</span>Data Growth</a></span></li><li><span><a href=\"#Hierarchical-Clustering\" data-toc-modified-id=\"Hierarchical-Clustering-3\"><span class=\"toc-item-num\">3&nbsp;&nbsp;</span>Hierarchical Clustering</a></span></li><li><span><a href=\"#PCA\" data-toc-modified-id=\"PCA-4\"><span class=\"toc-item-num\">4&nbsp;&nbsp;</span>PCA</a></span></li><li><span><a href=\"#Normalize-to-reference-conditions\" data-toc-modified-id=\"Normalize-to-reference-conditions-5\"><span class=\"toc-item-num\">5&nbsp;&nbsp;</span>Normalize to reference conditions</a></span><ul class=\"toc-item\"><li><ul class=\"toc-item\"><li><span><a href=\"#ONLY-FOR-PRECISE-DATA\" data-toc-modified-id=\"ONLY-FOR-PRECISE-DATA-5.0.1\"><span class=\"toc-item-num\">5.0.1&nbsp;&nbsp;</span>ONLY FOR PRECISE DATA</a></span></li></ul></li></ul></li></ul></div>"
   ]
  },
  {
   "cell_type": "markdown",
   "metadata": {},
   "source": [
    "<font size=\"4\">This is a template notebook for exploratory analysis on your organism's QC'ed dataset.</font>"
   ]
  },
  {
   "cell_type": "code",
   "execution_count": 1,
   "metadata": {},
   "outputs": [],
   "source": [
    "import pandas as pd\n",
    "import os\n",
    "from os import path\n",
    "import matplotlib.pyplot as plt\n",
    "import seaborn as sns\n",
    "import numpy as np"
   ]
  },
  {
   "cell_type": "code",
   "execution_count": 2,
   "metadata": {},
   "outputs": [],
   "source": [
    "sns.set_style('ticks')"
   ]
  },
  {
   "cell_type": "markdown",
   "metadata": {},
   "source": [
    "# Load data"
   ]
  },
  {
   "cell_type": "code",
   "execution_count": 3,
   "metadata": {},
   "outputs": [],
   "source": [
    "organism = \"Synechococcus_elongatus\""
   ]
  },
  {
   "cell_type": "code",
   "execution_count": 6,
   "metadata": {},
   "outputs": [
    {
     "data": {
      "text/plain": [
       "['GO_annotations.csv',\n",
       " 'GO_enrichments.csv',\n",
       " 'precision_recall_plot.csv',\n",
       " 'X_prime.csv',\n",
       " 'M.csv',\n",
       " 'iModulon_table.csv',\n",
       " 'NtcA.pdf',\n",
       " 'Precision_recall.csv',\n",
       " 'kegg_mapping.csv',\n",
       " '3_log_tpm_normalized_ICA.csv',\n",
       " '.~lock.0_metadata_317.csv#',\n",
       " 'imodulon_table_0.8.csv',\n",
       " '2_gene_info.csv',\n",
       " 'sample_table_prime.csv',\n",
       " 'A.csv',\n",
       " 'component_stats.csv',\n",
       " '3_log_tpm_qc_ICA.csv',\n",
       " 'gene_info_operon.csv',\n",
       " 'gene_table.csv',\n",
       " '0_log_tpm.csv',\n",
       " '.~lock.M.csv#',\n",
       " '.~lock.0_log_tpm.csv#',\n",
       " 'pnas_genes.csv',\n",
       " 'selon_new.json',\n",
       " 'M_0.8.csv',\n",
       " 'A_0.8.csv',\n",
       " 'gene_info.csv',\n",
       " '3_metadata_qc_ICA.csv',\n",
       " 'TRN.csv',\n",
       " 'sample_table.csv',\n",
       " 'iModulon_tables',\n",
       " '.~lock.gene_info_operon.csv#',\n",
       " '.~lock.gene_info_new_use.csv#',\n",
       " 'plot3.csv',\n",
       " 'X.csv',\n",
       " 'pie_cateogries.csv',\n",
       " 'ppGpp_wt_rel_samples.csv']"
      ]
     },
     "execution_count": 6,
     "metadata": {},
     "output_type": "execute_result"
    }
   ],
   "source": [
    "data_dir = path.join('/home/tahani/Documents/elongatus/data/1_iModulon')\n",
    "os.listdir(data_dir)"
   ]
  },
  {
   "cell_type": "code",
   "execution_count": 7,
   "metadata": {},
   "outputs": [
    {
     "data": {
      "text/plain": [
       "(317, 62)"
      ]
     },
     "execution_count": 7,
     "metadata": {},
     "output_type": "execute_result"
    }
   ],
   "source": [
    "DF_metadata = pd.read_csv(os.path.join(data_dir,'sample_table_prime.csv'),index_col=0)\n",
    "DF_log_tpm = pd.read_csv(os.path.join(data_dir,'0_log_tpm.csv'),index_col=0)\n",
    "\n",
    "DF_metadata.shape"
   ]
  },
  {
   "cell_type": "code",
   "execution_count": 8,
   "metadata": {},
   "outputs": [
    {
     "data": {
      "text/plain": [
       "(2700, 317)"
      ]
     },
     "execution_count": 8,
     "metadata": {},
     "output_type": "execute_result"
    }
   ],
   "source": [
    "DF_log_tpm.shape"
   ]
  },
  {
   "cell_type": "code",
   "execution_count": 9,
   "metadata": {},
   "outputs": [
    {
     "data": {
      "text/plain": [
       "current\n",
       "SRX063252               wt\n",
       "SRX063253               wt\n",
       "SRX063254               wt\n",
       "SRX2356912    wt_1dusk_000\n",
       "SRX2356913    wt_1dusk_000\n",
       "                  ...     \n",
       "SRX7119038       wt_normal\n",
       "SRX7119039       wt_normal\n",
       "SRX7119040       wt_normal\n",
       "SRX7119041       wt_normal\n",
       "SRX8650808              wt\n",
       "Name: ref_condition, Length: 317, dtype: object"
      ]
     },
     "execution_count": 9,
     "metadata": {},
     "output_type": "execute_result"
    }
   ],
   "source": [
    "DF_metadata['ref_condition']"
   ]
  },
  {
   "cell_type": "markdown",
   "metadata": {},
   "source": [
    "# Normalize to reference conditions"
   ]
  },
  {
   "cell_type": "code",
   "execution_count": 10,
   "metadata": {},
   "outputs": [
    {
     "data": {
      "text/plain": [
       "current\n",
       "SRX063252      RNAseq\n",
       "SRX063253      RNAseq\n",
       "SRX063254      RNAseq\n",
       "SRX2356912       rpaA\n",
       "SRX2356913       rpaA\n",
       "               ...   \n",
       "SRX7119038       DHAR\n",
       "SRX7119039       DHAR\n",
       "SRX7119040       DHAR\n",
       "SRX7119041       DHAR\n",
       "SRX8650808    RNAseq2\n",
       "Name: project, Length: 317, dtype: object"
      ]
     },
     "execution_count": 10,
     "metadata": {},
     "output_type": "execute_result"
    }
   ],
   "source": [
    "DF_metadata.project"
   ]
  },
  {
   "cell_type": "code",
   "execution_count": 11,
   "metadata": {},
   "outputs": [],
   "source": [
    "project_exprs = []\n",
    "for name,group in DF_metadata.groupby('project'):\n",
    "    ref_cond = group.ref_condition.unique()\n",
    "    \n",
    "    # Ensure that there is only one reference condition per project\n",
    "    assert(len(ref_cond) == 1)\n",
    "    ref_cond = ref_cond[0]\n",
    "    \n",
    "    # Ensure the reference condition is in fact in the project\n",
    "    assert(ref_cond in group.condition.tolist())\n",
    "    \n",
    "    # Get reference condition sample ids\n",
    "    ref_samples = group[group.condition == ref_cond].index\n",
    "    \n",
    "    # Get reference condition expression\n",
    "    ref_expr = DF_log_tpm[ref_samples].mean(axis=1)\n",
    "    \n",
    "    # Subtract reference expression from project\n",
    "    project_exprs.append(DF_log_tpm[group.index].sub(ref_expr,axis=0))\n",
    "\n",
    "DF_log_tpm_norm = pd.concat(project_exprs,axis=1)"
   ]
  },
  {
   "cell_type": "code",
   "execution_count": 12,
   "metadata": {},
   "outputs": [
    {
     "data": {
      "text/html": [
       "<div>\n",
       "<style scoped>\n",
       "    .dataframe tbody tr th:only-of-type {\n",
       "        vertical-align: middle;\n",
       "    }\n",
       "\n",
       "    .dataframe tbody tr th {\n",
       "        vertical-align: top;\n",
       "    }\n",
       "\n",
       "    .dataframe thead th {\n",
       "        text-align: right;\n",
       "    }\n",
       "</style>\n",
       "<table border=\"1\" class=\"dataframe\">\n",
       "  <thead>\n",
       "    <tr style=\"text-align: right;\">\n",
       "      <th></th>\n",
       "      <th>SRX7119038</th>\n",
       "      <th>SRX7119039</th>\n",
       "      <th>SRX7119040</th>\n",
       "      <th>SRX7119041</th>\n",
       "      <th>SRX259777</th>\n",
       "      <th>SRX259778</th>\n",
       "      <th>SRX259779</th>\n",
       "      <th>SRX259780</th>\n",
       "      <th>SRX259781</th>\n",
       "      <th>SRX259782</th>\n",
       "      <th>...</th>\n",
       "      <th>SRX4105559</th>\n",
       "      <th>SRX4105560</th>\n",
       "      <th>SRX4105561</th>\n",
       "      <th>SRX4105562</th>\n",
       "      <th>SRX4105563</th>\n",
       "      <th>SRX4105564</th>\n",
       "      <th>SRX4105565</th>\n",
       "      <th>SRX4105566</th>\n",
       "      <th>SRX4105567</th>\n",
       "      <th>SRX4105568</th>\n",
       "    </tr>\n",
       "    <tr>\n",
       "      <th>Geneid</th>\n",
       "      <th></th>\n",
       "      <th></th>\n",
       "      <th></th>\n",
       "      <th></th>\n",
       "      <th></th>\n",
       "      <th></th>\n",
       "      <th></th>\n",
       "      <th></th>\n",
       "      <th></th>\n",
       "      <th></th>\n",
       "      <th></th>\n",
       "      <th></th>\n",
       "      <th></th>\n",
       "      <th></th>\n",
       "      <th></th>\n",
       "      <th></th>\n",
       "      <th></th>\n",
       "      <th></th>\n",
       "      <th></th>\n",
       "      <th></th>\n",
       "      <th></th>\n",
       "    </tr>\n",
       "  </thead>\n",
       "  <tbody>\n",
       "    <tr>\n",
       "      <th>HKK26_RS00005</th>\n",
       "      <td>0.0</td>\n",
       "      <td>0.211820</td>\n",
       "      <td>-0.340956</td>\n",
       "      <td>0.897594</td>\n",
       "      <td>-0.289881</td>\n",
       "      <td>0.069071</td>\n",
       "      <td>0.220810</td>\n",
       "      <td>-0.025480</td>\n",
       "      <td>-0.353734</td>\n",
       "      <td>0.161761</td>\n",
       "      <td>...</td>\n",
       "      <td>2.974372</td>\n",
       "      <td>3.248056</td>\n",
       "      <td>2.937651</td>\n",
       "      <td>1.049121</td>\n",
       "      <td>1.933418</td>\n",
       "      <td>1.692057</td>\n",
       "      <td>2.469696</td>\n",
       "      <td>2.834900</td>\n",
       "      <td>2.940724</td>\n",
       "      <td>3.210861</td>\n",
       "    </tr>\n",
       "    <tr>\n",
       "      <th>HKK26_RS00010</th>\n",
       "      <td>0.0</td>\n",
       "      <td>0.837445</td>\n",
       "      <td>0.918481</td>\n",
       "      <td>0.275618</td>\n",
       "      <td>0.182292</td>\n",
       "      <td>-0.005015</td>\n",
       "      <td>-0.177277</td>\n",
       "      <td>0.361253</td>\n",
       "      <td>-1.051174</td>\n",
       "      <td>-0.964382</td>\n",
       "      <td>...</td>\n",
       "      <td>-3.524118</td>\n",
       "      <td>-2.874861</td>\n",
       "      <td>-1.223941</td>\n",
       "      <td>1.097150</td>\n",
       "      <td>-0.166723</td>\n",
       "      <td>-1.604495</td>\n",
       "      <td>-4.021660</td>\n",
       "      <td>-1.470318</td>\n",
       "      <td>-2.233886</td>\n",
       "      <td>-0.929678</td>\n",
       "    </tr>\n",
       "    <tr>\n",
       "      <th>HKK26_RS00015</th>\n",
       "      <td>0.0</td>\n",
       "      <td>0.485131</td>\n",
       "      <td>0.251544</td>\n",
       "      <td>-0.144028</td>\n",
       "      <td>-0.090748</td>\n",
       "      <td>0.562848</td>\n",
       "      <td>-0.472100</td>\n",
       "      <td>0.014403</td>\n",
       "      <td>-0.390883</td>\n",
       "      <td>0.495542</td>\n",
       "      <td>...</td>\n",
       "      <td>-4.009437</td>\n",
       "      <td>-3.415142</td>\n",
       "      <td>-3.296091</td>\n",
       "      <td>-4.556207</td>\n",
       "      <td>-4.124352</td>\n",
       "      <td>-4.210934</td>\n",
       "      <td>-3.895414</td>\n",
       "      <td>-3.808367</td>\n",
       "      <td>-3.350940</td>\n",
       "      <td>-3.653310</td>\n",
       "    </tr>\n",
       "    <tr>\n",
       "      <th>HKK26_RS00020</th>\n",
       "      <td>0.0</td>\n",
       "      <td>0.078771</td>\n",
       "      <td>-0.647875</td>\n",
       "      <td>0.980960</td>\n",
       "      <td>-0.068027</td>\n",
       "      <td>0.160992</td>\n",
       "      <td>-0.092965</td>\n",
       "      <td>-0.151076</td>\n",
       "      <td>-0.766445</td>\n",
       "      <td>-0.934767</td>\n",
       "      <td>...</td>\n",
       "      <td>0.580617</td>\n",
       "      <td>0.514203</td>\n",
       "      <td>0.452077</td>\n",
       "      <td>-3.605100</td>\n",
       "      <td>0.151764</td>\n",
       "      <td>0.359884</td>\n",
       "      <td>0.843120</td>\n",
       "      <td>0.954885</td>\n",
       "      <td>-0.087203</td>\n",
       "      <td>0.886827</td>\n",
       "    </tr>\n",
       "    <tr>\n",
       "      <th>HKK26_RS00025</th>\n",
       "      <td>0.0</td>\n",
       "      <td>0.026178</td>\n",
       "      <td>-0.925658</td>\n",
       "      <td>0.573557</td>\n",
       "      <td>-0.618613</td>\n",
       "      <td>0.323662</td>\n",
       "      <td>0.294951</td>\n",
       "      <td>-0.080843</td>\n",
       "      <td>-0.946594</td>\n",
       "      <td>0.137341</td>\n",
       "      <td>...</td>\n",
       "      <td>-2.446330</td>\n",
       "      <td>-0.222770</td>\n",
       "      <td>-2.446330</td>\n",
       "      <td>-2.446330</td>\n",
       "      <td>1.164969</td>\n",
       "      <td>1.941654</td>\n",
       "      <td>1.657787</td>\n",
       "      <td>0.487913</td>\n",
       "      <td>-2.446330</td>\n",
       "      <td>0.388025</td>\n",
       "    </tr>\n",
       "  </tbody>\n",
       "</table>\n",
       "<p>5 rows × 317 columns</p>\n",
       "</div>"
      ],
      "text/plain": [
       "               SRX7119038  SRX7119039  SRX7119040  SRX7119041  SRX259777  \\\n",
       "Geneid                                                                     \n",
       "HKK26_RS00005         0.0    0.211820   -0.340956    0.897594  -0.289881   \n",
       "HKK26_RS00010         0.0    0.837445    0.918481    0.275618   0.182292   \n",
       "HKK26_RS00015         0.0    0.485131    0.251544   -0.144028  -0.090748   \n",
       "HKK26_RS00020         0.0    0.078771   -0.647875    0.980960  -0.068027   \n",
       "HKK26_RS00025         0.0    0.026178   -0.925658    0.573557  -0.618613   \n",
       "\n",
       "               SRX259778  SRX259779  SRX259780  SRX259781  SRX259782  ...  \\\n",
       "Geneid                                                                ...   \n",
       "HKK26_RS00005   0.069071   0.220810  -0.025480  -0.353734   0.161761  ...   \n",
       "HKK26_RS00010  -0.005015  -0.177277   0.361253  -1.051174  -0.964382  ...   \n",
       "HKK26_RS00015   0.562848  -0.472100   0.014403  -0.390883   0.495542  ...   \n",
       "HKK26_RS00020   0.160992  -0.092965  -0.151076  -0.766445  -0.934767  ...   \n",
       "HKK26_RS00025   0.323662   0.294951  -0.080843  -0.946594   0.137341  ...   \n",
       "\n",
       "               SRX4105559  SRX4105560  SRX4105561  SRX4105562  SRX4105563  \\\n",
       "Geneid                                                                      \n",
       "HKK26_RS00005    2.974372    3.248056    2.937651    1.049121    1.933418   \n",
       "HKK26_RS00010   -3.524118   -2.874861   -1.223941    1.097150   -0.166723   \n",
       "HKK26_RS00015   -4.009437   -3.415142   -3.296091   -4.556207   -4.124352   \n",
       "HKK26_RS00020    0.580617    0.514203    0.452077   -3.605100    0.151764   \n",
       "HKK26_RS00025   -2.446330   -0.222770   -2.446330   -2.446330    1.164969   \n",
       "\n",
       "               SRX4105564  SRX4105565  SRX4105566  SRX4105567  SRX4105568  \n",
       "Geneid                                                                     \n",
       "HKK26_RS00005    1.692057    2.469696    2.834900    2.940724    3.210861  \n",
       "HKK26_RS00010   -1.604495   -4.021660   -1.470318   -2.233886   -0.929678  \n",
       "HKK26_RS00015   -4.210934   -3.895414   -3.808367   -3.350940   -3.653310  \n",
       "HKK26_RS00020    0.359884    0.843120    0.954885   -0.087203    0.886827  \n",
       "HKK26_RS00025    1.941654    1.657787    0.487913   -2.446330    0.388025  \n",
       "\n",
       "[5 rows x 317 columns]"
      ]
     },
     "execution_count": 12,
     "metadata": {},
     "output_type": "execute_result"
    }
   ],
   "source": [
    "DF_log_tpm_norm.head()"
   ]
  },
  {
   "cell_type": "markdown",
   "metadata": {},
   "source": [
    "Tahani Tuesday Oct 6, 4pm "
   ]
  },
  {
   "cell_type": "markdown",
   "metadata": {},
   "source": [
    "<font size=4>Uncomment this code to save the log_tpm_norm file</font>"
   ]
  },
  {
   "cell_type": "code",
   "execution_count": 13,
   "metadata": {},
   "outputs": [],
   "source": [
    "DF_log_tpm_norm.to_csv(path.join(data_dir,'X_prime_normalized.csv'))"
   ]
  },
  {
   "cell_type": "code",
   "execution_count": 14,
   "metadata": {},
   "outputs": [
    {
     "data": {
      "text/plain": [
       "(2700, 317)"
      ]
     },
     "execution_count": 14,
     "metadata": {},
     "output_type": "execute_result"
    }
   ],
   "source": [
    "DF_log_tpm_norm.shape"
   ]
  }
 ],
 "metadata": {
  "kernelspec": {
   "display_name": "Python 3",
   "language": "python",
   "name": "python3"
  },
  "language_info": {
   "codemirror_mode": {
    "name": "ipython",
    "version": 3
   },
   "file_extension": ".py",
   "mimetype": "text/x-python",
   "name": "python",
   "nbconvert_exporter": "python",
   "pygments_lexer": "ipython3",
   "version": "3.8.8"
  },
  "toc": {
   "base_numbering": 1,
   "nav_menu": {},
   "number_sections": true,
   "sideBar": true,
   "skip_h1_title": false,
   "title_cell": "Table of Contents",
   "title_sidebar": "Contents",
   "toc_cell": true,
   "toc_position": {},
   "toc_section_display": true,
   "toc_window_display": false
  }
 },
 "nbformat": 4,
 "nbformat_minor": 2
}
