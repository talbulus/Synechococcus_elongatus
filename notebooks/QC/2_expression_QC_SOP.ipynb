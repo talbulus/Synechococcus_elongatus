{
 "cells": [
  {
   "cell_type": "markdown",
   "metadata": {},
   "source": [
    "*Running the nb with 08 threshold for replicate correlation - 2021-02-16*"
   ]
  },
  {
   "cell_type": "markdown",
   "metadata": {
    "toc": true
   },
   "source": [
    "<h1>Table of Contents<span class=\"tocSkip\"></span></h1>\n",
    "<div class=\"toc\"><ul class=\"toc-item\"><li><span><a href=\"#Setup\" data-toc-modified-id=\"Setup-1\"><span class=\"toc-item-num\">1&nbsp;&nbsp;</span>Setup</a></span><ul class=\"toc-item\"><li><span><a href=\"#QC-Thresholds\" data-toc-modified-id=\"QC-Thresholds-1.1\"><span class=\"toc-item-num\">1.1&nbsp;&nbsp;</span>QC Thresholds</a></span></li><li><span><a href=\"#Inputs\" data-toc-modified-id=\"Inputs-1.2\"><span class=\"toc-item-num\">1.2&nbsp;&nbsp;</span>Inputs</a></span></li><li><span><a href=\"#Load-expression-data\" data-toc-modified-id=\"Load-expression-data-1.3\"><span class=\"toc-item-num\">1.3&nbsp;&nbsp;</span>Load expression data</a></span></li><li><span><a href=\"#Load-QC-data\" data-toc-modified-id=\"Load-QC-data-1.4\"><span class=\"toc-item-num\">1.4&nbsp;&nbsp;</span>Load QC data</a></span><ul class=\"toc-item\"><li><span><a href=\"#Note-that-there-are-6-genes-missing-in-the-log_tpm-expression-data.-Those-are:--SRX1652180,-SRX1655390,-SRX1655391,--SRX1655392,-SRX1655393,-SRX1655394\" data-toc-modified-id=\"Note-that-there-are-6-genes-missing-in-the-log_tpm-expression-data.-Those-are:--SRX1652180,-SRX1655390,-SRX1655391,--SRX1655392,-SRX1655393,-SRX1655394-1.4.1\"><span class=\"toc-item-num\">1.4.1&nbsp;&nbsp;</span>Note that there are 6 genes missing in the log_tpm expression data. Those are:  SRX1652180, SRX1655390, SRX1655391,  SRX1655392, SRX1655393, SRX1655394</a></span></li></ul></li><li><span><a href=\"#Load-metadata\" data-toc-modified-id=\"Load-metadata-1.5\"><span class=\"toc-item-num\">1.5&nbsp;&nbsp;</span>Load metadata</a></span></li><li><span><a href=\"#Remove-extra-sample-rows\" data-toc-modified-id=\"Remove-extra-sample-rows-1.6\"><span class=\"toc-item-num\">1.6&nbsp;&nbsp;</span>Remove extra sample rows</a></span></li></ul></li><li><span><a href=\"#Check-statistics\" data-toc-modified-id=\"Check-statistics-2\"><span class=\"toc-item-num\">2&nbsp;&nbsp;</span>Check statistics</a></span><ul class=\"toc-item\"><li><span><a href=\"#FastQC-stats\" data-toc-modified-id=\"FastQC-stats-2.1\"><span class=\"toc-item-num\">2.1&nbsp;&nbsp;</span>FastQC stats</a></span></li><li><span><a href=\"#Number-of-aligned-reads\" data-toc-modified-id=\"Number-of-aligned-reads-2.2\"><span class=\"toc-item-num\">2.2&nbsp;&nbsp;</span>Number of aligned reads</a></span></li></ul></li><li><span><a href=\"#Examine-Global-Correlations\" data-toc-modified-id=\"Examine-Global-Correlations-3\"><span class=\"toc-item-num\">3&nbsp;&nbsp;</span>Examine Global Correlations</a></span><ul class=\"toc-item\"><li><span><a href=\"#Hierarchical-Clustering\" data-toc-modified-id=\"Hierarchical-Clustering-3.1\"><span class=\"toc-item-num\">3.1&nbsp;&nbsp;</span>Hierarchical Clustering</a></span></li></ul></li><li><span><a href=\"#Remove-failed-samples\" data-toc-modified-id=\"Remove-failed-samples-4\"><span class=\"toc-item-num\">4&nbsp;&nbsp;</span>Remove failed samples</a></span></li><li><span><a href=\"#Save-Metadata-for-Curation-Process\" data-toc-modified-id=\"Save-Metadata-for-Curation-Process-5\"><span class=\"toc-item-num\">5&nbsp;&nbsp;</span>Save Metadata for Curation Process</a></span></li><li><span><a href=\"#Metadata-Curation\" data-toc-modified-id=\"Metadata-Curation-6\"><span class=\"toc-item-num\">6&nbsp;&nbsp;</span>Metadata Curation</a></span><ul class=\"toc-item\"><li><span><a href=\"#BioProject-counts-of-passing-metadata\" data-toc-modified-id=\"BioProject-counts-of-passing-metadata-6.1\"><span class=\"toc-item-num\">6.1&nbsp;&nbsp;</span>BioProject counts of passing metadata</a></span></li><li><span><a href=\"#BioProject-counts-of-all-metadata\" data-toc-modified-id=\"BioProject-counts-of-all-metadata-6.2\"><span class=\"toc-item-num\">6.2&nbsp;&nbsp;</span>BioProject counts of all metadata</a></span></li></ul></li><li><span><a href=\"#Correlations-between-replicates\" data-toc-modified-id=\"Correlations-between-replicates-7\"><span class=\"toc-item-num\">7&nbsp;&nbsp;</span>Correlations between replicates</a></span><ul class=\"toc-item\"><li><span><a href=\"#Compute-Pearson-R-Score\" data-toc-modified-id=\"Compute-Pearson-R-Score-7.1\"><span class=\"toc-item-num\">7.1&nbsp;&nbsp;</span>Compute Pearson R Score</a></span></li><li><span><a href=\"#Investigating-Individual-Correlation\" data-toc-modified-id=\"Investigating-Individual-Correlation-7.2\"><span class=\"toc-item-num\">7.2&nbsp;&nbsp;</span>Investigating Individual Correlation</a></span></li><li><span><a href=\"#Investigating-rpaA\" data-toc-modified-id=\"Investigating-rpaA-7.3\"><span class=\"toc-item-num\">7.3&nbsp;&nbsp;</span>Investigating rpaA</a></span></li><li><span><a href=\"#Investigating-ppGpp-with-theo\" data-toc-modified-id=\"Investigating-ppGpp-with-theo-7.4\"><span class=\"toc-item-num\">7.4&nbsp;&nbsp;</span>Investigating ppGpp with theo</a></span></li><li><span><a href=\"#Clock\" data-toc-modified-id=\"Clock-7.5\"><span class=\"toc-item-num\">7.5&nbsp;&nbsp;</span>Clock</a></span></li><li><span><a href=\"#S7\" data-toc-modified-id=\"S7-7.6\"><span class=\"toc-item-num\">7.6&nbsp;&nbsp;</span>S7</a></span></li><li><span><a href=\"#Drop-Samples-with-no-replicates\" data-toc-modified-id=\"Drop-Samples-with-no-replicates-7.7\"><span class=\"toc-item-num\">7.7&nbsp;&nbsp;</span>Drop Samples with no replicates</a></span></li><li><span><a href=\"#Calculating-failed-samples-for-Replicate-correlation\" data-toc-modified-id=\"Calculating-failed-samples-for-Replicate-correlation-7.8\"><span class=\"toc-item-num\">7.8&nbsp;&nbsp;</span>Calculating failed samples for Replicate correlation</a></span></li><li><span><a href=\"#Calculating-total-failed-samples-(FastQC-to-Replicate-correlation)\" data-toc-modified-id=\"Calculating-total-failed-samples-(FastQC-to-Replicate-correlation)-7.9\"><span class=\"toc-item-num\">7.9&nbsp;&nbsp;</span>Calculating total failed samples (FastQC to Replicate correlation)</a></span></li><li><span><a href=\"#Calculating-stats-with-adding-failed-time-series-data\" data-toc-modified-id=\"Calculating-stats-with-adding-failed-time-series-data-7.10\"><span class=\"toc-item-num\">7.10&nbsp;&nbsp;</span>Calculating stats with adding failed time-series data</a></span><ul class=\"toc-item\"><li><ul class=\"toc-item\"><li><span><a href=\"#1.-Adding-the-failed-time-series-data-back-to-metadata_curated-DataFrame\" data-toc-modified-id=\"1.-Adding-the-failed-time-series-data-back-to-metadata_curated-DataFrame-7.10.0.1\"><span class=\"toc-item-num\">7.10.0.1&nbsp;&nbsp;</span>1. Adding the failed time-series data back to metadata_curated DataFrame</a></span></li><li><span><a href=\"#1.-Changing-&quot;false&quot;-to-&quot;true&quot;-for-these-projects-t-ocalculate-finale-pie-chart\" data-toc-modified-id=\"1.-Changing-&quot;false&quot;-to-&quot;true&quot;-for-these-projects-t-ocalculate-finale-pie-chart-7.10.0.2\"><span class=\"toc-item-num\">7.10.0.2&nbsp;&nbsp;</span>1. Changing \"false\" to \"true\" for these projects t ocalculate finale pie chart</a></span></li></ul></li></ul></li></ul></li><li><span><a href=\"#Manually-add-failed-time-series-samples-to-curated-metadata-and-save\" data-toc-modified-id=\"Manually-add-failed-time-series-samples-to-curated-metadata-and-save-8\"><span class=\"toc-item-num\">8&nbsp;&nbsp;</span>Manually add failed time-series samples to curated metadata and save</a></span></li><li><span><a href=\"#Save-final-datasets\" data-toc-modified-id=\"Save-final-datasets-9\"><span class=\"toc-item-num\">9&nbsp;&nbsp;</span>Save final datasets</a></span></li><li><span><a href=\"#Plots\" data-toc-modified-id=\"Plots-10\"><span class=\"toc-item-num\">10&nbsp;&nbsp;</span>Plots</a></span></li></ul></div>"
   ]
  },
  {
   "cell_type": "markdown",
   "metadata": {},
   "source": [
    "<font size=\"4\">This is a template notebook for performing preliminary quality control on your organism's expression data.</font>"
   ]
  },
  {
   "cell_type": "code",
   "execution_count": 1,
   "metadata": {},
   "outputs": [],
   "source": [
    "import pandas as pd\n",
    "import os\n",
    "from os import path\n",
    "import matplotlib.pyplot as plt\n",
    "import seaborn as sns\n",
    "import numpy as np"
   ]
  },
  {
   "cell_type": "code",
   "execution_count": 2,
   "metadata": {},
   "outputs": [],
   "source": [
    "#sns.set_style('ticks')\n",
    "sns.set_style('whitegrid')"
   ]
  },
  {
   "cell_type": "markdown",
   "metadata": {},
   "source": [
    "# Setup"
   ]
  },
  {
   "cell_type": "markdown",
   "metadata": {},
   "source": [
    "## QC Thresholds"
   ]
  },
  {
   "cell_type": "code",
   "execution_count": 3,
   "metadata": {},
   "outputs": [],
   "source": [
    "min_mrna_reads = 5e5 # Minimum number of reads mapped to mRNA"
   ]
  },
  {
   "cell_type": "markdown",
   "metadata": {},
   "source": [
    "## Inputs"
   ]
  },
  {
   "cell_type": "markdown",
   "metadata": {},
   "source": [
    "<font size=\"4\">Show files in the data directory</font>"
   ]
  },
  {
   "cell_type": "code",
   "execution_count": 4,
   "metadata": {},
   "outputs": [
    {
     "data": {
      "text/plain": [
       "['2_org_compare',\n",
       " '3_samples_failed_rep_corr.ods',\n",
       " 'marie.csv',\n",
       " '3_go_annotation.txt',\n",
       " '1_gene_mapping_biocyc.csv',\n",
       " '1_GO_annotations.csv',\n",
       " '1_kegg_mapping.csv',\n",
       " '2_kegg_mapping.csv',\n",
       " '1_plasmid_gene_mapping.csv',\n",
       " 'Full_metadata.ods',\n",
       " '0_counts.csv',\n",
       " '3_log_tpm_normalized_ICA.csv',\n",
       " '2_GO_annotations.csv',\n",
       " '3_usher_maps',\n",
       " 'Synechococcus_elongatus.annotations',\n",
       " '3_log_tpm_qc_ICA.csv',\n",
       " 'marie_gene_annotation.xlsx',\n",
       " '0_log_tpm.csv',\n",
       " '1_biocyc_gene_annotation.csv',\n",
       " '2_metadata_passed_curated_262_INPUT.csv',\n",
       " 'temp.csv',\n",
       " '0_multiqc_stats.tsv',\n",
       " '0_ica_runs',\n",
       " '0_ica_run2',\n",
       " '1_biocyc_operons_annotations.txt',\n",
       " '3_metadata_qc_ICA.csv',\n",
       " '0_elongatus_2020-08-20.tsv',\n",
       " '0_selon.json',\n",
       " '1_metadata_passed_not_curated__262.csv',\n",
       " '3_Synechococcus_elongatus.annotations',\n",
       " '0_multiqc_report.html',\n",
       " '3_after_adding_True_to_failed_samples.csv',\n",
       " '1_iModulon',\n",
       " '0.8_thresh',\n",
       " '3_samples_failed_rep_corr.csv']"
      ]
     },
     "execution_count": 4,
     "metadata": {},
     "output_type": "execute_result"
    }
   ],
   "source": [
    "data_dir = path.join('/home/tahani/Documents/elongatus/data/')\n",
    "os.listdir(data_dir)"
   ]
  },
  {
   "cell_type": "markdown",
   "metadata": {},
   "source": [
    "<font size=\"4\">Enter name of curated metadata file here</font>"
   ]
  },
  {
   "cell_type": "code",
   "execution_count": 5,
   "metadata": {},
   "outputs": [],
   "source": [
    "metadata_file = \"0_elongatus_2020-08-20.tsv\" # Enter metadata filename here"
   ]
  },
  {
   "cell_type": "markdown",
   "metadata": {},
   "source": [
    "## Load expression data"
   ]
  },
  {
   "cell_type": "code",
   "execution_count": 6,
   "metadata": {},
   "outputs": [
    {
     "name": "stdout",
     "output_type": "stream",
     "text": [
      "Number of genes: 2700\n",
      "Number of samples: 317\n"
     ]
    }
   ],
   "source": [
    "DF_log_tpm = pd.read_csv(path.join(data_dir,'0_log_tpm.csv'),index_col=0).fillna(0)\n",
    "print('Number of genes:',DF_log_tpm.shape[0])\n",
    "print('Number of samples:',DF_log_tpm.shape[1])\n",
    "\n",
    "#note that the old log_tpm file contained 2714 genes (including the pseudogenes with rockhopper method)"
   ]
  },
  {
   "cell_type": "code",
   "execution_count": 7,
   "metadata": {},
   "outputs": [
    {
     "data": {
      "text/html": [
       "<div>\n",
       "<style scoped>\n",
       "    .dataframe tbody tr th:only-of-type {\n",
       "        vertical-align: middle;\n",
       "    }\n",
       "\n",
       "    .dataframe tbody tr th {\n",
       "        vertical-align: top;\n",
       "    }\n",
       "\n",
       "    .dataframe thead th {\n",
       "        text-align: right;\n",
       "    }\n",
       "</style>\n",
       "<table border=\"1\" class=\"dataframe\">\n",
       "  <thead>\n",
       "    <tr style=\"text-align: right;\">\n",
       "      <th></th>\n",
       "      <th>SRX063252</th>\n",
       "      <th>SRX063253</th>\n",
       "      <th>SRX063254</th>\n",
       "      <th>SRX2356912</th>\n",
       "      <th>SRX2356913</th>\n",
       "      <th>SRX2356914</th>\n",
       "      <th>SRX2356915</th>\n",
       "      <th>SRX2356916</th>\n",
       "      <th>SRX2356917</th>\n",
       "      <th>SRX2356918</th>\n",
       "      <th>...</th>\n",
       "      <th>SRX5055969</th>\n",
       "      <th>SRX5055970</th>\n",
       "      <th>SRX5055971</th>\n",
       "      <th>SRX5055972</th>\n",
       "      <th>SRX689242</th>\n",
       "      <th>SRX7119038</th>\n",
       "      <th>SRX7119039</th>\n",
       "      <th>SRX7119040</th>\n",
       "      <th>SRX7119041</th>\n",
       "      <th>SRX8650808</th>\n",
       "    </tr>\n",
       "    <tr>\n",
       "      <th>Geneid</th>\n",
       "      <th></th>\n",
       "      <th></th>\n",
       "      <th></th>\n",
       "      <th></th>\n",
       "      <th></th>\n",
       "      <th></th>\n",
       "      <th></th>\n",
       "      <th></th>\n",
       "      <th></th>\n",
       "      <th></th>\n",
       "      <th></th>\n",
       "      <th></th>\n",
       "      <th></th>\n",
       "      <th></th>\n",
       "      <th></th>\n",
       "      <th></th>\n",
       "      <th></th>\n",
       "      <th></th>\n",
       "      <th></th>\n",
       "      <th></th>\n",
       "      <th></th>\n",
       "    </tr>\n",
       "  </thead>\n",
       "  <tbody>\n",
       "    <tr>\n",
       "      <th>HKK26_RS00005</th>\n",
       "      <td>2.721345</td>\n",
       "      <td>2.871722</td>\n",
       "      <td>0.000000</td>\n",
       "      <td>2.268269</td>\n",
       "      <td>3.071116</td>\n",
       "      <td>1.552809</td>\n",
       "      <td>1.159188</td>\n",
       "      <td>0.722518</td>\n",
       "      <td>1.804555</td>\n",
       "      <td>1.489711</td>\n",
       "      <td>...</td>\n",
       "      <td>7.850627</td>\n",
       "      <td>8.062441</td>\n",
       "      <td>8.352852</td>\n",
       "      <td>8.728334</td>\n",
       "      <td>3.702893</td>\n",
       "      <td>7.850626</td>\n",
       "      <td>8.062447</td>\n",
       "      <td>7.509670</td>\n",
       "      <td>8.748220</td>\n",
       "      <td>2.454810</td>\n",
       "    </tr>\n",
       "    <tr>\n",
       "      <th>HKK26_RS00010</th>\n",
       "      <td>3.059621</td>\n",
       "      <td>2.983027</td>\n",
       "      <td>3.001391</td>\n",
       "      <td>4.340258</td>\n",
       "      <td>4.144851</td>\n",
       "      <td>3.774119</td>\n",
       "      <td>4.407238</td>\n",
       "      <td>3.785348</td>\n",
       "      <td>3.729194</td>\n",
       "      <td>3.983892</td>\n",
       "      <td>...</td>\n",
       "      <td>6.216688</td>\n",
       "      <td>7.054128</td>\n",
       "      <td>7.261716</td>\n",
       "      <td>6.977198</td>\n",
       "      <td>2.789212</td>\n",
       "      <td>6.216688</td>\n",
       "      <td>7.054133</td>\n",
       "      <td>7.135169</td>\n",
       "      <td>6.492305</td>\n",
       "      <td>5.297869</td>\n",
       "    </tr>\n",
       "    <tr>\n",
       "      <th>HKK26_RS00015</th>\n",
       "      <td>5.768612</td>\n",
       "      <td>4.831654</td>\n",
       "      <td>4.851925</td>\n",
       "      <td>5.930896</td>\n",
       "      <td>6.563142</td>\n",
       "      <td>8.026868</td>\n",
       "      <td>9.210999</td>\n",
       "      <td>9.029179</td>\n",
       "      <td>8.646476</td>\n",
       "      <td>8.046506</td>\n",
       "      <td>...</td>\n",
       "      <td>9.406529</td>\n",
       "      <td>9.891653</td>\n",
       "      <td>9.638498</td>\n",
       "      <td>9.320611</td>\n",
       "      <td>8.105480</td>\n",
       "      <td>9.406528</td>\n",
       "      <td>9.891658</td>\n",
       "      <td>9.658072</td>\n",
       "      <td>9.262500</td>\n",
       "      <td>8.949089</td>\n",
       "    </tr>\n",
       "    <tr>\n",
       "      <th>HKK26_RS00020</th>\n",
       "      <td>4.338594</td>\n",
       "      <td>2.922710</td>\n",
       "      <td>2.940962</td>\n",
       "      <td>5.009002</td>\n",
       "      <td>4.197997</td>\n",
       "      <td>5.071857</td>\n",
       "      <td>4.933016</td>\n",
       "      <td>4.413754</td>\n",
       "      <td>4.211822</td>\n",
       "      <td>4.377025</td>\n",
       "      <td>...</td>\n",
       "      <td>8.755567</td>\n",
       "      <td>8.834332</td>\n",
       "      <td>8.903118</td>\n",
       "      <td>9.897457</td>\n",
       "      <td>4.770745</td>\n",
       "      <td>8.755566</td>\n",
       "      <td>8.834337</td>\n",
       "      <td>8.107691</td>\n",
       "      <td>9.736526</td>\n",
       "      <td>7.626248</td>\n",
       "    </tr>\n",
       "    <tr>\n",
       "      <th>HKK26_RS00025</th>\n",
       "      <td>4.336147</td>\n",
       "      <td>0.000000</td>\n",
       "      <td>0.000000</td>\n",
       "      <td>0.000000</td>\n",
       "      <td>2.469080</td>\n",
       "      <td>0.000000</td>\n",
       "      <td>0.000000</td>\n",
       "      <td>0.000000</td>\n",
       "      <td>0.000000</td>\n",
       "      <td>0.000000</td>\n",
       "      <td>...</td>\n",
       "      <td>8.291187</td>\n",
       "      <td>8.317358</td>\n",
       "      <td>8.270535</td>\n",
       "      <td>8.838963</td>\n",
       "      <td>0.000000</td>\n",
       "      <td>8.291186</td>\n",
       "      <td>8.317364</td>\n",
       "      <td>7.365528</td>\n",
       "      <td>8.864743</td>\n",
       "      <td>3.622577</td>\n",
       "    </tr>\n",
       "  </tbody>\n",
       "</table>\n",
       "<p>5 rows × 317 columns</p>\n",
       "</div>"
      ],
      "text/plain": [
       "               SRX063252  SRX063253  SRX063254  SRX2356912  SRX2356913  \\\n",
       "Geneid                                                                   \n",
       "HKK26_RS00005   2.721345   2.871722   0.000000    2.268269    3.071116   \n",
       "HKK26_RS00010   3.059621   2.983027   3.001391    4.340258    4.144851   \n",
       "HKK26_RS00015   5.768612   4.831654   4.851925    5.930896    6.563142   \n",
       "HKK26_RS00020   4.338594   2.922710   2.940962    5.009002    4.197997   \n",
       "HKK26_RS00025   4.336147   0.000000   0.000000    0.000000    2.469080   \n",
       "\n",
       "               SRX2356914  SRX2356915  SRX2356916  SRX2356917  SRX2356918  \\\n",
       "Geneid                                                                      \n",
       "HKK26_RS00005    1.552809    1.159188    0.722518    1.804555    1.489711   \n",
       "HKK26_RS00010    3.774119    4.407238    3.785348    3.729194    3.983892   \n",
       "HKK26_RS00015    8.026868    9.210999    9.029179    8.646476    8.046506   \n",
       "HKK26_RS00020    5.071857    4.933016    4.413754    4.211822    4.377025   \n",
       "HKK26_RS00025    0.000000    0.000000    0.000000    0.000000    0.000000   \n",
       "\n",
       "               ...  SRX5055969  SRX5055970  SRX5055971  SRX5055972  SRX689242  \\\n",
       "Geneid         ...                                                              \n",
       "HKK26_RS00005  ...    7.850627    8.062441    8.352852    8.728334   3.702893   \n",
       "HKK26_RS00010  ...    6.216688    7.054128    7.261716    6.977198   2.789212   \n",
       "HKK26_RS00015  ...    9.406529    9.891653    9.638498    9.320611   8.105480   \n",
       "HKK26_RS00020  ...    8.755567    8.834332    8.903118    9.897457   4.770745   \n",
       "HKK26_RS00025  ...    8.291187    8.317358    8.270535    8.838963   0.000000   \n",
       "\n",
       "               SRX7119038  SRX7119039  SRX7119040  SRX7119041  SRX8650808  \n",
       "Geneid                                                                     \n",
       "HKK26_RS00005    7.850626    8.062447    7.509670    8.748220    2.454810  \n",
       "HKK26_RS00010    6.216688    7.054133    7.135169    6.492305    5.297869  \n",
       "HKK26_RS00015    9.406528    9.891658    9.658072    9.262500    8.949089  \n",
       "HKK26_RS00020    8.755566    8.834337    8.107691    9.736526    7.626248  \n",
       "HKK26_RS00025    8.291186    8.317364    7.365528    8.864743    3.622577  \n",
       "\n",
       "[5 rows x 317 columns]"
      ]
     },
     "execution_count": 7,
     "metadata": {},
     "output_type": "execute_result"
    }
   ],
   "source": [
    "DF_log_tpm.head()"
   ]
  },
  {
   "cell_type": "markdown",
   "metadata": {},
   "source": [
    "## Load QC data\n",
    "<font size=\"4\">There may be some datasets that failed along the processing pipeline, so the number of samples with QC data may be higher than the number of samples with expression data.</font>"
   ]
  },
  {
   "cell_type": "code",
   "execution_count": 8,
   "metadata": {},
   "outputs": [
    {
     "name": "stdout",
     "output_type": "stream",
     "text": [
      "Number of samples with QC data: 323\n"
     ]
    }
   ],
   "source": [
    "DF_qc_stats = pd.read_csv(path.join(data_dir,'0_multiqc_stats.tsv'),index_col=0, sep='\\t')\n",
    "print('Number of samples with QC data:',DF_qc_stats.shape[0])"
   ]
  },
  {
   "cell_type": "markdown",
   "metadata": {},
   "source": [
    "### Note that there are 6 genes missing in the log_tpm expression data. Those are:  SRX1652180, SRX1655390, SRX1655391,  SRX1655392, SRX1655393, SRX1655394"
   ]
  },
  {
   "cell_type": "code",
   "execution_count": 9,
   "metadata": {},
   "outputs": [
    {
     "data": {
      "text/html": [
       "<div>\n",
       "<style scoped>\n",
       "    .dataframe tbody tr th:only-of-type {\n",
       "        vertical-align: middle;\n",
       "    }\n",
       "\n",
       "    .dataframe tbody tr th {\n",
       "        vertical-align: top;\n",
       "    }\n",
       "\n",
       "    .dataframe thead th {\n",
       "        text-align: right;\n",
       "    }\n",
       "</style>\n",
       "<table border=\"1\" class=\"dataframe\">\n",
       "  <thead>\n",
       "    <tr style=\"text-align: right;\">\n",
       "      <th></th>\n",
       "      <th>Total</th>\n",
       "      <th>Assigned</th>\n",
       "      <th>Unassigned_rRNA</th>\n",
       "      <th>Unassigned_Unmapped</th>\n",
       "      <th>Unassigned_Read_Type</th>\n",
       "      <th>Unassigned_Singleton</th>\n",
       "      <th>Unassigned_MappingQuality</th>\n",
       "      <th>Unassigned_Chimera</th>\n",
       "      <th>Unassigned_FragmentLength</th>\n",
       "      <th>Unassigned_Duplicate</th>\n",
       "      <th>...</th>\n",
       "      <th>r_written</th>\n",
       "      <th>bp_processed</th>\n",
       "      <th>quality_trimmed</th>\n",
       "      <th>bp_written</th>\n",
       "      <th>percent_trimmed</th>\n",
       "      <th>se_sense</th>\n",
       "      <th>se_antisense</th>\n",
       "      <th>failed</th>\n",
       "      <th>pe_sense</th>\n",
       "      <th>pe_antisense</th>\n",
       "    </tr>\n",
       "  </thead>\n",
       "  <tbody>\n",
       "    <tr>\n",
       "      <th>SRX063252</th>\n",
       "      <td>15165120.0</td>\n",
       "      <td>667044.0</td>\n",
       "      <td>4470409.0</td>\n",
       "      <td>5327724.0</td>\n",
       "      <td>0.0</td>\n",
       "      <td>0.0</td>\n",
       "      <td>0.0</td>\n",
       "      <td>0.0</td>\n",
       "      <td>0.0</td>\n",
       "      <td>0.0</td>\n",
       "      <td>...</td>\n",
       "      <td>15369396</td>\n",
       "      <td>491820672</td>\n",
       "      <td>5943905</td>\n",
       "      <td>471492793</td>\n",
       "      <td>4.133189</td>\n",
       "      <td>0.3813</td>\n",
       "      <td>0.4958</td>\n",
       "      <td>0.1229</td>\n",
       "      <td>0.0</td>\n",
       "      <td>0.0</td>\n",
       "    </tr>\n",
       "    <tr>\n",
       "      <th>SRX063253</th>\n",
       "      <td>20226226.0</td>\n",
       "      <td>58955.0</td>\n",
       "      <td>416146.0</td>\n",
       "      <td>19485961.0</td>\n",
       "      <td>0.0</td>\n",
       "      <td>0.0</td>\n",
       "      <td>0.0</td>\n",
       "      <td>0.0</td>\n",
       "      <td>0.0</td>\n",
       "      <td>0.0</td>\n",
       "      <td>...</td>\n",
       "      <td>20441541</td>\n",
       "      <td>858544722</td>\n",
       "      <td>11817199</td>\n",
       "      <td>826671169</td>\n",
       "      <td>3.712509</td>\n",
       "      <td>0.4291</td>\n",
       "      <td>0.4347</td>\n",
       "      <td>0.1362</td>\n",
       "      <td>0.0</td>\n",
       "      <td>0.0</td>\n",
       "    </tr>\n",
       "    <tr>\n",
       "      <th>SRX063254</th>\n",
       "      <td>20172997.0</td>\n",
       "      <td>57162.0</td>\n",
       "      <td>402000.0</td>\n",
       "      <td>19457855.0</td>\n",
       "      <td>0.0</td>\n",
       "      <td>0.0</td>\n",
       "      <td>0.0</td>\n",
       "      <td>0.0</td>\n",
       "      <td>0.0</td>\n",
       "      <td>0.0</td>\n",
       "      <td>...</td>\n",
       "      <td>20384186</td>\n",
       "      <td>856135812</td>\n",
       "      <td>11398963</td>\n",
       "      <td>824716283</td>\n",
       "      <td>3.669923</td>\n",
       "      <td>0.4724</td>\n",
       "      <td>0.4000</td>\n",
       "      <td>0.1276</td>\n",
       "      <td>0.0</td>\n",
       "      <td>0.0</td>\n",
       "    </tr>\n",
       "    <tr>\n",
       "      <th>SRX1652180</th>\n",
       "      <td>0.0</td>\n",
       "      <td>0.0</td>\n",
       "      <td>0.0</td>\n",
       "      <td>0.0</td>\n",
       "      <td>0.0</td>\n",
       "      <td>0.0</td>\n",
       "      <td>0.0</td>\n",
       "      <td>0.0</td>\n",
       "      <td>0.0</td>\n",
       "      <td>0.0</td>\n",
       "      <td>...</td>\n",
       "      <td>25392105</td>\n",
       "      <td>1269605250</td>\n",
       "      <td>7829230</td>\n",
       "      <td>1250586396</td>\n",
       "      <td>1.498013</td>\n",
       "      <td>0.0000</td>\n",
       "      <td>0.0000</td>\n",
       "      <td>0.0000</td>\n",
       "      <td>0.0</td>\n",
       "      <td>0.0</td>\n",
       "    </tr>\n",
       "    <tr>\n",
       "      <th>SRX1655390</th>\n",
       "      <td>0.0</td>\n",
       "      <td>0.0</td>\n",
       "      <td>0.0</td>\n",
       "      <td>0.0</td>\n",
       "      <td>0.0</td>\n",
       "      <td>0.0</td>\n",
       "      <td>0.0</td>\n",
       "      <td>0.0</td>\n",
       "      <td>0.0</td>\n",
       "      <td>0.0</td>\n",
       "      <td>...</td>\n",
       "      <td>35708317</td>\n",
       "      <td>35708317</td>\n",
       "      <td>1465170</td>\n",
       "      <td>25836668</td>\n",
       "      <td>27.645237</td>\n",
       "      <td>0.0000</td>\n",
       "      <td>0.0000</td>\n",
       "      <td>0.0000</td>\n",
       "      <td>0.0</td>\n",
       "      <td>0.0</td>\n",
       "    </tr>\n",
       "  </tbody>\n",
       "</table>\n",
       "<p>5 rows × 54 columns</p>\n",
       "</div>"
      ],
      "text/plain": [
       "                 Total  Assigned  Unassigned_rRNA  Unassigned_Unmapped  \\\n",
       "SRX063252   15165120.0  667044.0        4470409.0            5327724.0   \n",
       "SRX063253   20226226.0   58955.0         416146.0           19485961.0   \n",
       "SRX063254   20172997.0   57162.0         402000.0           19457855.0   \n",
       "SRX1652180         0.0       0.0              0.0                  0.0   \n",
       "SRX1655390         0.0       0.0              0.0                  0.0   \n",
       "\n",
       "            Unassigned_Read_Type  Unassigned_Singleton  \\\n",
       "SRX063252                    0.0                   0.0   \n",
       "SRX063253                    0.0                   0.0   \n",
       "SRX063254                    0.0                   0.0   \n",
       "SRX1652180                   0.0                   0.0   \n",
       "SRX1655390                   0.0                   0.0   \n",
       "\n",
       "            Unassigned_MappingQuality  Unassigned_Chimera  \\\n",
       "SRX063252                         0.0                 0.0   \n",
       "SRX063253                         0.0                 0.0   \n",
       "SRX063254                         0.0                 0.0   \n",
       "SRX1652180                        0.0                 0.0   \n",
       "SRX1655390                        0.0                 0.0   \n",
       "\n",
       "            Unassigned_FragmentLength  Unassigned_Duplicate  ...  r_written  \\\n",
       "SRX063252                         0.0                   0.0  ...   15369396   \n",
       "SRX063253                         0.0                   0.0  ...   20441541   \n",
       "SRX063254                         0.0                   0.0  ...   20384186   \n",
       "SRX1652180                        0.0                   0.0  ...   25392105   \n",
       "SRX1655390                        0.0                   0.0  ...   35708317   \n",
       "\n",
       "            bp_processed  quality_trimmed  bp_written  percent_trimmed  \\\n",
       "SRX063252      491820672          5943905   471492793         4.133189   \n",
       "SRX063253      858544722         11817199   826671169         3.712509   \n",
       "SRX063254      856135812         11398963   824716283         3.669923   \n",
       "SRX1652180    1269605250          7829230  1250586396         1.498013   \n",
       "SRX1655390      35708317          1465170    25836668        27.645237   \n",
       "\n",
       "            se_sense  se_antisense  failed  pe_sense  pe_antisense  \n",
       "SRX063252     0.3813        0.4958  0.1229       0.0           0.0  \n",
       "SRX063253     0.4291        0.4347  0.1362       0.0           0.0  \n",
       "SRX063254     0.4724        0.4000  0.1276       0.0           0.0  \n",
       "SRX1652180    0.0000        0.0000  0.0000       0.0           0.0  \n",
       "SRX1655390    0.0000        0.0000  0.0000       0.0           0.0  \n",
       "\n",
       "[5 rows x 54 columns]"
      ]
     },
     "execution_count": 9,
     "metadata": {},
     "output_type": "execute_result"
    }
   ],
   "source": [
    "DF_qc_stats.fillna(0,inplace=True)\n",
    "DF_qc_stats.head()"
   ]
  },
  {
   "cell_type": "markdown",
   "metadata": {},
   "source": [
    "## Load metadata"
   ]
  },
  {
   "cell_type": "code",
   "execution_count": 10,
   "metadata": {},
   "outputs": [
    {
     "name": "stdout",
     "output_type": "stream",
     "text": [
      "Number of samples with metadata: 323\n"
     ]
    },
    {
     "data": {
      "text/html": [
       "<div>\n",
       "<style scoped>\n",
       "    .dataframe tbody tr th:only-of-type {\n",
       "        vertical-align: middle;\n",
       "    }\n",
       "\n",
       "    .dataframe tbody tr th {\n",
       "        vertical-align: top;\n",
       "    }\n",
       "\n",
       "    .dataframe thead th {\n",
       "        text-align: right;\n",
       "    }\n",
       "</style>\n",
       "<table border=\"1\" class=\"dataframe\">\n",
       "  <thead>\n",
       "    <tr style=\"text-align: right;\">\n",
       "      <th></th>\n",
       "      <th>ReleaseDate</th>\n",
       "      <th>TaxID</th>\n",
       "      <th>ScientificName</th>\n",
       "      <th>species_tax_id</th>\n",
       "      <th>class_tax_id</th>\n",
       "      <th>strain_tax_id</th>\n",
       "      <th>species</th>\n",
       "      <th>LibraryLayout</th>\n",
       "      <th>Platform</th>\n",
       "      <th>Model</th>\n",
       "      <th>...</th>\n",
       "      <th>InsertDev</th>\n",
       "      <th>SRA ID</th>\n",
       "      <th>Biosample</th>\n",
       "      <th>GEO Series</th>\n",
       "      <th>GEO Sample</th>\n",
       "      <th>PMID</th>\n",
       "      <th>biosample_strain</th>\n",
       "      <th>biosample_genotype</th>\n",
       "      <th>R1</th>\n",
       "      <th>R2</th>\n",
       "    </tr>\n",
       "    <tr>\n",
       "      <th>Experiment</th>\n",
       "      <th></th>\n",
       "      <th></th>\n",
       "      <th></th>\n",
       "      <th></th>\n",
       "      <th></th>\n",
       "      <th></th>\n",
       "      <th></th>\n",
       "      <th></th>\n",
       "      <th></th>\n",
       "      <th></th>\n",
       "      <th></th>\n",
       "      <th></th>\n",
       "      <th></th>\n",
       "      <th></th>\n",
       "      <th></th>\n",
       "      <th></th>\n",
       "      <th></th>\n",
       "      <th></th>\n",
       "      <th></th>\n",
       "      <th></th>\n",
       "      <th></th>\n",
       "    </tr>\n",
       "  </thead>\n",
       "  <tbody>\n",
       "    <tr>\n",
       "      <th>SRX063252</th>\n",
       "      <td>2011-05-16 14:22:03</td>\n",
       "      <td>1140</td>\n",
       "      <td>Synechococcus elongatus PCC 7942 = FACHB-805</td>\n",
       "      <td>32046</td>\n",
       "      <td>1117</td>\n",
       "      <td>1140</td>\n",
       "      <td>Synechococcus elongatus</td>\n",
       "      <td>SINGLE</td>\n",
       "      <td>ILLUMINA</td>\n",
       "      <td>Illumina Genome Analyzer II</td>\n",
       "      <td>...</td>\n",
       "      <td>0</td>\n",
       "      <td>73360</td>\n",
       "      <td>618967</td>\n",
       "      <td>GSE29264</td>\n",
       "      <td>GSM723311</td>\n",
       "      <td>21612627.0</td>\n",
       "      <td>PCC 7942</td>\n",
       "      <td>NaN</td>\n",
       "      <td>NaN</td>\n",
       "      <td>NaN</td>\n",
       "    </tr>\n",
       "    <tr>\n",
       "      <th>SRX063253</th>\n",
       "      <td>2011-05-16 14:25:03</td>\n",
       "      <td>1140</td>\n",
       "      <td>Synechococcus elongatus PCC 7942 = FACHB-805</td>\n",
       "      <td>32046</td>\n",
       "      <td>1117</td>\n",
       "      <td>1140</td>\n",
       "      <td>Synechococcus elongatus</td>\n",
       "      <td>SINGLE</td>\n",
       "      <td>ILLUMINA</td>\n",
       "      <td>Illumina Genome Analyzer II</td>\n",
       "      <td>...</td>\n",
       "      <td>0</td>\n",
       "      <td>73361</td>\n",
       "      <td>618968</td>\n",
       "      <td>GSE29264</td>\n",
       "      <td>GSM723312</td>\n",
       "      <td>21612627.0</td>\n",
       "      <td>PCC 7942</td>\n",
       "      <td>NaN</td>\n",
       "      <td>NaN</td>\n",
       "      <td>NaN</td>\n",
       "    </tr>\n",
       "    <tr>\n",
       "      <th>SRX063254</th>\n",
       "      <td>2011-05-16 14:26:04</td>\n",
       "      <td>1140</td>\n",
       "      <td>Synechococcus elongatus PCC 7942 = FACHB-805</td>\n",
       "      <td>32046</td>\n",
       "      <td>1117</td>\n",
       "      <td>1140</td>\n",
       "      <td>Synechococcus elongatus</td>\n",
       "      <td>SINGLE</td>\n",
       "      <td>ILLUMINA</td>\n",
       "      <td>Illumina Genome Analyzer II</td>\n",
       "      <td>...</td>\n",
       "      <td>0</td>\n",
       "      <td>73362</td>\n",
       "      <td>618969</td>\n",
       "      <td>GSE29264</td>\n",
       "      <td>GSM723313</td>\n",
       "      <td>21612627.0</td>\n",
       "      <td>PCC 7942</td>\n",
       "      <td>NaN</td>\n",
       "      <td>NaN</td>\n",
       "      <td>NaN</td>\n",
       "    </tr>\n",
       "    <tr>\n",
       "      <th>SRX1652180</th>\n",
       "      <td>2017-03-22 00:00:06</td>\n",
       "      <td>1140</td>\n",
       "      <td>Synechococcus elongatus PCC 7942 = FACHB-805</td>\n",
       "      <td>32046</td>\n",
       "      <td>1117</td>\n",
       "      <td>1140</td>\n",
       "      <td>Synechococcus elongatus</td>\n",
       "      <td>PAIRED</td>\n",
       "      <td>ILLUMINA</td>\n",
       "      <td>Illumina Genome Analyzer IIx</td>\n",
       "      <td>...</td>\n",
       "      <td>0</td>\n",
       "      <td>2370879</td>\n",
       "      <td>4571940</td>\n",
       "      <td>NaN</td>\n",
       "      <td>NaN</td>\n",
       "      <td>NaN</td>\n",
       "      <td>PCC 7942</td>\n",
       "      <td>NaN</td>\n",
       "      <td>NaN</td>\n",
       "      <td>NaN</td>\n",
       "    </tr>\n",
       "    <tr>\n",
       "      <th>SRX1655390</th>\n",
       "      <td>2017-03-22 00:00:10</td>\n",
       "      <td>1140</td>\n",
       "      <td>Synechococcus elongatus PCC 7942 = FACHB-805</td>\n",
       "      <td>32046</td>\n",
       "      <td>1117</td>\n",
       "      <td>1140</td>\n",
       "      <td>Synechococcus elongatus</td>\n",
       "      <td>PAIRED</td>\n",
       "      <td>ILLUMINA</td>\n",
       "      <td>Illumina Genome Analyzer IIx</td>\n",
       "      <td>...</td>\n",
       "      <td>0</td>\n",
       "      <td>2374089</td>\n",
       "      <td>4571940</td>\n",
       "      <td>NaN</td>\n",
       "      <td>NaN</td>\n",
       "      <td>NaN</td>\n",
       "      <td>PCC 7942</td>\n",
       "      <td>NaN</td>\n",
       "      <td>NaN</td>\n",
       "      <td>NaN</td>\n",
       "    </tr>\n",
       "  </tbody>\n",
       "</table>\n",
       "<p>5 rows × 33 columns</p>\n",
       "</div>"
      ],
      "text/plain": [
       "                    ReleaseDate  TaxID  \\\n",
       "Experiment                               \n",
       "SRX063252   2011-05-16 14:22:03   1140   \n",
       "SRX063253   2011-05-16 14:25:03   1140   \n",
       "SRX063254   2011-05-16 14:26:04   1140   \n",
       "SRX1652180  2017-03-22 00:00:06   1140   \n",
       "SRX1655390  2017-03-22 00:00:10   1140   \n",
       "\n",
       "                                          ScientificName  species_tax_id  \\\n",
       "Experiment                                                                 \n",
       "SRX063252   Synechococcus elongatus PCC 7942 = FACHB-805           32046   \n",
       "SRX063253   Synechococcus elongatus PCC 7942 = FACHB-805           32046   \n",
       "SRX063254   Synechococcus elongatus PCC 7942 = FACHB-805           32046   \n",
       "SRX1652180  Synechococcus elongatus PCC 7942 = FACHB-805           32046   \n",
       "SRX1655390  Synechococcus elongatus PCC 7942 = FACHB-805           32046   \n",
       "\n",
       "            class_tax_id  strain_tax_id                  species  \\\n",
       "Experiment                                                         \n",
       "SRX063252           1117           1140  Synechococcus elongatus   \n",
       "SRX063253           1117           1140  Synechococcus elongatus   \n",
       "SRX063254           1117           1140  Synechococcus elongatus   \n",
       "SRX1652180          1117           1140  Synechococcus elongatus   \n",
       "SRX1655390          1117           1140  Synechococcus elongatus   \n",
       "\n",
       "           LibraryLayout  Platform                         Model  ...  \\\n",
       "Experiment                                                        ...   \n",
       "SRX063252         SINGLE  ILLUMINA   Illumina Genome Analyzer II  ...   \n",
       "SRX063253         SINGLE  ILLUMINA   Illumina Genome Analyzer II  ...   \n",
       "SRX063254         SINGLE  ILLUMINA   Illumina Genome Analyzer II  ...   \n",
       "SRX1652180        PAIRED  ILLUMINA  Illumina Genome Analyzer IIx  ...   \n",
       "SRX1655390        PAIRED  ILLUMINA  Illumina Genome Analyzer IIx  ...   \n",
       "\n",
       "           InsertDev   SRA ID Biosample  GEO Series GEO Sample        PMID  \\\n",
       "Experiment                                                                   \n",
       "SRX063252          0    73360    618967    GSE29264  GSM723311  21612627.0   \n",
       "SRX063253          0    73361    618968    GSE29264  GSM723312  21612627.0   \n",
       "SRX063254          0    73362    618969    GSE29264  GSM723313  21612627.0   \n",
       "SRX1652180         0  2370879   4571940         NaN        NaN         NaN   \n",
       "SRX1655390         0  2374089   4571940         NaN        NaN         NaN   \n",
       "\n",
       "           biosample_strain biosample_genotype  R1  R2  \n",
       "Experiment                                              \n",
       "SRX063252          PCC 7942                NaN NaN NaN  \n",
       "SRX063253          PCC 7942                NaN NaN NaN  \n",
       "SRX063254          PCC 7942                NaN NaN NaN  \n",
       "SRX1652180         PCC 7942                NaN NaN NaN  \n",
       "SRX1655390         PCC 7942                NaN NaN NaN  \n",
       "\n",
       "[5 rows x 33 columns]"
      ]
     },
     "execution_count": 10,
     "metadata": {},
     "output_type": "execute_result"
    }
   ],
   "source": [
    "DF_metadata = pd.read_csv(path.join(data_dir,metadata_file),index_col=0,sep='\\t')\n",
    "print('Number of samples with metadata:',DF_metadata.shape[0])\n",
    "DF_metadata.head()"
   ]
  },
  {
   "cell_type": "markdown",
   "metadata": {},
   "source": [
    "## Remove extra sample rows"
   ]
  },
  {
   "cell_type": "code",
   "execution_count": 11,
   "metadata": {},
   "outputs": [],
   "source": [
    "# Ensure that metadata and qc_stats data contain all log_tpm sample information\n",
    "assert(set(DF_log_tpm.columns) - set(DF_metadata.index) == set())\n",
    "assert(set(DF_log_tpm.columns) - set(DF_qc_stats.index) == set())"
   ]
  },
  {
   "cell_type": "code",
   "execution_count": 12,
   "metadata": {},
   "outputs": [],
   "source": [
    "DF_metadata = DF_metadata.loc[DF_log_tpm.columns]\n",
    "DF_qc_stats = DF_qc_stats.loc[DF_log_tpm.columns]"
   ]
  },
  {
   "cell_type": "code",
   "execution_count": 13,
   "metadata": {},
   "outputs": [
    {
     "name": "stdout",
     "output_type": "stream",
     "text": [
      "Number of samples with QC data: 317\n",
      "Number of samples in log_tpm: 317\n"
     ]
    }
   ],
   "source": [
    "print('Number of samples with QC data:',DF_qc_stats.shape[0])\n",
    "print('Number of samples in log_tpm:',DF_log_tpm.shape[1])"
   ]
  },
  {
   "cell_type": "markdown",
   "metadata": {},
   "source": [
    "# Check statistics"
   ]
  },
  {
   "cell_type": "markdown",
   "metadata": {},
   "source": [
    "<font size=\"4\">From here, create a new spreadsheet where you can flag samples based on various QC statistics</font>\n"
   ]
  },
  {
   "cell_type": "markdown",
   "metadata": {},
   "source": [
    "## FastQC stats"
   ]
  },
  {
   "cell_type": "code",
   "execution_count": 14,
   "metadata": {},
   "outputs": [],
   "source": [
    "fastqc_cols = ['per_base_sequence_quality',\n",
    "       'per_tile_sequence_quality', 'per_sequence_quality_scores',\n",
    "       'per_base_sequence_content', 'per_sequence_gc_content',\n",
    "       'per_base_n_content', 'sequence_length_distribution',\n",
    "       'sequence_duplication_levels', 'overrepresented_sequences',\n",
    "       'adapter_content']"
   ]
  },
  {
   "cell_type": "code",
   "execution_count": 15,
   "metadata": {},
   "outputs": [
    {
     "data": {
      "image/png": "[encoded data removed]",
      "text/plain": [
       "<Figure size 432x288 with 2 Axes>"
      ]
     },
     "metadata": {},
     "output_type": "display_data"
    }
   ],
   "source": [
    "DF_fastqc = DF_qc_stats[fastqc_cols]\n",
    "ax = sns.heatmap(DF_fastqc.replace('pass',1).replace('warn',0).replace('fail',-1),\n",
    "            cmap='RdYlBu',vmax=1.3,vmin=-1.3)\n",
    "cbar = ax.collections[0].colorbar\n",
    "cbar.set_ticks([-1,0,1])\n",
    "cbar.set_ticklabels(['fail','warn','pass'])"
   ]
  },
  {
   "cell_type": "markdown",
   "metadata": {},
   "source": [
    "<font size=\"4\">The following four categories are the most important:\n",
    "    - per_base_sequence_quality\n",
    "    - per_sequence_quality_scores\n",
    "    - per_base_n_content\n",
    "    - adapter_content\n",
    "    \n",
    "If a sample does not pass any of these four categories, discard the sample\n",
    "</font>"
   ]
  },
  {
   "cell_type": "code",
   "execution_count": 16,
   "metadata": {},
   "outputs": [],
   "source": [
    "fastqc_fail_cols = ['per_base_sequence_quality','per_sequence_quality_scores','per_base_n_content','adapter_content']"
   ]
  },
  {
   "cell_type": "code",
   "execution_count": 17,
   "metadata": {},
   "outputs": [
    {
     "data": {
      "text/html": [
       "<div>\n",
       "<style scoped>\n",
       "    .dataframe tbody tr th:only-of-type {\n",
       "        vertical-align: middle;\n",
       "    }\n",
       "\n",
       "    .dataframe tbody tr th {\n",
       "        vertical-align: top;\n",
       "    }\n",
       "\n",
       "    .dataframe thead th {\n",
       "        text-align: right;\n",
       "    }\n",
       "</style>\n",
       "<table border=\"1\" class=\"dataframe\">\n",
       "  <thead>\n",
       "    <tr style=\"text-align: right;\">\n",
       "      <th></th>\n",
       "      <th>per_base_sequence_quality</th>\n",
       "      <th>per_sequence_quality_scores</th>\n",
       "      <th>per_base_n_content</th>\n",
       "      <th>adapter_content</th>\n",
       "    </tr>\n",
       "  </thead>\n",
       "  <tbody>\n",
       "    <tr>\n",
       "      <th>SRX2769874</th>\n",
       "      <td>pass</td>\n",
       "      <td>pass</td>\n",
       "      <td>warn</td>\n",
       "      <td>pass</td>\n",
       "    </tr>\n",
       "    <tr>\n",
       "      <th>SRX2769877</th>\n",
       "      <td>pass</td>\n",
       "      <td>warn</td>\n",
       "      <td>pass</td>\n",
       "      <td>pass</td>\n",
       "    </tr>\n",
       "    <tr>\n",
       "      <th>SRX2769879</th>\n",
       "      <td>pass</td>\n",
       "      <td>pass</td>\n",
       "      <td>warn</td>\n",
       "      <td>pass</td>\n",
       "    </tr>\n",
       "  </tbody>\n",
       "</table>\n",
       "</div>"
      ],
      "text/plain": [
       "           per_base_sequence_quality per_sequence_quality_scores  \\\n",
       "SRX2769874                      pass                        pass   \n",
       "SRX2769877                      pass                        warn   \n",
       "SRX2769879                      pass                        pass   \n",
       "\n",
       "           per_base_n_content adapter_content  \n",
       "SRX2769874               warn            pass  \n",
       "SRX2769877               pass            pass  \n",
       "SRX2769879               warn            pass  "
      ]
     },
     "execution_count": 17,
     "metadata": {},
     "output_type": "execute_result"
    }
   ],
   "source": [
    "DF_failed_fastqc = DF_fastqc[fastqc_fail_cols][(DF_fastqc[fastqc_fail_cols] != 'pass').any(axis=1)]\n",
    "DF_failed_fastqc[fastqc_fail_cols]"
   ]
  },
  {
   "cell_type": "markdown",
   "metadata": {},
   "source": [
    "<font size=\"4\">Mark samples as failed.</font>"
   ]
  },
  {
   "cell_type": "code",
   "execution_count": 18,
   "metadata": {},
   "outputs": [
    {
     "name": "stdout",
     "output_type": "stream",
     "text": [
      "#samples that failed FastQC 3\n"
     ]
    }
   ],
   "source": [
    "DF_metadata['passed_fastqc'] = ~DF_metadata.index.isin(DF_failed_fastqc.index)\n",
    "print('#samples that failed FastQC', len([i for i in DF_metadata['passed_fastqc'] if i == False]))"
   ]
  },
  {
   "cell_type": "markdown",
   "metadata": {},
   "source": [
    "## Number of aligned reads"
   ]
  },
  {
   "cell_type": "markdown",
   "metadata": {},
   "source": [
    "<font size=\"4\">The following histogram shows how many reads map to coding sequences (i.e. mRNA). Too few aligned reads reduces the sensitivity of the resulting data.</font>"
   ]
  },
  {
   "cell_type": "code",
   "execution_count": 19,
   "metadata": {},
   "outputs": [
    {
     "data": {
      "text/plain": [
       "500000.0"
      ]
     },
     "execution_count": 19,
     "metadata": {},
     "output_type": "execute_result"
    }
   ],
   "source": [
    "min_mrna_reads"
   ]
  },
  {
   "cell_type": "code",
   "execution_count": 20,
   "metadata": {},
   "outputs": [
    {
     "data": {
      "text/plain": [
       "Text(0.5, 1.0, 'Number of reads mapped to CDS')"
      ]
     },
     "execution_count": 20,
     "metadata": {},
     "output_type": "execute_result"
    },
    {
     "data": {
      "image/png": "[encoded data removed]",
      "text/plain": [
       "<Figure size 432x288 with 1 Axes>"
      ]
     },
     "metadata": {},
     "output_type": "display_data"
    }
   ],
   "source": [
    "fig,ax = plt.subplots()\n",
    "ax.hist(DF_qc_stats['Assigned']/1e6,bins=50,alpha=0.8)\n",
    "ymin,ymax = ax.get_ylim()\n",
    "ax.vlines(min_mrna_reads/1e6,ymin,ymax,color='r')\n",
    "ax.set_ylim((ymin,ymax))\n",
    "ax.set_xlabel('# Reads (M)',fontsize=14)\n",
    "ax.set_ylabel('# Samples',fontsize=14)\n",
    "ax.set_title('Number of reads mapped to CDS',fontsize=16)"
   ]
  },
  {
   "cell_type": "markdown",
   "metadata": {},
   "source": [
    "<font size=\"4\">Identify samples with poor read depth:</font>"
   ]
  },
  {
   "cell_type": "code",
   "execution_count": 21,
   "metadata": {},
   "outputs": [
    {
     "data": {
      "text/html": [
       "<div>\n",
       "<style scoped>\n",
       "    .dataframe tbody tr th:only-of-type {\n",
       "        vertical-align: middle;\n",
       "    }\n",
       "\n",
       "    .dataframe tbody tr th {\n",
       "        vertical-align: top;\n",
       "    }\n",
       "\n",
       "    .dataframe thead th {\n",
       "        text-align: right;\n",
       "    }\n",
       "</style>\n",
       "<table border=\"1\" class=\"dataframe\">\n",
       "  <thead>\n",
       "    <tr style=\"text-align: right;\">\n",
       "      <th></th>\n",
       "      <th>Total</th>\n",
       "      <th>Assigned</th>\n",
       "      <th>Unassigned_rRNA</th>\n",
       "      <th>Unassigned_Unmapped</th>\n",
       "      <th>Unassigned_Read_Type</th>\n",
       "      <th>Unassigned_Singleton</th>\n",
       "      <th>Unassigned_MappingQuality</th>\n",
       "      <th>Unassigned_Chimera</th>\n",
       "      <th>Unassigned_FragmentLength</th>\n",
       "      <th>Unassigned_Duplicate</th>\n",
       "      <th>...</th>\n",
       "      <th>r_written</th>\n",
       "      <th>bp_processed</th>\n",
       "      <th>quality_trimmed</th>\n",
       "      <th>bp_written</th>\n",
       "      <th>percent_trimmed</th>\n",
       "      <th>se_sense</th>\n",
       "      <th>se_antisense</th>\n",
       "      <th>failed</th>\n",
       "      <th>pe_sense</th>\n",
       "      <th>pe_antisense</th>\n",
       "    </tr>\n",
       "  </thead>\n",
       "  <tbody>\n",
       "    <tr>\n",
       "      <th>SRX2769882</th>\n",
       "      <td>1850703.0</td>\n",
       "      <td>1170.0</td>\n",
       "      <td>1018.0</td>\n",
       "      <td>1823878.0</td>\n",
       "      <td>0.0</td>\n",
       "      <td>0.0</td>\n",
       "      <td>0.0</td>\n",
       "      <td>0.0</td>\n",
       "      <td>0.0</td>\n",
       "      <td>0.0</td>\n",
       "      <td>...</td>\n",
       "      <td>1917001</td>\n",
       "      <td>97767051</td>\n",
       "      <td>248683</td>\n",
       "      <td>90776643</td>\n",
       "      <td>7.150065</td>\n",
       "      <td>0.4375</td>\n",
       "      <td>0.1250</td>\n",
       "      <td>0.4375</td>\n",
       "      <td>0.0</td>\n",
       "      <td>0.0</td>\n",
       "    </tr>\n",
       "    <tr>\n",
       "      <th>SRX2769875</th>\n",
       "      <td>1686438.0</td>\n",
       "      <td>3022.0</td>\n",
       "      <td>1149.0</td>\n",
       "      <td>1622884.0</td>\n",
       "      <td>0.0</td>\n",
       "      <td>0.0</td>\n",
       "      <td>0.0</td>\n",
       "      <td>0.0</td>\n",
       "      <td>0.0</td>\n",
       "      <td>0.0</td>\n",
       "      <td>...</td>\n",
       "      <td>1829791</td>\n",
       "      <td>93319341</td>\n",
       "      <td>256142</td>\n",
       "      <td>82307262</td>\n",
       "      <td>11.800425</td>\n",
       "      <td>0.2188</td>\n",
       "      <td>0.1875</td>\n",
       "      <td>0.5938</td>\n",
       "      <td>0.0</td>\n",
       "      <td>0.0</td>\n",
       "    </tr>\n",
       "    <tr>\n",
       "      <th>SRX4105507</th>\n",
       "      <td>3904744.0</td>\n",
       "      <td>14988.0</td>\n",
       "      <td>28023.0</td>\n",
       "      <td>3751665.0</td>\n",
       "      <td>0.0</td>\n",
       "      <td>0.0</td>\n",
       "      <td>0.0</td>\n",
       "      <td>0.0</td>\n",
       "      <td>0.0</td>\n",
       "      <td>0.0</td>\n",
       "      <td>...</td>\n",
       "      <td>4384745</td>\n",
       "      <td>219237250</td>\n",
       "      <td>439658</td>\n",
       "      <td>193335193</td>\n",
       "      <td>11.814624</td>\n",
       "      <td>0.0000</td>\n",
       "      <td>0.8710</td>\n",
       "      <td>0.1290</td>\n",
       "      <td>0.0</td>\n",
       "      <td>0.0</td>\n",
       "    </tr>\n",
       "    <tr>\n",
       "      <th>SRX4105506</th>\n",
       "      <td>4480833.0</td>\n",
       "      <td>17513.0</td>\n",
       "      <td>33335.0</td>\n",
       "      <td>4301719.0</td>\n",
       "      <td>0.0</td>\n",
       "      <td>0.0</td>\n",
       "      <td>0.0</td>\n",
       "      <td>0.0</td>\n",
       "      <td>0.0</td>\n",
       "      <td>0.0</td>\n",
       "      <td>...</td>\n",
       "      <td>4950647</td>\n",
       "      <td>247532350</td>\n",
       "      <td>525110</td>\n",
       "      <td>221888156</td>\n",
       "      <td>10.359936</td>\n",
       "      <td>0.0000</td>\n",
       "      <td>0.6964</td>\n",
       "      <td>0.3036</td>\n",
       "      <td>0.0</td>\n",
       "      <td>0.0</td>\n",
       "    </tr>\n",
       "    <tr>\n",
       "      <th>SRX4105532</th>\n",
       "      <td>3052717.0</td>\n",
       "      <td>25483.0</td>\n",
       "      <td>94531.0</td>\n",
       "      <td>2838296.0</td>\n",
       "      <td>0.0</td>\n",
       "      <td>0.0</td>\n",
       "      <td>0.0</td>\n",
       "      <td>0.0</td>\n",
       "      <td>0.0</td>\n",
       "      <td>0.0</td>\n",
       "      <td>...</td>\n",
       "      <td>3156162</td>\n",
       "      <td>157808100</td>\n",
       "      <td>159814</td>\n",
       "      <td>151199821</td>\n",
       "      <td>4.187541</td>\n",
       "      <td>0.0294</td>\n",
       "      <td>0.4412</td>\n",
       "      <td>0.5294</td>\n",
       "      <td>0.0</td>\n",
       "      <td>0.0</td>\n",
       "    </tr>\n",
       "    <tr>\n",
       "      <th>SRX4105531</th>\n",
       "      <td>5192752.0</td>\n",
       "      <td>44130.0</td>\n",
       "      <td>165063.0</td>\n",
       "      <td>4820531.0</td>\n",
       "      <td>0.0</td>\n",
       "      <td>0.0</td>\n",
       "      <td>0.0</td>\n",
       "      <td>0.0</td>\n",
       "      <td>0.0</td>\n",
       "      <td>0.0</td>\n",
       "      <td>...</td>\n",
       "      <td>5339157</td>\n",
       "      <td>266957850</td>\n",
       "      <td>419672</td>\n",
       "      <td>257177202</td>\n",
       "      <td>3.663742</td>\n",
       "      <td>0.0840</td>\n",
       "      <td>0.4504</td>\n",
       "      <td>0.4656</td>\n",
       "      <td>0.0</td>\n",
       "      <td>0.0</td>\n",
       "    </tr>\n",
       "    <tr>\n",
       "      <th>SRX063254</th>\n",
       "      <td>20172997.0</td>\n",
       "      <td>57162.0</td>\n",
       "      <td>402000.0</td>\n",
       "      <td>19457855.0</td>\n",
       "      <td>0.0</td>\n",
       "      <td>0.0</td>\n",
       "      <td>0.0</td>\n",
       "      <td>0.0</td>\n",
       "      <td>0.0</td>\n",
       "      <td>0.0</td>\n",
       "      <td>...</td>\n",
       "      <td>20384186</td>\n",
       "      <td>856135812</td>\n",
       "      <td>11398963</td>\n",
       "      <td>824716283</td>\n",
       "      <td>3.669923</td>\n",
       "      <td>0.4724</td>\n",
       "      <td>0.4000</td>\n",
       "      <td>0.1276</td>\n",
       "      <td>0.0</td>\n",
       "      <td>0.0</td>\n",
       "    </tr>\n",
       "    <tr>\n",
       "      <th>SRX063253</th>\n",
       "      <td>20226226.0</td>\n",
       "      <td>58955.0</td>\n",
       "      <td>416146.0</td>\n",
       "      <td>19485961.0</td>\n",
       "      <td>0.0</td>\n",
       "      <td>0.0</td>\n",
       "      <td>0.0</td>\n",
       "      <td>0.0</td>\n",
       "      <td>0.0</td>\n",
       "      <td>0.0</td>\n",
       "      <td>...</td>\n",
       "      <td>20441541</td>\n",
       "      <td>858544722</td>\n",
       "      <td>11817199</td>\n",
       "      <td>826671169</td>\n",
       "      <td>3.712509</td>\n",
       "      <td>0.4291</td>\n",
       "      <td>0.4347</td>\n",
       "      <td>0.1362</td>\n",
       "      <td>0.0</td>\n",
       "      <td>0.0</td>\n",
       "    </tr>\n",
       "    <tr>\n",
       "      <th>SRX4105521</th>\n",
       "      <td>9670967.0</td>\n",
       "      <td>74532.0</td>\n",
       "      <td>428855.0</td>\n",
       "      <td>8867448.0</td>\n",
       "      <td>0.0</td>\n",
       "      <td>0.0</td>\n",
       "      <td>0.0</td>\n",
       "      <td>0.0</td>\n",
       "      <td>0.0</td>\n",
       "      <td>0.0</td>\n",
       "      <td>...</td>\n",
       "      <td>9680868</td>\n",
       "      <td>484043400</td>\n",
       "      <td>5615017</td>\n",
       "      <td>473103413</td>\n",
       "      <td>2.260125</td>\n",
       "      <td>0.1947</td>\n",
       "      <td>0.4526</td>\n",
       "      <td>0.3526</td>\n",
       "      <td>0.0</td>\n",
       "      <td>0.0</td>\n",
       "    </tr>\n",
       "    <tr>\n",
       "      <th>SRX4105524</th>\n",
       "      <td>13276464.0</td>\n",
       "      <td>85211.0</td>\n",
       "      <td>748159.0</td>\n",
       "      <td>12408724.0</td>\n",
       "      <td>0.0</td>\n",
       "      <td>0.0</td>\n",
       "      <td>0.0</td>\n",
       "      <td>0.0</td>\n",
       "      <td>0.0</td>\n",
       "      <td>0.0</td>\n",
       "      <td>...</td>\n",
       "      <td>13300347</td>\n",
       "      <td>665017350</td>\n",
       "      <td>7438296</td>\n",
       "      <td>650323788</td>\n",
       "      <td>2.209501</td>\n",
       "      <td>0.2760</td>\n",
       "      <td>0.4072</td>\n",
       "      <td>0.3167</td>\n",
       "      <td>0.0</td>\n",
       "      <td>0.0</td>\n",
       "    </tr>\n",
       "    <tr>\n",
       "      <th>SRX4105519</th>\n",
       "      <td>2353976.0</td>\n",
       "      <td>97745.0</td>\n",
       "      <td>405862.0</td>\n",
       "      <td>1758182.0</td>\n",
       "      <td>0.0</td>\n",
       "      <td>0.0</td>\n",
       "      <td>0.0</td>\n",
       "      <td>0.0</td>\n",
       "      <td>0.0</td>\n",
       "      <td>0.0</td>\n",
       "      <td>...</td>\n",
       "      <td>2411178</td>\n",
       "      <td>120558900</td>\n",
       "      <td>164143</td>\n",
       "      <td>116602720</td>\n",
       "      <td>3.281533</td>\n",
       "      <td>0.1308</td>\n",
       "      <td>0.3634</td>\n",
       "      <td>0.5058</td>\n",
       "      <td>0.0</td>\n",
       "      <td>0.0</td>\n",
       "    </tr>\n",
       "    <tr>\n",
       "      <th>SRX4105523</th>\n",
       "      <td>11029356.0</td>\n",
       "      <td>130222.0</td>\n",
       "      <td>887243.0</td>\n",
       "      <td>9958347.0</td>\n",
       "      <td>0.0</td>\n",
       "      <td>0.0</td>\n",
       "      <td>0.0</td>\n",
       "      <td>0.0</td>\n",
       "      <td>0.0</td>\n",
       "      <td>0.0</td>\n",
       "      <td>...</td>\n",
       "      <td>11049972</td>\n",
       "      <td>552498600</td>\n",
       "      <td>6232871</td>\n",
       "      <td>540197484</td>\n",
       "      <td>2.226452</td>\n",
       "      <td>0.2138</td>\n",
       "      <td>0.3539</td>\n",
       "      <td>0.4323</td>\n",
       "      <td>0.0</td>\n",
       "      <td>0.0</td>\n",
       "    </tr>\n",
       "    <tr>\n",
       "      <th>SRX4105515</th>\n",
       "      <td>3472019.0</td>\n",
       "      <td>142663.0</td>\n",
       "      <td>737226.0</td>\n",
       "      <td>2519224.0</td>\n",
       "      <td>0.0</td>\n",
       "      <td>0.0</td>\n",
       "      <td>0.0</td>\n",
       "      <td>0.0</td>\n",
       "      <td>0.0</td>\n",
       "      <td>0.0</td>\n",
       "      <td>...</td>\n",
       "      <td>3473283</td>\n",
       "      <td>257347134</td>\n",
       "      <td>241703</td>\n",
       "      <td>256574318</td>\n",
       "      <td>0.300301</td>\n",
       "      <td>0.1667</td>\n",
       "      <td>0.4740</td>\n",
       "      <td>0.3593</td>\n",
       "      <td>0.0</td>\n",
       "      <td>0.0</td>\n",
       "    </tr>\n",
       "    <tr>\n",
       "      <th>SRX4105520</th>\n",
       "      <td>13620440.0</td>\n",
       "      <td>161106.0</td>\n",
       "      <td>671491.0</td>\n",
       "      <td>12345355.0</td>\n",
       "      <td>0.0</td>\n",
       "      <td>0.0</td>\n",
       "      <td>0.0</td>\n",
       "      <td>0.0</td>\n",
       "      <td>0.0</td>\n",
       "      <td>0.0</td>\n",
       "      <td>...</td>\n",
       "      <td>13630567</td>\n",
       "      <td>681528350</td>\n",
       "      <td>7562828</td>\n",
       "      <td>667130905</td>\n",
       "      <td>2.112523</td>\n",
       "      <td>0.1802</td>\n",
       "      <td>0.4938</td>\n",
       "      <td>0.3259</td>\n",
       "      <td>0.0</td>\n",
       "      <td>0.0</td>\n",
       "    </tr>\n",
       "    <tr>\n",
       "      <th>SRX2356920</th>\n",
       "      <td>13539891.0</td>\n",
       "      <td>210383.0</td>\n",
       "      <td>11344104.0</td>\n",
       "      <td>535188.0</td>\n",
       "      <td>0.0</td>\n",
       "      <td>0.0</td>\n",
       "      <td>0.0</td>\n",
       "      <td>0.0</td>\n",
       "      <td>0.0</td>\n",
       "      <td>0.0</td>\n",
       "      <td>...</td>\n",
       "      <td>13544128</td>\n",
       "      <td>677206400</td>\n",
       "      <td>2100382</td>\n",
       "      <td>670592078</td>\n",
       "      <td>0.976707</td>\n",
       "      <td>0.0616</td>\n",
       "      <td>0.6903</td>\n",
       "      <td>0.2480</td>\n",
       "      <td>0.0</td>\n",
       "      <td>0.0</td>\n",
       "    </tr>\n",
       "    <tr>\n",
       "      <th>SRX2356918</th>\n",
       "      <td>10417045.0</td>\n",
       "      <td>213185.0</td>\n",
       "      <td>9082727.0</td>\n",
       "      <td>328797.0</td>\n",
       "      <td>0.0</td>\n",
       "      <td>0.0</td>\n",
       "      <td>0.0</td>\n",
       "      <td>0.0</td>\n",
       "      <td>0.0</td>\n",
       "      <td>0.0</td>\n",
       "      <td>...</td>\n",
       "      <td>10419250</td>\n",
       "      <td>520962500</td>\n",
       "      <td>1660139</td>\n",
       "      <td>515949972</td>\n",
       "      <td>0.962167</td>\n",
       "      <td>0.0503</td>\n",
       "      <td>0.6620</td>\n",
       "      <td>0.2877</td>\n",
       "      <td>0.0</td>\n",
       "      <td>0.0</td>\n",
       "    </tr>\n",
       "    <tr>\n",
       "      <th>SRX2356931</th>\n",
       "      <td>12865353.0</td>\n",
       "      <td>215194.0</td>\n",
       "      <td>11487473.0</td>\n",
       "      <td>364498.0</td>\n",
       "      <td>0.0</td>\n",
       "      <td>0.0</td>\n",
       "      <td>0.0</td>\n",
       "      <td>0.0</td>\n",
       "      <td>0.0</td>\n",
       "      <td>0.0</td>\n",
       "      <td>...</td>\n",
       "      <td>12868733</td>\n",
       "      <td>643436650</td>\n",
       "      <td>2562770</td>\n",
       "      <td>636546297</td>\n",
       "      <td>1.070867</td>\n",
       "      <td>0.0916</td>\n",
       "      <td>0.4256</td>\n",
       "      <td>0.4828</td>\n",
       "      <td>0.0</td>\n",
       "      <td>0.0</td>\n",
       "    </tr>\n",
       "    <tr>\n",
       "      <th>SRX4105508</th>\n",
       "      <td>11263183.0</td>\n",
       "      <td>217944.0</td>\n",
       "      <td>275283.0</td>\n",
       "      <td>10389813.0</td>\n",
       "      <td>0.0</td>\n",
       "      <td>0.0</td>\n",
       "      <td>0.0</td>\n",
       "      <td>0.0</td>\n",
       "      <td>0.0</td>\n",
       "      <td>0.0</td>\n",
       "      <td>...</td>\n",
       "      <td>11279273</td>\n",
       "      <td>563963650</td>\n",
       "      <td>2015775</td>\n",
       "      <td>556089451</td>\n",
       "      <td>1.396225</td>\n",
       "      <td>0.1327</td>\n",
       "      <td>0.5265</td>\n",
       "      <td>0.3407</td>\n",
       "      <td>0.0</td>\n",
       "      <td>0.0</td>\n",
       "    </tr>\n",
       "    <tr>\n",
       "      <th>SRX2356932</th>\n",
       "      <td>13789883.0</td>\n",
       "      <td>222250.0</td>\n",
       "      <td>12208499.0</td>\n",
       "      <td>335507.0</td>\n",
       "      <td>0.0</td>\n",
       "      <td>0.0</td>\n",
       "      <td>0.0</td>\n",
       "      <td>0.0</td>\n",
       "      <td>0.0</td>\n",
       "      <td>0.0</td>\n",
       "      <td>...</td>\n",
       "      <td>13811308</td>\n",
       "      <td>690565400</td>\n",
       "      <td>2783243</td>\n",
       "      <td>681127270</td>\n",
       "      <td>1.366725</td>\n",
       "      <td>0.0963</td>\n",
       "      <td>0.4384</td>\n",
       "      <td>0.4653</td>\n",
       "      <td>0.0</td>\n",
       "      <td>0.0</td>\n",
       "    </tr>\n",
       "    <tr>\n",
       "      <th>SRX4105562</th>\n",
       "      <td>12147672.0</td>\n",
       "      <td>262988.0</td>\n",
       "      <td>1102649.0</td>\n",
       "      <td>10323754.0</td>\n",
       "      <td>0.0</td>\n",
       "      <td>0.0</td>\n",
       "      <td>0.0</td>\n",
       "      <td>0.0</td>\n",
       "      <td>0.0</td>\n",
       "      <td>0.0</td>\n",
       "      <td>...</td>\n",
       "      <td>12169171</td>\n",
       "      <td>608458550</td>\n",
       "      <td>6734342</td>\n",
       "      <td>594658020</td>\n",
       "      <td>2.268113</td>\n",
       "      <td>0.1321</td>\n",
       "      <td>0.5570</td>\n",
       "      <td>0.3109</td>\n",
       "      <td>0.0</td>\n",
       "      <td>0.0</td>\n",
       "    </tr>\n",
       "    <tr>\n",
       "      <th>SRX2356919</th>\n",
       "      <td>18379529.0</td>\n",
       "      <td>293049.0</td>\n",
       "      <td>16138771.0</td>\n",
       "      <td>522085.0</td>\n",
       "      <td>0.0</td>\n",
       "      <td>0.0</td>\n",
       "      <td>0.0</td>\n",
       "      <td>0.0</td>\n",
       "      <td>0.0</td>\n",
       "      <td>0.0</td>\n",
       "      <td>...</td>\n",
       "      <td>18382592</td>\n",
       "      <td>919129600</td>\n",
       "      <td>2859581</td>\n",
       "      <td>911002241</td>\n",
       "      <td>0.884245</td>\n",
       "      <td>0.0459</td>\n",
       "      <td>0.7042</td>\n",
       "      <td>0.2498</td>\n",
       "      <td>0.0</td>\n",
       "      <td>0.0</td>\n",
       "    </tr>\n",
       "    <tr>\n",
       "      <th>SRX2356930</th>\n",
       "      <td>12099681.0</td>\n",
       "      <td>297243.0</td>\n",
       "      <td>10751257.0</td>\n",
       "      <td>311902.0</td>\n",
       "      <td>0.0</td>\n",
       "      <td>0.0</td>\n",
       "      <td>0.0</td>\n",
       "      <td>0.0</td>\n",
       "      <td>0.0</td>\n",
       "      <td>0.0</td>\n",
       "      <td>...</td>\n",
       "      <td>12104059</td>\n",
       "      <td>605202950</td>\n",
       "      <td>2385215</td>\n",
       "      <td>598644704</td>\n",
       "      <td>1.083644</td>\n",
       "      <td>0.1032</td>\n",
       "      <td>0.4318</td>\n",
       "      <td>0.4650</td>\n",
       "      <td>0.0</td>\n",
       "      <td>0.0</td>\n",
       "    </tr>\n",
       "    <tr>\n",
       "      <th>SRX4105547</th>\n",
       "      <td>14484666.0</td>\n",
       "      <td>304108.0</td>\n",
       "      <td>771102.0</td>\n",
       "      <td>12909289.0</td>\n",
       "      <td>0.0</td>\n",
       "      <td>0.0</td>\n",
       "      <td>0.0</td>\n",
       "      <td>0.0</td>\n",
       "      <td>0.0</td>\n",
       "      <td>0.0</td>\n",
       "      <td>...</td>\n",
       "      <td>14501627</td>\n",
       "      <td>725081350</td>\n",
       "      <td>8007822</td>\n",
       "      <td>709204023</td>\n",
       "      <td>2.189730</td>\n",
       "      <td>0.2120</td>\n",
       "      <td>0.4810</td>\n",
       "      <td>0.3070</td>\n",
       "      <td>0.0</td>\n",
       "      <td>0.0</td>\n",
       "    </tr>\n",
       "    <tr>\n",
       "      <th>SRX2356916</th>\n",
       "      <td>8490206.0</td>\n",
       "      <td>305981.0</td>\n",
       "      <td>7574715.0</td>\n",
       "      <td>243496.0</td>\n",
       "      <td>0.0</td>\n",
       "      <td>0.0</td>\n",
       "      <td>0.0</td>\n",
       "      <td>0.0</td>\n",
       "      <td>0.0</td>\n",
       "      <td>0.0</td>\n",
       "      <td>...</td>\n",
       "      <td>8493090</td>\n",
       "      <td>424654500</td>\n",
       "      <td>1351128</td>\n",
       "      <td>420593304</td>\n",
       "      <td>0.956353</td>\n",
       "      <td>0.0423</td>\n",
       "      <td>0.6520</td>\n",
       "      <td>0.3058</td>\n",
       "      <td>0.0</td>\n",
       "      <td>0.0</td>\n",
       "    </tr>\n",
       "    <tr>\n",
       "      <th>SRX3312494</th>\n",
       "      <td>6153832.0</td>\n",
       "      <td>312258.0</td>\n",
       "      <td>5137.0</td>\n",
       "      <td>832717.0</td>\n",
       "      <td>0.0</td>\n",
       "      <td>0.0</td>\n",
       "      <td>0.0</td>\n",
       "      <td>0.0</td>\n",
       "      <td>0.0</td>\n",
       "      <td>0.0</td>\n",
       "      <td>...</td>\n",
       "      <td>6192125</td>\n",
       "      <td>309606250</td>\n",
       "      <td>248047</td>\n",
       "      <td>304183922</td>\n",
       "      <td>1.751363</td>\n",
       "      <td>0.3558</td>\n",
       "      <td>0.1311</td>\n",
       "      <td>0.5131</td>\n",
       "      <td>0.0</td>\n",
       "      <td>0.0</td>\n",
       "    </tr>\n",
       "    <tr>\n",
       "      <th>SRX2356917</th>\n",
       "      <td>10897421.0</td>\n",
       "      <td>312685.0</td>\n",
       "      <td>9603114.0</td>\n",
       "      <td>336604.0</td>\n",
       "      <td>0.0</td>\n",
       "      <td>0.0</td>\n",
       "      <td>0.0</td>\n",
       "      <td>0.0</td>\n",
       "      <td>0.0</td>\n",
       "      <td>0.0</td>\n",
       "      <td>...</td>\n",
       "      <td>10900565</td>\n",
       "      <td>545028250</td>\n",
       "      <td>1759553</td>\n",
       "      <td>539975549</td>\n",
       "      <td>0.927053</td>\n",
       "      <td>0.0587</td>\n",
       "      <td>0.5979</td>\n",
       "      <td>0.3434</td>\n",
       "      <td>0.0</td>\n",
       "      <td>0.0</td>\n",
       "    </tr>\n",
       "    <tr>\n",
       "      <th>SRX689242</th>\n",
       "      <td>1132707.0</td>\n",
       "      <td>326247.0</td>\n",
       "      <td>145218.0</td>\n",
       "      <td>244789.0</td>\n",
       "      <td>0.0</td>\n",
       "      <td>0.0</td>\n",
       "      <td>0.0</td>\n",
       "      <td>0.0</td>\n",
       "      <td>0.0</td>\n",
       "      <td>0.0</td>\n",
       "      <td>...</td>\n",
       "      <td>1167972</td>\n",
       "      <td>59566572</td>\n",
       "      <td>394720</td>\n",
       "      <td>56975830</td>\n",
       "      <td>4.349322</td>\n",
       "      <td>0.4259</td>\n",
       "      <td>0.3470</td>\n",
       "      <td>0.2272</td>\n",
       "      <td>0.0</td>\n",
       "      <td>0.0</td>\n",
       "    </tr>\n",
       "    <tr>\n",
       "      <th>SRX4105517</th>\n",
       "      <td>18311303.0</td>\n",
       "      <td>327276.0</td>\n",
       "      <td>1585085.0</td>\n",
       "      <td>16257673.0</td>\n",
       "      <td>0.0</td>\n",
       "      <td>0.0</td>\n",
       "      <td>0.0</td>\n",
       "      <td>0.0</td>\n",
       "      <td>0.0</td>\n",
       "      <td>0.0</td>\n",
       "      <td>...</td>\n",
       "      <td>18332347</td>\n",
       "      <td>916617350</td>\n",
       "      <td>10231207</td>\n",
       "      <td>895799386</td>\n",
       "      <td>2.271173</td>\n",
       "      <td>0.2388</td>\n",
       "      <td>0.3647</td>\n",
       "      <td>0.3965</td>\n",
       "      <td>0.0</td>\n",
       "      <td>0.0</td>\n",
       "    </tr>\n",
       "    <tr>\n",
       "      <th>SRX4105550</th>\n",
       "      <td>13741165.0</td>\n",
       "      <td>328485.0</td>\n",
       "      <td>1449070.0</td>\n",
       "      <td>11531612.0</td>\n",
       "      <td>0.0</td>\n",
       "      <td>0.0</td>\n",
       "      <td>0.0</td>\n",
       "      <td>0.0</td>\n",
       "      <td>0.0</td>\n",
       "      <td>0.0</td>\n",
       "      <td>...</td>\n",
       "      <td>13752960</td>\n",
       "      <td>687648000</td>\n",
       "      <td>7848356</td>\n",
       "      <td>672839431</td>\n",
       "      <td>2.153510</td>\n",
       "      <td>0.1987</td>\n",
       "      <td>0.4353</td>\n",
       "      <td>0.3660</td>\n",
       "      <td>0.0</td>\n",
       "      <td>0.0</td>\n",
       "    </tr>\n",
       "    <tr>\n",
       "      <th>SRX3176797</th>\n",
       "      <td>15359038.0</td>\n",
       "      <td>345290.0</td>\n",
       "      <td>111879.0</td>\n",
       "      <td>7759821.0</td>\n",
       "      <td>0.0</td>\n",
       "      <td>0.0</td>\n",
       "      <td>0.0</td>\n",
       "      <td>0.0</td>\n",
       "      <td>0.0</td>\n",
       "      <td>0.0</td>\n",
       "      <td>...</td>\n",
       "      <td>15363622</td>\n",
       "      <td>768181100</td>\n",
       "      <td>529304</td>\n",
       "      <td>760741964</td>\n",
       "      <td>0.968409</td>\n",
       "      <td>0.3144</td>\n",
       "      <td>0.1519</td>\n",
       "      <td>0.5337</td>\n",
       "      <td>0.0</td>\n",
       "      <td>0.0</td>\n",
       "    </tr>\n",
       "    <tr>\n",
       "      <th>SRX4105567</th>\n",
       "      <td>13096105.0</td>\n",
       "      <td>346170.0</td>\n",
       "      <td>823317.0</td>\n",
       "      <td>11405551.0</td>\n",
       "      <td>0.0</td>\n",
       "      <td>0.0</td>\n",
       "      <td>0.0</td>\n",
       "      <td>0.0</td>\n",
       "      <td>0.0</td>\n",
       "      <td>0.0</td>\n",
       "      <td>...</td>\n",
       "      <td>13229291</td>\n",
       "      <td>661464550</td>\n",
       "      <td>7169912</td>\n",
       "      <td>641950249</td>\n",
       "      <td>2.950166</td>\n",
       "      <td>0.2100</td>\n",
       "      <td>0.4637</td>\n",
       "      <td>0.3263</td>\n",
       "      <td>0.0</td>\n",
       "      <td>0.0</td>\n",
       "    </tr>\n",
       "    <tr>\n",
       "      <th>SRX2769877</th>\n",
       "      <td>1418588.0</td>\n",
       "      <td>387898.0</td>\n",
       "      <td>403490.0</td>\n",
       "      <td>78186.0</td>\n",
       "      <td>0.0</td>\n",
       "      <td>0.0</td>\n",
       "      <td>0.0</td>\n",
       "      <td>0.0</td>\n",
       "      <td>0.0</td>\n",
       "      <td>0.0</td>\n",
       "      <td>...</td>\n",
       "      <td>4904972</td>\n",
       "      <td>176578992</td>\n",
       "      <td>110335234</td>\n",
       "      <td>65036566</td>\n",
       "      <td>63.168571</td>\n",
       "      <td>0.2722</td>\n",
       "      <td>0.4265</td>\n",
       "      <td>0.3013</td>\n",
       "      <td>0.0</td>\n",
       "      <td>0.0</td>\n",
       "    </tr>\n",
       "    <tr>\n",
       "      <th>SRX4105553</th>\n",
       "      <td>14528857.0</td>\n",
       "      <td>395660.0</td>\n",
       "      <td>1972394.0</td>\n",
       "      <td>11719137.0</td>\n",
       "      <td>0.0</td>\n",
       "      <td>0.0</td>\n",
       "      <td>0.0</td>\n",
       "      <td>0.0</td>\n",
       "      <td>0.0</td>\n",
       "      <td>0.0</td>\n",
       "      <td>...</td>\n",
       "      <td>14541575</td>\n",
       "      <td>727078750</td>\n",
       "      <td>8460920</td>\n",
       "      <td>711111880</td>\n",
       "      <td>2.196030</td>\n",
       "      <td>0.1688</td>\n",
       "      <td>0.4760</td>\n",
       "      <td>0.3551</td>\n",
       "      <td>0.0</td>\n",
       "      <td>0.0</td>\n",
       "    </tr>\n",
       "    <tr>\n",
       "      <th>SRX4105535</th>\n",
       "      <td>6680652.0</td>\n",
       "      <td>422254.0</td>\n",
       "      <td>1211236.0</td>\n",
       "      <td>4885142.0</td>\n",
       "      <td>0.0</td>\n",
       "      <td>0.0</td>\n",
       "      <td>0.0</td>\n",
       "      <td>0.0</td>\n",
       "      <td>0.0</td>\n",
       "      <td>0.0</td>\n",
       "      <td>...</td>\n",
       "      <td>7224940</td>\n",
       "      <td>361247000</td>\n",
       "      <td>745550</td>\n",
       "      <td>330464346</td>\n",
       "      <td>8.521221</td>\n",
       "      <td>0.2270</td>\n",
       "      <td>0.3941</td>\n",
       "      <td>0.3788</td>\n",
       "      <td>0.0</td>\n",
       "      <td>0.0</td>\n",
       "    </tr>\n",
       "    <tr>\n",
       "      <th>SRX4105554</th>\n",
       "      <td>13113365.0</td>\n",
       "      <td>449919.0</td>\n",
       "      <td>1604975.0</td>\n",
       "      <td>10930734.0</td>\n",
       "      <td>0.0</td>\n",
       "      <td>0.0</td>\n",
       "      <td>0.0</td>\n",
       "      <td>0.0</td>\n",
       "      <td>0.0</td>\n",
       "      <td>0.0</td>\n",
       "      <td>...</td>\n",
       "      <td>13161952</td>\n",
       "      <td>658097600</td>\n",
       "      <td>7156954</td>\n",
       "      <td>642704482</td>\n",
       "      <td>2.339033</td>\n",
       "      <td>0.2344</td>\n",
       "      <td>0.4299</td>\n",
       "      <td>0.3357</td>\n",
       "      <td>0.0</td>\n",
       "      <td>0.0</td>\n",
       "    </tr>\n",
       "    <tr>\n",
       "      <th>SRX4105541</th>\n",
       "      <td>834150.0</td>\n",
       "      <td>451457.0</td>\n",
       "      <td>34550.0</td>\n",
       "      <td>137843.0</td>\n",
       "      <td>0.0</td>\n",
       "      <td>0.0</td>\n",
       "      <td>0.0</td>\n",
       "      <td>0.0</td>\n",
       "      <td>0.0</td>\n",
       "      <td>0.0</td>\n",
       "      <td>...</td>\n",
       "      <td>926185</td>\n",
       "      <td>68294666</td>\n",
       "      <td>1233672</td>\n",
       "      <td>60912558</td>\n",
       "      <td>10.809201</td>\n",
       "      <td>0.1645</td>\n",
       "      <td>0.4752</td>\n",
       "      <td>0.3604</td>\n",
       "      <td>0.0</td>\n",
       "      <td>0.0</td>\n",
       "    </tr>\n",
       "    <tr>\n",
       "      <th>SRX4105549</th>\n",
       "      <td>8364896.0</td>\n",
       "      <td>467765.0</td>\n",
       "      <td>1372019.0</td>\n",
       "      <td>6210283.0</td>\n",
       "      <td>0.0</td>\n",
       "      <td>0.0</td>\n",
       "      <td>0.0</td>\n",
       "      <td>0.0</td>\n",
       "      <td>0.0</td>\n",
       "      <td>0.0</td>\n",
       "      <td>...</td>\n",
       "      <td>8555852</td>\n",
       "      <td>427792600</td>\n",
       "      <td>843924</td>\n",
       "      <td>414333722</td>\n",
       "      <td>3.146122</td>\n",
       "      <td>0.1059</td>\n",
       "      <td>0.5965</td>\n",
       "      <td>0.2976</td>\n",
       "      <td>0.0</td>\n",
       "      <td>0.0</td>\n",
       "    </tr>\n",
       "    <tr>\n",
       "      <th>SRX3176815</th>\n",
       "      <td>13725564.0</td>\n",
       "      <td>474101.0</td>\n",
       "      <td>4014.0</td>\n",
       "      <td>1381664.0</td>\n",
       "      <td>0.0</td>\n",
       "      <td>0.0</td>\n",
       "      <td>0.0</td>\n",
       "      <td>0.0</td>\n",
       "      <td>0.0</td>\n",
       "      <td>0.0</td>\n",
       "      <td>...</td>\n",
       "      <td>13774421</td>\n",
       "      <td>688721050</td>\n",
       "      <td>2774086</td>\n",
       "      <td>677221850</td>\n",
       "      <td>1.669645</td>\n",
       "      <td>0.2802</td>\n",
       "      <td>0.1270</td>\n",
       "      <td>0.5928</td>\n",
       "      <td>0.0</td>\n",
       "      <td>0.0</td>\n",
       "    </tr>\n",
       "    <tr>\n",
       "      <th>SRX3312476</th>\n",
       "      <td>11343259.0</td>\n",
       "      <td>476514.0</td>\n",
       "      <td>21970.0</td>\n",
       "      <td>1973378.0</td>\n",
       "      <td>0.0</td>\n",
       "      <td>0.0</td>\n",
       "      <td>0.0</td>\n",
       "      <td>0.0</td>\n",
       "      <td>0.0</td>\n",
       "      <td>0.0</td>\n",
       "      <td>...</td>\n",
       "      <td>11363112</td>\n",
       "      <td>568155600</td>\n",
       "      <td>541948</td>\n",
       "      <td>560961055</td>\n",
       "      <td>1.266298</td>\n",
       "      <td>0.3329</td>\n",
       "      <td>0.1308</td>\n",
       "      <td>0.5363</td>\n",
       "      <td>0.0</td>\n",
       "      <td>0.0</td>\n",
       "    </tr>\n",
       "    <tr>\n",
       "      <th>SRX259789</th>\n",
       "      <td>15400005.0</td>\n",
       "      <td>482080.0</td>\n",
       "      <td>13823390.0</td>\n",
       "      <td>901332.0</td>\n",
       "      <td>0.0</td>\n",
       "      <td>0.0</td>\n",
       "      <td>0.0</td>\n",
       "      <td>0.0</td>\n",
       "      <td>0.0</td>\n",
       "      <td>0.0</td>\n",
       "      <td>...</td>\n",
       "      <td>16475592</td>\n",
       "      <td>1664034792</td>\n",
       "      <td>164850179</td>\n",
       "      <td>1465369714</td>\n",
       "      <td>11.938757</td>\n",
       "      <td>0.3141</td>\n",
       "      <td>0.2763</td>\n",
       "      <td>0.4095</td>\n",
       "      <td>0.0</td>\n",
       "      <td>0.0</td>\n",
       "    </tr>\n",
       "    <tr>\n",
       "      <th>SRX2356913</th>\n",
       "      <td>8723592.0</td>\n",
       "      <td>485240.0</td>\n",
       "      <td>7726012.0</td>\n",
       "      <td>249091.0</td>\n",
       "      <td>0.0</td>\n",
       "      <td>0.0</td>\n",
       "      <td>0.0</td>\n",
       "      <td>0.0</td>\n",
       "      <td>0.0</td>\n",
       "      <td>0.0</td>\n",
       "      <td>...</td>\n",
       "      <td>8726787</td>\n",
       "      <td>436339350</td>\n",
       "      <td>1415078</td>\n",
       "      <td>432101274</td>\n",
       "      <td>0.971280</td>\n",
       "      <td>0.0266</td>\n",
       "      <td>0.8086</td>\n",
       "      <td>0.1649</td>\n",
       "      <td>0.0</td>\n",
       "      <td>0.0</td>\n",
       "    </tr>\n",
       "    <tr>\n",
       "      <th>SRX4105534</th>\n",
       "      <td>7692735.0</td>\n",
       "      <td>486924.0</td>\n",
       "      <td>1416305.0</td>\n",
       "      <td>5602633.0</td>\n",
       "      <td>0.0</td>\n",
       "      <td>0.0</td>\n",
       "      <td>0.0</td>\n",
       "      <td>0.0</td>\n",
       "      <td>0.0</td>\n",
       "      <td>0.0</td>\n",
       "      <td>...</td>\n",
       "      <td>8244829</td>\n",
       "      <td>412241450</td>\n",
       "      <td>568766</td>\n",
       "      <td>380654030</td>\n",
       "      <td>7.662359</td>\n",
       "      <td>0.2039</td>\n",
       "      <td>0.4032</td>\n",
       "      <td>0.3928</td>\n",
       "      <td>0.0</td>\n",
       "      <td>0.0</td>\n",
       "    </tr>\n",
       "    <tr>\n",
       "      <th>SRX4105518</th>\n",
       "      <td>14559724.0</td>\n",
       "      <td>489148.0</td>\n",
       "      <td>2705540.0</td>\n",
       "      <td>10592348.0</td>\n",
       "      <td>0.0</td>\n",
       "      <td>0.0</td>\n",
       "      <td>0.0</td>\n",
       "      <td>0.0</td>\n",
       "      <td>0.0</td>\n",
       "      <td>0.0</td>\n",
       "      <td>...</td>\n",
       "      <td>15136095</td>\n",
       "      <td>756804750</td>\n",
       "      <td>808219</td>\n",
       "      <td>721405237</td>\n",
       "      <td>4.677496</td>\n",
       "      <td>0.1237</td>\n",
       "      <td>0.3041</td>\n",
       "      <td>0.5723</td>\n",
       "      <td>0.0</td>\n",
       "      <td>0.0</td>\n",
       "    </tr>\n",
       "    <tr>\n",
       "      <th>SRX3312493</th>\n",
       "      <td>10483460.0</td>\n",
       "      <td>498079.0</td>\n",
       "      <td>13895.0</td>\n",
       "      <td>1499436.0</td>\n",
       "      <td>0.0</td>\n",
       "      <td>0.0</td>\n",
       "      <td>0.0</td>\n",
       "      <td>0.0</td>\n",
       "      <td>0.0</td>\n",
       "      <td>0.0</td>\n",
       "      <td>...</td>\n",
       "      <td>10513016</td>\n",
       "      <td>525650800</td>\n",
       "      <td>368681</td>\n",
       "      <td>518170803</td>\n",
       "      <td>1.422997</td>\n",
       "      <td>0.3432</td>\n",
       "      <td>0.1464</td>\n",
       "      <td>0.5104</td>\n",
       "      <td>0.0</td>\n",
       "      <td>0.0</td>\n",
       "    </tr>\n",
       "  </tbody>\n",
       "</table>\n",
       "<p>44 rows × 54 columns</p>\n",
       "</div>"
      ],
      "text/plain": [
       "                 Total  Assigned  Unassigned_rRNA  Unassigned_Unmapped  \\\n",
       "SRX2769882   1850703.0    1170.0           1018.0            1823878.0   \n",
       "SRX2769875   1686438.0    3022.0           1149.0            1622884.0   \n",
       "SRX4105507   3904744.0   14988.0          28023.0            3751665.0   \n",
       "SRX4105506   4480833.0   17513.0          33335.0            4301719.0   \n",
       "SRX4105532   3052717.0   25483.0          94531.0            2838296.0   \n",
       "SRX4105531   5192752.0   44130.0         165063.0            4820531.0   \n",
       "SRX063254   20172997.0   57162.0         402000.0           19457855.0   \n",
       "SRX063253   20226226.0   58955.0         416146.0           19485961.0   \n",
       "SRX4105521   9670967.0   74532.0         428855.0            8867448.0   \n",
       "SRX4105524  13276464.0   85211.0         748159.0           12408724.0   \n",
       "SRX4105519   2353976.0   97745.0         405862.0            1758182.0   \n",
       "SRX4105523  11029356.0  130222.0         887243.0            9958347.0   \n",
       "SRX4105515   3472019.0  142663.0         737226.0            2519224.0   \n",
       "SRX4105520  13620440.0  161106.0         671491.0           12345355.0   \n",
       "SRX2356920  13539891.0  210383.0       11344104.0             535188.0   \n",
       "SRX2356918  10417045.0  213185.0        9082727.0             328797.0   \n",
       "SRX2356931  12865353.0  215194.0       11487473.0             364498.0   \n",
       "SRX4105508  11263183.0  217944.0         275283.0           10389813.0   \n",
       "SRX2356932  13789883.0  222250.0       12208499.0             335507.0   \n",
       "SRX4105562  12147672.0  262988.0        1102649.0           10323754.0   \n",
       "SRX2356919  18379529.0  293049.0       16138771.0             522085.0   \n",
       "SRX2356930  12099681.0  297243.0       10751257.0             311902.0   \n",
       "SRX4105547  14484666.0  304108.0         771102.0           12909289.0   \n",
       "SRX2356916   8490206.0  305981.0        7574715.0             243496.0   \n",
       "SRX3312494   6153832.0  312258.0           5137.0             832717.0   \n",
       "SRX2356917  10897421.0  312685.0        9603114.0             336604.0   \n",
       "SRX689242    1132707.0  326247.0         145218.0             244789.0   \n",
       "SRX4105517  18311303.0  327276.0        1585085.0           16257673.0   \n",
       "SRX4105550  13741165.0  328485.0        1449070.0           11531612.0   \n",
       "SRX3176797  15359038.0  345290.0         111879.0            7759821.0   \n",
       "SRX4105567  13096105.0  346170.0         823317.0           11405551.0   \n",
       "SRX2769877   1418588.0  387898.0         403490.0              78186.0   \n",
       "SRX4105553  14528857.0  395660.0        1972394.0           11719137.0   \n",
       "SRX4105535   6680652.0  422254.0        1211236.0            4885142.0   \n",
       "SRX4105554  13113365.0  449919.0        1604975.0           10930734.0   \n",
       "SRX4105541    834150.0  451457.0          34550.0             137843.0   \n",
       "SRX4105549   8364896.0  467765.0        1372019.0            6210283.0   \n",
       "SRX3176815  13725564.0  474101.0           4014.0            1381664.0   \n",
       "SRX3312476  11343259.0  476514.0          21970.0            1973378.0   \n",
       "SRX259789   15400005.0  482080.0       13823390.0             901332.0   \n",
       "SRX2356913   8723592.0  485240.0        7726012.0             249091.0   \n",
       "SRX4105534   7692735.0  486924.0        1416305.0            5602633.0   \n",
       "SRX4105518  14559724.0  489148.0        2705540.0           10592348.0   \n",
       "SRX3312493  10483460.0  498079.0          13895.0            1499436.0   \n",
       "\n",
       "            Unassigned_Read_Type  Unassigned_Singleton  \\\n",
       "SRX2769882                   0.0                   0.0   \n",
       "SRX2769875                   0.0                   0.0   \n",
       "SRX4105507                   0.0                   0.0   \n",
       "SRX4105506                   0.0                   0.0   \n",
       "SRX4105532                   0.0                   0.0   \n",
       "SRX4105531                   0.0                   0.0   \n",
       "SRX063254                    0.0                   0.0   \n",
       "SRX063253                    0.0                   0.0   \n",
       "SRX4105521                   0.0                   0.0   \n",
       "SRX4105524                   0.0                   0.0   \n",
       "SRX4105519                   0.0                   0.0   \n",
       "SRX4105523                   0.0                   0.0   \n",
       "SRX4105515                   0.0                   0.0   \n",
       "SRX4105520                   0.0                   0.0   \n",
       "SRX2356920                   0.0                   0.0   \n",
       "SRX2356918                   0.0                   0.0   \n",
       "SRX2356931                   0.0                   0.0   \n",
       "SRX4105508                   0.0                   0.0   \n",
       "SRX2356932                   0.0                   0.0   \n",
       "SRX4105562                   0.0                   0.0   \n",
       "SRX2356919                   0.0                   0.0   \n",
       "SRX2356930                   0.0                   0.0   \n",
       "SRX4105547                   0.0                   0.0   \n",
       "SRX2356916                   0.0                   0.0   \n",
       "SRX3312494                   0.0                   0.0   \n",
       "SRX2356917                   0.0                   0.0   \n",
       "SRX689242                    0.0                   0.0   \n",
       "SRX4105517                   0.0                   0.0   \n",
       "SRX4105550                   0.0                   0.0   \n",
       "SRX3176797                   0.0                   0.0   \n",
       "SRX4105567                   0.0                   0.0   \n",
       "SRX2769877                   0.0                   0.0   \n",
       "SRX4105553                   0.0                   0.0   \n",
       "SRX4105535                   0.0                   0.0   \n",
       "SRX4105554                   0.0                   0.0   \n",
       "SRX4105541                   0.0                   0.0   \n",
       "SRX4105549                   0.0                   0.0   \n",
       "SRX3176815                   0.0                   0.0   \n",
       "SRX3312476                   0.0                   0.0   \n",
       "SRX259789                    0.0                   0.0   \n",
       "SRX2356913                   0.0                   0.0   \n",
       "SRX4105534                   0.0                   0.0   \n",
       "SRX4105518                   0.0                   0.0   \n",
       "SRX3312493                   0.0                   0.0   \n",
       "\n",
       "            Unassigned_MappingQuality  Unassigned_Chimera  \\\n",
       "SRX2769882                        0.0                 0.0   \n",
       "SRX2769875                        0.0                 0.0   \n",
       "SRX4105507                        0.0                 0.0   \n",
       "SRX4105506                        0.0                 0.0   \n",
       "SRX4105532                        0.0                 0.0   \n",
       "SRX4105531                        0.0                 0.0   \n",
       "SRX063254                         0.0                 0.0   \n",
       "SRX063253                         0.0                 0.0   \n",
       "SRX4105521                        0.0                 0.0   \n",
       "SRX4105524                        0.0                 0.0   \n",
       "SRX4105519                        0.0                 0.0   \n",
       "SRX4105523                        0.0                 0.0   \n",
       "SRX4105515                        0.0                 0.0   \n",
       "SRX4105520                        0.0                 0.0   \n",
       "SRX2356920                        0.0                 0.0   \n",
       "SRX2356918                        0.0                 0.0   \n",
       "SRX2356931                        0.0                 0.0   \n",
       "SRX4105508                        0.0                 0.0   \n",
       "SRX2356932                        0.0                 0.0   \n",
       "SRX4105562                        0.0                 0.0   \n",
       "SRX2356919                        0.0                 0.0   \n",
       "SRX2356930                        0.0                 0.0   \n",
       "SRX4105547                        0.0                 0.0   \n",
       "SRX2356916                        0.0                 0.0   \n",
       "SRX3312494                        0.0                 0.0   \n",
       "SRX2356917                        0.0                 0.0   \n",
       "SRX689242                         0.0                 0.0   \n",
       "SRX4105517                        0.0                 0.0   \n",
       "SRX4105550                        0.0                 0.0   \n",
       "SRX3176797                        0.0                 0.0   \n",
       "SRX4105567                        0.0                 0.0   \n",
       "SRX2769877                        0.0                 0.0   \n",
       "SRX4105553                        0.0                 0.0   \n",
       "SRX4105535                        0.0                 0.0   \n",
       "SRX4105554                        0.0                 0.0   \n",
       "SRX4105541                        0.0                 0.0   \n",
       "SRX4105549                        0.0                 0.0   \n",
       "SRX3176815                        0.0                 0.0   \n",
       "SRX3312476                        0.0                 0.0   \n",
       "SRX259789                         0.0                 0.0   \n",
       "SRX2356913                        0.0                 0.0   \n",
       "SRX4105534                        0.0                 0.0   \n",
       "SRX4105518                        0.0                 0.0   \n",
       "SRX3312493                        0.0                 0.0   \n",
       "\n",
       "            Unassigned_FragmentLength  Unassigned_Duplicate  ...  r_written  \\\n",
       "SRX2769882                        0.0                   0.0  ...    1917001   \n",
       "SRX2769875                        0.0                   0.0  ...    1829791   \n",
       "SRX4105507                        0.0                   0.0  ...    4384745   \n",
       "SRX4105506                        0.0                   0.0  ...    4950647   \n",
       "SRX4105532                        0.0                   0.0  ...    3156162   \n",
       "SRX4105531                        0.0                   0.0  ...    5339157   \n",
       "SRX063254                         0.0                   0.0  ...   20384186   \n",
       "SRX063253                         0.0                   0.0  ...   20441541   \n",
       "SRX4105521                        0.0                   0.0  ...    9680868   \n",
       "SRX4105524                        0.0                   0.0  ...   13300347   \n",
       "SRX4105519                        0.0                   0.0  ...    2411178   \n",
       "SRX4105523                        0.0                   0.0  ...   11049972   \n",
       "SRX4105515                        0.0                   0.0  ...    3473283   \n",
       "SRX4105520                        0.0                   0.0  ...   13630567   \n",
       "SRX2356920                        0.0                   0.0  ...   13544128   \n",
       "SRX2356918                        0.0                   0.0  ...   10419250   \n",
       "SRX2356931                        0.0                   0.0  ...   12868733   \n",
       "SRX4105508                        0.0                   0.0  ...   11279273   \n",
       "SRX2356932                        0.0                   0.0  ...   13811308   \n",
       "SRX4105562                        0.0                   0.0  ...   12169171   \n",
       "SRX2356919                        0.0                   0.0  ...   18382592   \n",
       "SRX2356930                        0.0                   0.0  ...   12104059   \n",
       "SRX4105547                        0.0                   0.0  ...   14501627   \n",
       "SRX2356916                        0.0                   0.0  ...    8493090   \n",
       "SRX3312494                        0.0                   0.0  ...    6192125   \n",
       "SRX2356917                        0.0                   0.0  ...   10900565   \n",
       "SRX689242                         0.0                   0.0  ...    1167972   \n",
       "SRX4105517                        0.0                   0.0  ...   18332347   \n",
       "SRX4105550                        0.0                   0.0  ...   13752960   \n",
       "SRX3176797                        0.0                   0.0  ...   15363622   \n",
       "SRX4105567                        0.0                   0.0  ...   13229291   \n",
       "SRX2769877                        0.0                   0.0  ...    4904972   \n",
       "SRX4105553                        0.0                   0.0  ...   14541575   \n",
       "SRX4105535                        0.0                   0.0  ...    7224940   \n",
       "SRX4105554                        0.0                   0.0  ...   13161952   \n",
       "SRX4105541                        0.0                   0.0  ...     926185   \n",
       "SRX4105549                        0.0                   0.0  ...    8555852   \n",
       "SRX3176815                        0.0                   0.0  ...   13774421   \n",
       "SRX3312476                        0.0                   0.0  ...   11363112   \n",
       "SRX259789                         0.0                   0.0  ...   16475592   \n",
       "SRX2356913                        0.0                   0.0  ...    8726787   \n",
       "SRX4105534                        0.0                   0.0  ...    8244829   \n",
       "SRX4105518                        0.0                   0.0  ...   15136095   \n",
       "SRX3312493                        0.0                   0.0  ...   10513016   \n",
       "\n",
       "            bp_processed  quality_trimmed  bp_written  percent_trimmed  \\\n",
       "SRX2769882      97767051           248683    90776643         7.150065   \n",
       "SRX2769875      93319341           256142    82307262        11.800425   \n",
       "SRX4105507     219237250           439658   193335193        11.814624   \n",
       "SRX4105506     247532350           525110   221888156        10.359936   \n",
       "SRX4105532     157808100           159814   151199821         4.187541   \n",
       "SRX4105531     266957850           419672   257177202         3.663742   \n",
       "SRX063254      856135812         11398963   824716283         3.669923   \n",
       "SRX063253      858544722         11817199   826671169         3.712509   \n",
       "SRX4105521     484043400          5615017   473103413         2.260125   \n",
       "SRX4105524     665017350          7438296   650323788         2.209501   \n",
       "SRX4105519     120558900           164143   116602720         3.281533   \n",
       "SRX4105523     552498600          6232871   540197484         2.226452   \n",
       "SRX4105515     257347134           241703   256574318         0.300301   \n",
       "SRX4105520     681528350          7562828   667130905         2.112523   \n",
       "SRX2356920     677206400          2100382   670592078         0.976707   \n",
       "SRX2356918     520962500          1660139   515949972         0.962167   \n",
       "SRX2356931     643436650          2562770   636546297         1.070867   \n",
       "SRX4105508     563963650          2015775   556089451         1.396225   \n",
       "SRX2356932     690565400          2783243   681127270         1.366725   \n",
       "SRX4105562     608458550          6734342   594658020         2.268113   \n",
       "SRX2356919     919129600          2859581   911002241         0.884245   \n",
       "SRX2356930     605202950          2385215   598644704         1.083644   \n",
       "SRX4105547     725081350          8007822   709204023         2.189730   \n",
       "SRX2356916     424654500          1351128   420593304         0.956353   \n",
       "SRX3312494     309606250           248047   304183922         1.751363   \n",
       "SRX2356917     545028250          1759553   539975549         0.927053   \n",
       "SRX689242       59566572           394720    56975830         4.349322   \n",
       "SRX4105517     916617350         10231207   895799386         2.271173   \n",
       "SRX4105550     687648000          7848356   672839431         2.153510   \n",
       "SRX3176797     768181100           529304   760741964         0.968409   \n",
       "SRX4105567     661464550          7169912   641950249         2.950166   \n",
       "SRX2769877     176578992        110335234    65036566        63.168571   \n",
       "SRX4105553     727078750          8460920   711111880         2.196030   \n",
       "SRX4105535     361247000           745550   330464346         8.521221   \n",
       "SRX4105554     658097600          7156954   642704482         2.339033   \n",
       "SRX4105541      68294666          1233672    60912558        10.809201   \n",
       "SRX4105549     427792600           843924   414333722         3.146122   \n",
       "SRX3176815     688721050          2774086   677221850         1.669645   \n",
       "SRX3312476     568155600           541948   560961055         1.266298   \n",
       "SRX259789     1664034792        164850179  1465369714        11.938757   \n",
       "SRX2356913     436339350          1415078   432101274         0.971280   \n",
       "SRX4105534     412241450           568766   380654030         7.662359   \n",
       "SRX4105518     756804750           808219   721405237         4.677496   \n",
       "SRX3312493     525650800           368681   518170803         1.422997   \n",
       "\n",
       "            se_sense  se_antisense  failed  pe_sense  pe_antisense  \n",
       "SRX2769882    0.4375        0.1250  0.4375       0.0           0.0  \n",
       "SRX2769875    0.2188        0.1875  0.5938       0.0           0.0  \n",
       "SRX4105507    0.0000        0.8710  0.1290       0.0           0.0  \n",
       "SRX4105506    0.0000        0.6964  0.3036       0.0           0.0  \n",
       "SRX4105532    0.0294        0.4412  0.5294       0.0           0.0  \n",
       "SRX4105531    0.0840        0.4504  0.4656       0.0           0.0  \n",
       "SRX063254     0.4724        0.4000  0.1276       0.0           0.0  \n",
       "SRX063253     0.4291        0.4347  0.1362       0.0           0.0  \n",
       "SRX4105521    0.1947        0.4526  0.3526       0.0           0.0  \n",
       "SRX4105524    0.2760        0.4072  0.3167       0.0           0.0  \n",
       "SRX4105519    0.1308        0.3634  0.5058       0.0           0.0  \n",
       "SRX4105523    0.2138        0.3539  0.4323       0.0           0.0  \n",
       "SRX4105515    0.1667        0.4740  0.3593       0.0           0.0  \n",
       "SRX4105520    0.1802        0.4938  0.3259       0.0           0.0  \n",
       "SRX2356920    0.0616        0.6903  0.2480       0.0           0.0  \n",
       "SRX2356918    0.0503        0.6620  0.2877       0.0           0.0  \n",
       "SRX2356931    0.0916        0.4256  0.4828       0.0           0.0  \n",
       "SRX4105508    0.1327        0.5265  0.3407       0.0           0.0  \n",
       "SRX2356932    0.0963        0.4384  0.4653       0.0           0.0  \n",
       "SRX4105562    0.1321        0.5570  0.3109       0.0           0.0  \n",
       "SRX2356919    0.0459        0.7042  0.2498       0.0           0.0  \n",
       "SRX2356930    0.1032        0.4318  0.4650       0.0           0.0  \n",
       "SRX4105547    0.2120        0.4810  0.3070       0.0           0.0  \n",
       "SRX2356916    0.0423        0.6520  0.3058       0.0           0.0  \n",
       "SRX3312494    0.3558        0.1311  0.5131       0.0           0.0  \n",
       "SRX2356917    0.0587        0.5979  0.3434       0.0           0.0  \n",
       "SRX689242     0.4259        0.3470  0.2272       0.0           0.0  \n",
       "SRX4105517    0.2388        0.3647  0.3965       0.0           0.0  \n",
       "SRX4105550    0.1987        0.4353  0.3660       0.0           0.0  \n",
       "SRX3176797    0.3144        0.1519  0.5337       0.0           0.0  \n",
       "SRX4105567    0.2100        0.4637  0.3263       0.0           0.0  \n",
       "SRX2769877    0.2722        0.4265  0.3013       0.0           0.0  \n",
       "SRX4105553    0.1688        0.4760  0.3551       0.0           0.0  \n",
       "SRX4105535    0.2270        0.3941  0.3788       0.0           0.0  \n",
       "SRX4105554    0.2344        0.4299  0.3357       0.0           0.0  \n",
       "SRX4105541    0.1645        0.4752  0.3604       0.0           0.0  \n",
       "SRX4105549    0.1059        0.5965  0.2976       0.0           0.0  \n",
       "SRX3176815    0.2802        0.1270  0.5928       0.0           0.0  \n",
       "SRX3312476    0.3329        0.1308  0.5363       0.0           0.0  \n",
       "SRX259789     0.3141        0.2763  0.4095       0.0           0.0  \n",
       "SRX2356913    0.0266        0.8086  0.1649       0.0           0.0  \n",
       "SRX4105534    0.2039        0.4032  0.3928       0.0           0.0  \n",
       "SRX4105518    0.1237        0.3041  0.5723       0.0           0.0  \n",
       "SRX3312493    0.3432        0.1464  0.5104       0.0           0.0  \n",
       "\n",
       "[44 rows x 54 columns]"
      ]
     },
     "execution_count": 21,
     "metadata": {},
     "output_type": "execute_result"
    }
   ],
   "source": [
    "DF_failed_mrna = DF_qc_stats[DF_qc_stats['Assigned'] < min_mrna_reads].sort_values('Assigned')\n",
    "DF_failed_mrna\n",
    "\n",
    "#Note: 37 were failed in the previous data and now its 44"
   ]
  },
  {
   "cell_type": "markdown",
   "metadata": {},
   "source": [
    "<font size=\"4\">Mark samples as failed.</font>"
   ]
  },
  {
   "cell_type": "code",
   "execution_count": 22,
   "metadata": {},
   "outputs": [
    {
     "name": "stdout",
     "output_type": "stream",
     "text": [
      "#samples that failed number of aligned reads 44\n"
     ]
    }
   ],
   "source": [
    "DF_metadata['passed_reads_mapped_to_CDS'] = ~DF_metadata.index.isin(DF_failed_mrna.index)\n",
    "print('#samples that failed number of aligned reads', len([i for i in DF_metadata['passed_reads_mapped_to_CDS'] if i == False]))"
   ]
  },
  {
   "cell_type": "markdown",
   "metadata": {},
   "source": [
    "# Examine Global Correlations"
   ]
  },
  {
   "cell_type": "markdown",
   "metadata": {},
   "source": [
    "## Hierarchical Clustering"
   ]
  },
  {
   "cell_type": "markdown",
   "metadata": {},
   "source": [
    "<font size=4> A clustermap is a great way to visualize the global correlations between one sample and all others. The following code uses hierarchical clustering to identify specific clusters in the clustermap <font size=4>\n",
    "    \n",
    "<font size=4> To increase the number of clusters, decrease the value of `thresh`. To decrease the number of clusters, increase the value of `thresh` <font size=4>"
   ]
  },
  {
   "cell_type": "code",
   "execution_count": 23,
   "metadata": {},
   "outputs": [
    {
     "name": "stdout",
     "output_type": "stream",
     "text": [
      "Number of cluster:  5\n"
     ]
    }
   ],
   "source": [
    "import scipy.cluster.hierarchy as sch\n",
    "import matplotlib.patches as patches\n",
    "# change this to get different number of clusters\n",
    "thresh = .3\n",
    "\n",
    "# retrieve clusters using fcluster \n",
    "corr = DF_log_tpm.corr()\n",
    "corr.fillna(0,inplace=True)\n",
    "dist = sch.distance.pdist(corr)\n",
    "link = sch.linkage(dist, method='complete')\n",
    "clst = pd.DataFrame(index=DF_log_tpm.columns)\n",
    "clst['cluster'] = sch.fcluster(link, thresh * dist.max(), 'distance')\n",
    "\n",
    "#get colors for each cluster\n",
    "cm = plt.cm.get_cmap('tab20')\n",
    "clr = dict(zip(clst.cluster.unique(), cm.colors))\n",
    "clst['color'] = clst.cluster.map(clr)\n",
    "\n",
    "print('Number of cluster: ', len(clr))"
   ]
  },
  {
   "cell_type": "markdown",
   "metadata": {},
   "source": [
    "<font size=\"4\">To view sample IDs in the clustermap, set `xticklabels` and `yticklabels` to `True`. You can increase the `size` variable to improve readability of sample IDs<font>"
   ]
  },
  {
   "cell_type": "code",
   "execution_count": 24,
   "metadata": {},
   "outputs": [
    {
     "data": {
      "image/png": "[encoded data removed]",
      "text/plain": [
       "<Figure size 864x864 with 5 Axes>"
      ]
     },
     "metadata": {},
     "output_type": "display_data"
    }
   ],
   "source": [
    "size = 12\n",
    "\n",
    "legend_TN = [patches.Patch(color=c, label=l) for l,c in clr.items()]\n",
    "\n",
    "sns.set(rc={'figure.facecolor':'white'})\n",
    "g = sns.clustermap(DF_log_tpm.corr(), figsize=(size,size), \n",
    "                   row_linkage=link, col_linkage=link, col_colors=clst.color,\n",
    "                  yticklabels=False, xticklabels=False, vmin=0, vmax=1)\n",
    "\n",
    "l2=g.ax_heatmap.legend(loc='upper left', bbox_to_anchor=(1.01,0.85), handles=legend_TN,frameon=True)\n",
    "l2.set_title(title='Clusters',prop={'size':10})"
   ]
  },
  {
   "cell_type": "markdown",
   "metadata": {},
   "source": [
    "<font size=\"4\">Select clusters to remove.</font>"
   ]
  },
  {
   "cell_type": "code",
   "execution_count": 25,
   "metadata": {},
   "outputs": [
    {
     "data": {
      "text/plain": [
       "Index(['SRX2769875', 'SRX2769882', 'SRX3176797', 'SRX3176811', 'SRX3176812',\n",
       "       'SRX3176813', 'SRX3176814', 'SRX3176815', 'SRX3312474', 'SRX3312475',\n",
       "       'SRX3312476', 'SRX3312492', 'SRX3312493', 'SRX3312494', 'SRX5055972',\n",
       "       'SRX7119041'],\n",
       "      dtype='object')"
      ]
     },
     "execution_count": 25,
     "metadata": {},
     "output_type": "execute_result"
    }
   ],
   "source": [
    "#indicate which clusters you want to remove\n",
    "remove_clst = [5,4]\n",
    "failed_global_corr = clst[clst.cluster.isin(remove_clst)].index\n",
    "failed_global_corr "
   ]
  },
  {
   "cell_type": "code",
   "execution_count": 26,
   "metadata": {},
   "outputs": [
    {
     "name": "stdout",
     "output_type": "stream",
     "text": [
      "#samples that failed global_correlation  16\n"
     ]
    }
   ],
   "source": [
    "DF_metadata['passed_global_correlation'] = ~DF_metadata.index.isin(failed_global_corr)\n",
    "print('#samples that failed global_correlation ', len([i for i in DF_metadata['passed_global_correlation'] if i == False]))"
   ]
  },
  {
   "cell_type": "code",
   "execution_count": 27,
   "metadata": {},
   "outputs": [
    {
     "data": {
      "text/html": [
       "<div>\n",
       "<style scoped>\n",
       "    .dataframe tbody tr th:only-of-type {\n",
       "        vertical-align: middle;\n",
       "    }\n",
       "\n",
       "    .dataframe tbody tr th {\n",
       "        vertical-align: top;\n",
       "    }\n",
       "\n",
       "    .dataframe thead th {\n",
       "        text-align: right;\n",
       "    }\n",
       "</style>\n",
       "<table border=\"1\" class=\"dataframe\">\n",
       "  <thead>\n",
       "    <tr style=\"text-align: right;\">\n",
       "      <th></th>\n",
       "      <th>ReleaseDate</th>\n",
       "      <th>TaxID</th>\n",
       "      <th>ScientificName</th>\n",
       "      <th>species_tax_id</th>\n",
       "      <th>class_tax_id</th>\n",
       "      <th>strain_tax_id</th>\n",
       "      <th>species</th>\n",
       "      <th>LibraryLayout</th>\n",
       "      <th>Platform</th>\n",
       "      <th>Model</th>\n",
       "      <th>...</th>\n",
       "      <th>GEO Series</th>\n",
       "      <th>GEO Sample</th>\n",
       "      <th>PMID</th>\n",
       "      <th>biosample_strain</th>\n",
       "      <th>biosample_genotype</th>\n",
       "      <th>R1</th>\n",
       "      <th>R2</th>\n",
       "      <th>passed_fastqc</th>\n",
       "      <th>passed_reads_mapped_to_CDS</th>\n",
       "      <th>passed_global_correlation</th>\n",
       "    </tr>\n",
       "  </thead>\n",
       "  <tbody>\n",
       "    <tr>\n",
       "      <th>SRX063252</th>\n",
       "      <td>2011-05-16 14:22:03</td>\n",
       "      <td>1140</td>\n",
       "      <td>Synechococcus elongatus PCC 7942 = FACHB-805</td>\n",
       "      <td>32046</td>\n",
       "      <td>1117</td>\n",
       "      <td>1140</td>\n",
       "      <td>Synechococcus elongatus</td>\n",
       "      <td>SINGLE</td>\n",
       "      <td>ILLUMINA</td>\n",
       "      <td>Illumina Genome Analyzer II</td>\n",
       "      <td>...</td>\n",
       "      <td>GSE29264</td>\n",
       "      <td>GSM723311</td>\n",
       "      <td>21612627.0</td>\n",
       "      <td>PCC 7942</td>\n",
       "      <td>NaN</td>\n",
       "      <td>NaN</td>\n",
       "      <td>NaN</td>\n",
       "      <td>True</td>\n",
       "      <td>True</td>\n",
       "      <td>True</td>\n",
       "    </tr>\n",
       "    <tr>\n",
       "      <th>SRX063253</th>\n",
       "      <td>2011-05-16 14:25:03</td>\n",
       "      <td>1140</td>\n",
       "      <td>Synechococcus elongatus PCC 7942 = FACHB-805</td>\n",
       "      <td>32046</td>\n",
       "      <td>1117</td>\n",
       "      <td>1140</td>\n",
       "      <td>Synechococcus elongatus</td>\n",
       "      <td>SINGLE</td>\n",
       "      <td>ILLUMINA</td>\n",
       "      <td>Illumina Genome Analyzer II</td>\n",
       "      <td>...</td>\n",
       "      <td>GSE29264</td>\n",
       "      <td>GSM723312</td>\n",
       "      <td>21612627.0</td>\n",
       "      <td>PCC 7942</td>\n",
       "      <td>NaN</td>\n",
       "      <td>NaN</td>\n",
       "      <td>NaN</td>\n",
       "      <td>True</td>\n",
       "      <td>False</td>\n",
       "      <td>True</td>\n",
       "    </tr>\n",
       "    <tr>\n",
       "      <th>SRX063254</th>\n",
       "      <td>2011-05-16 14:26:04</td>\n",
       "      <td>1140</td>\n",
       "      <td>Synechococcus elongatus PCC 7942 = FACHB-805</td>\n",
       "      <td>32046</td>\n",
       "      <td>1117</td>\n",
       "      <td>1140</td>\n",
       "      <td>Synechococcus elongatus</td>\n",
       "      <td>SINGLE</td>\n",
       "      <td>ILLUMINA</td>\n",
       "      <td>Illumina Genome Analyzer II</td>\n",
       "      <td>...</td>\n",
       "      <td>GSE29264</td>\n",
       "      <td>GSM723313</td>\n",
       "      <td>21612627.0</td>\n",
       "      <td>PCC 7942</td>\n",
       "      <td>NaN</td>\n",
       "      <td>NaN</td>\n",
       "      <td>NaN</td>\n",
       "      <td>True</td>\n",
       "      <td>False</td>\n",
       "      <td>True</td>\n",
       "    </tr>\n",
       "    <tr>\n",
       "      <th>SRX2356912</th>\n",
       "      <td>2017-02-15 16:19:00</td>\n",
       "      <td>1140</td>\n",
       "      <td>Synechococcus elongatus PCC 7942 = FACHB-805</td>\n",
       "      <td>32046</td>\n",
       "      <td>1117</td>\n",
       "      <td>1140</td>\n",
       "      <td>Synechococcus elongatus</td>\n",
       "      <td>SINGLE</td>\n",
       "      <td>ILLUMINA</td>\n",
       "      <td>Illumina HiSeq 2000</td>\n",
       "      <td>...</td>\n",
       "      <td>GSE89999</td>\n",
       "      <td>GSM2395359</td>\n",
       "      <td>28430105.0</td>\n",
       "      <td>NaN</td>\n",
       "      <td>\"clock rescue\"</td>\n",
       "      <td>NaN</td>\n",
       "      <td>NaN</td>\n",
       "      <td>True</td>\n",
       "      <td>True</td>\n",
       "      <td>True</td>\n",
       "    </tr>\n",
       "    <tr>\n",
       "      <th>SRX2356913</th>\n",
       "      <td>2017-02-15 16:19:00</td>\n",
       "      <td>1140</td>\n",
       "      <td>Synechococcus elongatus PCC 7942 = FACHB-805</td>\n",
       "      <td>32046</td>\n",
       "      <td>1117</td>\n",
       "      <td>1140</td>\n",
       "      <td>Synechococcus elongatus</td>\n",
       "      <td>SINGLE</td>\n",
       "      <td>ILLUMINA</td>\n",
       "      <td>Illumina HiSeq 2000</td>\n",
       "      <td>...</td>\n",
       "      <td>GSE89999</td>\n",
       "      <td>GSM2395360</td>\n",
       "      <td>28430105.0</td>\n",
       "      <td>NaN</td>\n",
       "      <td>\"clock rescue\"</td>\n",
       "      <td>NaN</td>\n",
       "      <td>NaN</td>\n",
       "      <td>True</td>\n",
       "      <td>False</td>\n",
       "      <td>True</td>\n",
       "    </tr>\n",
       "  </tbody>\n",
       "</table>\n",
       "<p>5 rows × 36 columns</p>\n",
       "</div>"
      ],
      "text/plain": [
       "                    ReleaseDate  TaxID  \\\n",
       "SRX063252   2011-05-16 14:22:03   1140   \n",
       "SRX063253   2011-05-16 14:25:03   1140   \n",
       "SRX063254   2011-05-16 14:26:04   1140   \n",
       "SRX2356912  2017-02-15 16:19:00   1140   \n",
       "SRX2356913  2017-02-15 16:19:00   1140   \n",
       "\n",
       "                                          ScientificName  species_tax_id  \\\n",
       "SRX063252   Synechococcus elongatus PCC 7942 = FACHB-805           32046   \n",
       "SRX063253   Synechococcus elongatus PCC 7942 = FACHB-805           32046   \n",
       "SRX063254   Synechococcus elongatus PCC 7942 = FACHB-805           32046   \n",
       "SRX2356912  Synechococcus elongatus PCC 7942 = FACHB-805           32046   \n",
       "SRX2356913  Synechococcus elongatus PCC 7942 = FACHB-805           32046   \n",
       "\n",
       "            class_tax_id  strain_tax_id                  species  \\\n",
       "SRX063252           1117           1140  Synechococcus elongatus   \n",
       "SRX063253           1117           1140  Synechococcus elongatus   \n",
       "SRX063254           1117           1140  Synechococcus elongatus   \n",
       "SRX2356912          1117           1140  Synechococcus elongatus   \n",
       "SRX2356913          1117           1140  Synechococcus elongatus   \n",
       "\n",
       "           LibraryLayout  Platform                        Model  ...  \\\n",
       "SRX063252         SINGLE  ILLUMINA  Illumina Genome Analyzer II  ...   \n",
       "SRX063253         SINGLE  ILLUMINA  Illumina Genome Analyzer II  ...   \n",
       "SRX063254         SINGLE  ILLUMINA  Illumina Genome Analyzer II  ...   \n",
       "SRX2356912        SINGLE  ILLUMINA          Illumina HiSeq 2000  ...   \n",
       "SRX2356913        SINGLE  ILLUMINA          Illumina HiSeq 2000  ...   \n",
       "\n",
       "           GEO Series  GEO Sample        PMID  biosample_strain  \\\n",
       "SRX063252    GSE29264   GSM723311  21612627.0          PCC 7942   \n",
       "SRX063253    GSE29264   GSM723312  21612627.0          PCC 7942   \n",
       "SRX063254    GSE29264   GSM723313  21612627.0          PCC 7942   \n",
       "SRX2356912   GSE89999  GSM2395359  28430105.0               NaN   \n",
       "SRX2356913   GSE89999  GSM2395360  28430105.0               NaN   \n",
       "\n",
       "           biosample_genotype  R1  R2 passed_fastqc  \\\n",
       "SRX063252                 NaN NaN NaN          True   \n",
       "SRX063253                 NaN NaN NaN          True   \n",
       "SRX063254                 NaN NaN NaN          True   \n",
       "SRX2356912     \"clock rescue\" NaN NaN          True   \n",
       "SRX2356913     \"clock rescue\" NaN NaN          True   \n",
       "\n",
       "           passed_reads_mapped_to_CDS passed_global_correlation  \n",
       "SRX063252                        True                      True  \n",
       "SRX063253                       False                      True  \n",
       "SRX063254                       False                      True  \n",
       "SRX2356912                       True                      True  \n",
       "SRX2356913                      False                      True  \n",
       "\n",
       "[5 rows x 36 columns]"
      ]
     },
     "execution_count": 27,
     "metadata": {},
     "output_type": "execute_result"
    }
   ],
   "source": [
    "DF_metadata.head()"
   ]
  },
  {
   "cell_type": "markdown",
   "metadata": {},
   "source": [
    "# Remove failed samples"
   ]
  },
  {
   "cell_type": "code",
   "execution_count": 28,
   "metadata": {},
   "outputs": [],
   "source": [
    "qc_columns = ['passed_fastqc',\n",
    "              'passed_reads_mapped_to_CDS',\n",
    "              'passed_global_correlation']"
   ]
  },
  {
   "cell_type": "code",
   "execution_count": 29,
   "metadata": {},
   "outputs": [
    {
     "data": {
      "text/plain": [
       "(262, 36)"
      ]
     },
     "execution_count": 29,
     "metadata": {},
     "output_type": "execute_result"
    }
   ],
   "source": [
    "pass_qc = DF_metadata[qc_columns].all(axis=1)\n",
    "DF_metadata_passed = DF_metadata[pass_qc]\n",
    "DF_metadata_passed.shape"
   ]
  },
  {
   "cell_type": "code",
   "execution_count": 54,
   "metadata": {},
   "outputs": [
    {
     "data": {
      "image/png": "[encoded data removed]",
      "text/plain": [
       "<Figure size 432x288 with 1 Axes>"
      ]
     },
     "metadata": {},
     "output_type": "display_data"
    }
   ],
   "source": [
    "_,_,pcts = plt.pie(pass_qc.value_counts().sort_values(),\n",
    "        labels = ['Failed','Passed'],\n",
    "        colors=['tab:red','tab:blue'],\n",
    "        autopct='%.0f%%',textprops={'size':16});\n",
    "\n",
    "# Colors percents white\n",
    "for pct in pcts:\n",
    "    pct.set_color('white')"
   ]
  },
  {
   "cell_type": "markdown",
   "metadata": {},
   "source": [
    "a total of 63 samples failed out of 317 samples in total gives a percentage of failed sames to be 17%"
   ]
  },
  {
   "cell_type": "code",
   "execution_count": 31,
   "metadata": {},
   "outputs": [
    {
     "data": {
      "text/html": [
       "<div>\n",
       "<style scoped>\n",
       "    .dataframe tbody tr th:only-of-type {\n",
       "        vertical-align: middle;\n",
       "    }\n",
       "\n",
       "    .dataframe tbody tr th {\n",
       "        vertical-align: top;\n",
       "    }\n",
       "\n",
       "    .dataframe thead th {\n",
       "        text-align: right;\n",
       "    }\n",
       "</style>\n",
       "<table border=\"1\" class=\"dataframe\">\n",
       "  <thead>\n",
       "    <tr style=\"text-align: right;\">\n",
       "      <th></th>\n",
       "      <th>ReleaseDate</th>\n",
       "      <th>TaxID</th>\n",
       "      <th>ScientificName</th>\n",
       "      <th>species_tax_id</th>\n",
       "      <th>class_tax_id</th>\n",
       "      <th>strain_tax_id</th>\n",
       "      <th>species</th>\n",
       "      <th>LibraryLayout</th>\n",
       "      <th>Platform</th>\n",
       "      <th>Model</th>\n",
       "      <th>...</th>\n",
       "      <th>GEO Series</th>\n",
       "      <th>GEO Sample</th>\n",
       "      <th>PMID</th>\n",
       "      <th>biosample_strain</th>\n",
       "      <th>biosample_genotype</th>\n",
       "      <th>R1</th>\n",
       "      <th>R2</th>\n",
       "      <th>passed_fastqc</th>\n",
       "      <th>passed_reads_mapped_to_CDS</th>\n",
       "      <th>passed_global_correlation</th>\n",
       "    </tr>\n",
       "  </thead>\n",
       "  <tbody>\n",
       "    <tr>\n",
       "      <th>SRX063252</th>\n",
       "      <td>2011-05-16 14:22:03</td>\n",
       "      <td>1140</td>\n",
       "      <td>Synechococcus elongatus PCC 7942 = FACHB-805</td>\n",
       "      <td>32046</td>\n",
       "      <td>1117</td>\n",
       "      <td>1140</td>\n",
       "      <td>Synechococcus elongatus</td>\n",
       "      <td>SINGLE</td>\n",
       "      <td>ILLUMINA</td>\n",
       "      <td>Illumina Genome Analyzer II</td>\n",
       "      <td>...</td>\n",
       "      <td>GSE29264</td>\n",
       "      <td>GSM723311</td>\n",
       "      <td>21612627.0</td>\n",
       "      <td>PCC 7942</td>\n",
       "      <td>NaN</td>\n",
       "      <td>NaN</td>\n",
       "      <td>NaN</td>\n",
       "      <td>True</td>\n",
       "      <td>True</td>\n",
       "      <td>True</td>\n",
       "    </tr>\n",
       "    <tr>\n",
       "      <th>SRX2356912</th>\n",
       "      <td>2017-02-15 16:19:00</td>\n",
       "      <td>1140</td>\n",
       "      <td>Synechococcus elongatus PCC 7942 = FACHB-805</td>\n",
       "      <td>32046</td>\n",
       "      <td>1117</td>\n",
       "      <td>1140</td>\n",
       "      <td>Synechococcus elongatus</td>\n",
       "      <td>SINGLE</td>\n",
       "      <td>ILLUMINA</td>\n",
       "      <td>Illumina HiSeq 2000</td>\n",
       "      <td>...</td>\n",
       "      <td>GSE89999</td>\n",
       "      <td>GSM2395359</td>\n",
       "      <td>28430105.0</td>\n",
       "      <td>NaN</td>\n",
       "      <td>\"clock rescue\"</td>\n",
       "      <td>NaN</td>\n",
       "      <td>NaN</td>\n",
       "      <td>True</td>\n",
       "      <td>True</td>\n",
       "      <td>True</td>\n",
       "    </tr>\n",
       "    <tr>\n",
       "      <th>SRX2356914</th>\n",
       "      <td>2017-02-15 16:19:00</td>\n",
       "      <td>1140</td>\n",
       "      <td>Synechococcus elongatus PCC 7942 = FACHB-805</td>\n",
       "      <td>32046</td>\n",
       "      <td>1117</td>\n",
       "      <td>1140</td>\n",
       "      <td>Synechococcus elongatus</td>\n",
       "      <td>SINGLE</td>\n",
       "      <td>ILLUMINA</td>\n",
       "      <td>Illumina HiSeq 2000</td>\n",
       "      <td>...</td>\n",
       "      <td>GSE89999</td>\n",
       "      <td>GSM2395361</td>\n",
       "      <td>28430105.0</td>\n",
       "      <td>NaN</td>\n",
       "      <td>\"clock rescue\"</td>\n",
       "      <td>NaN</td>\n",
       "      <td>NaN</td>\n",
       "      <td>True</td>\n",
       "      <td>True</td>\n",
       "      <td>True</td>\n",
       "    </tr>\n",
       "    <tr>\n",
       "      <th>SRX2356915</th>\n",
       "      <td>2017-02-15 16:19:00</td>\n",
       "      <td>1140</td>\n",
       "      <td>Synechococcus elongatus PCC 7942 = FACHB-805</td>\n",
       "      <td>32046</td>\n",
       "      <td>1117</td>\n",
       "      <td>1140</td>\n",
       "      <td>Synechococcus elongatus</td>\n",
       "      <td>SINGLE</td>\n",
       "      <td>ILLUMINA</td>\n",
       "      <td>Illumina HiSeq 2000</td>\n",
       "      <td>...</td>\n",
       "      <td>GSE89999</td>\n",
       "      <td>GSM2395362</td>\n",
       "      <td>28430105.0</td>\n",
       "      <td>NaN</td>\n",
       "      <td>\"clock rescue\"</td>\n",
       "      <td>NaN</td>\n",
       "      <td>NaN</td>\n",
       "      <td>True</td>\n",
       "      <td>True</td>\n",
       "      <td>True</td>\n",
       "    </tr>\n",
       "    <tr>\n",
       "      <th>SRX2356921</th>\n",
       "      <td>2017-02-15 16:19:00</td>\n",
       "      <td>1140</td>\n",
       "      <td>Synechococcus elongatus PCC 7942 = FACHB-805</td>\n",
       "      <td>32046</td>\n",
       "      <td>1117</td>\n",
       "      <td>1140</td>\n",
       "      <td>Synechococcus elongatus</td>\n",
       "      <td>SINGLE</td>\n",
       "      <td>ILLUMINA</td>\n",
       "      <td>Illumina HiSeq 2000</td>\n",
       "      <td>...</td>\n",
       "      <td>GSE89999</td>\n",
       "      <td>GSM2395368</td>\n",
       "      <td>28430105.0</td>\n",
       "      <td>NaN</td>\n",
       "      <td>\"clock rescue\"</td>\n",
       "      <td>NaN</td>\n",
       "      <td>NaN</td>\n",
       "      <td>True</td>\n",
       "      <td>True</td>\n",
       "      <td>True</td>\n",
       "    </tr>\n",
       "  </tbody>\n",
       "</table>\n",
       "<p>5 rows × 36 columns</p>\n",
       "</div>"
      ],
      "text/plain": [
       "                    ReleaseDate  TaxID  \\\n",
       "SRX063252   2011-05-16 14:22:03   1140   \n",
       "SRX2356912  2017-02-15 16:19:00   1140   \n",
       "SRX2356914  2017-02-15 16:19:00   1140   \n",
       "SRX2356915  2017-02-15 16:19:00   1140   \n",
       "SRX2356921  2017-02-15 16:19:00   1140   \n",
       "\n",
       "                                          ScientificName  species_tax_id  \\\n",
       "SRX063252   Synechococcus elongatus PCC 7942 = FACHB-805           32046   \n",
       "SRX2356912  Synechococcus elongatus PCC 7942 = FACHB-805           32046   \n",
       "SRX2356914  Synechococcus elongatus PCC 7942 = FACHB-805           32046   \n",
       "SRX2356915  Synechococcus elongatus PCC 7942 = FACHB-805           32046   \n",
       "SRX2356921  Synechococcus elongatus PCC 7942 = FACHB-805           32046   \n",
       "\n",
       "            class_tax_id  strain_tax_id                  species  \\\n",
       "SRX063252           1117           1140  Synechococcus elongatus   \n",
       "SRX2356912          1117           1140  Synechococcus elongatus   \n",
       "SRX2356914          1117           1140  Synechococcus elongatus   \n",
       "SRX2356915          1117           1140  Synechococcus elongatus   \n",
       "SRX2356921          1117           1140  Synechococcus elongatus   \n",
       "\n",
       "           LibraryLayout  Platform                        Model  ...  \\\n",
       "SRX063252         SINGLE  ILLUMINA  Illumina Genome Analyzer II  ...   \n",
       "SRX2356912        SINGLE  ILLUMINA          Illumina HiSeq 2000  ...   \n",
       "SRX2356914        SINGLE  ILLUMINA          Illumina HiSeq 2000  ...   \n",
       "SRX2356915        SINGLE  ILLUMINA          Illumina HiSeq 2000  ...   \n",
       "SRX2356921        SINGLE  ILLUMINA          Illumina HiSeq 2000  ...   \n",
       "\n",
       "           GEO Series  GEO Sample        PMID  biosample_strain  \\\n",
       "SRX063252    GSE29264   GSM723311  21612627.0          PCC 7942   \n",
       "SRX2356912   GSE89999  GSM2395359  28430105.0               NaN   \n",
       "SRX2356914   GSE89999  GSM2395361  28430105.0               NaN   \n",
       "SRX2356915   GSE89999  GSM2395362  28430105.0               NaN   \n",
       "SRX2356921   GSE89999  GSM2395368  28430105.0               NaN   \n",
       "\n",
       "           biosample_genotype  R1  R2 passed_fastqc  \\\n",
       "SRX063252                 NaN NaN NaN          True   \n",
       "SRX2356912     \"clock rescue\" NaN NaN          True   \n",
       "SRX2356914     \"clock rescue\" NaN NaN          True   \n",
       "SRX2356915     \"clock rescue\" NaN NaN          True   \n",
       "SRX2356921     \"clock rescue\" NaN NaN          True   \n",
       "\n",
       "           passed_reads_mapped_to_CDS passed_global_correlation  \n",
       "SRX063252                        True                      True  \n",
       "SRX2356912                       True                      True  \n",
       "SRX2356914                       True                      True  \n",
       "SRX2356915                       True                      True  \n",
       "SRX2356921                       True                      True  \n",
       "\n",
       "[5 rows x 36 columns]"
      ]
     },
     "execution_count": 31,
     "metadata": {},
     "output_type": "execute_result"
    }
   ],
   "source": [
    "DF_metadata_passed.head()"
   ]
  },
  {
   "cell_type": "markdown",
   "metadata": {},
   "source": [
    "# Save Metadata for Curation Process"
   ]
  },
  {
   "cell_type": "code",
   "execution_count": 32,
   "metadata": {},
   "outputs": [],
   "source": [
    "# DF_metadata_passed.to_csv(os.path.join(data_dir,'BRUH.csv'))"
   ]
  },
  {
   "cell_type": "markdown",
   "metadata": {},
   "source": [
    "# Metadata Curation"
   ]
  },
  {
   "cell_type": "markdown",
   "metadata": {},
   "source": [
    "<font size=4>The following sections can only be run after metadata curation is complete. To enable metadata curation, the code in this section sorts data by BioProject. </font>"
   ]
  },
  {
   "cell_type": "markdown",
   "metadata": {},
   "source": [
    "## BioProject counts of passing metadata"
   ]
  },
  {
   "cell_type": "code",
   "execution_count": 33,
   "metadata": {},
   "outputs": [
    {
     "data": {
      "text/plain": [
       "PRJNA412032    60\n",
       "PRJNA472248    49\n",
       "PRJNA415380    30\n",
       "PRJNA404081    30\n",
       "PRJNA221220    18\n",
       "PRJNA196229    16\n",
       "PRJNA354335    15\n",
       "PRJNA372989    14\n",
       "PRJNA401777     8\n",
       "PRJNA401742     8\n",
       "PRJNA403840     6\n",
       "PRJNA588336     3\n",
       "PRJNA506580     3\n",
       "PRJNA140271     1\n",
       "PRJNA642094     1\n",
       "Name: BioProject, dtype: int64"
      ]
     },
     "execution_count": 33,
     "metadata": {},
     "output_type": "execute_result"
    }
   ],
   "source": [
    "DF_metadata_passed.BioProject.value_counts().sort_values(ascending=False)"
   ]
  },
  {
   "cell_type": "markdown",
   "metadata": {},
   "source": [
    "## BioProject counts of all metadata"
   ]
  },
  {
   "cell_type": "code",
   "execution_count": 34,
   "metadata": {},
   "outputs": [
    {
     "data": {
      "text/plain": [
       "PRJNA472248    72\n",
       "PRJNA412032    60\n",
       "PRJNA415380    36\n",
       "PRJNA404081    36\n",
       "PRJNA354335    24\n",
       "PRJNA372989    19\n",
       "PRJNA221220    18\n",
       "PRJNA196229    17\n",
       "PRJNA401777     8\n",
       "PRJNA401742     8\n",
       "PRJNA403840     6\n",
       "PRJNA588336     4\n",
       "PRJNA506580     4\n",
       "PRJNA140271     3\n",
       "PRJNA642094     1\n",
       "PRJNA259562     1\n",
       "Name: BioProject, dtype: int64"
      ]
     },
     "execution_count": 34,
     "metadata": {},
     "output_type": "execute_result"
    }
   ],
   "source": [
    "DF_metadata.BioProject.value_counts().sort_values(ascending=False)"
   ]
  },
  {
   "cell_type": "markdown",
   "metadata": {},
   "source": [
    "# Correlations between replicates"
   ]
  },
  {
   "cell_type": "markdown",
   "metadata": {},
   "source": [
    "<font size=4> First, get a full sample name </font>"
   ]
  },
  {
   "cell_type": "code",
   "execution_count": 35,
   "metadata": {},
   "outputs": [],
   "source": [
    "# Turn off pesky warning\n",
    "pd.set_option('mode.chained_assignment', None)"
   ]
  },
  {
   "cell_type": "code",
   "execution_count": 36,
   "metadata": {},
   "outputs": [
    {
     "name": "stdout",
     "output_type": "stream",
     "text": [
      "Number of samples with metadata: 262\n"
     ]
    },
    {
     "data": {
      "text/html": [
       "<div>\n",
       "<style scoped>\n",
       "    .dataframe tbody tr th:only-of-type {\n",
       "        vertical-align: middle;\n",
       "    }\n",
       "\n",
       "    .dataframe tbody tr th {\n",
       "        vertical-align: top;\n",
       "    }\n",
       "\n",
       "    .dataframe thead th {\n",
       "        text-align: right;\n",
       "    }\n",
       "</style>\n",
       "<table border=\"1\" class=\"dataframe\">\n",
       "  <thead>\n",
       "    <tr style=\"text-align: right;\">\n",
       "      <th></th>\n",
       "      <th>ReleaseDate</th>\n",
       "      <th>TaxID</th>\n",
       "      <th>ScientificName</th>\n",
       "      <th>species_tax_id</th>\n",
       "      <th>class_tax_id</th>\n",
       "      <th>strain_tax_id</th>\n",
       "      <th>species</th>\n",
       "      <th>LibraryLayout</th>\n",
       "      <th>Platform</th>\n",
       "      <th>Model</th>\n",
       "      <th>...</th>\n",
       "      <th>OD</th>\n",
       "      <th>fluorescent light</th>\n",
       "      <th>light_flux_umol/m2s</th>\n",
       "      <th>light_flux_mol/m2s</th>\n",
       "      <th>light_intensity</th>\n",
       "      <th>passed_fastqc</th>\n",
       "      <th>passed_reads_mapped_to_CDS</th>\n",
       "      <th>passed_global_correlation</th>\n",
       "      <th>passed_global_correlation.1</th>\n",
       "      <th>Source</th>\n",
       "    </tr>\n",
       "  </thead>\n",
       "  <tbody>\n",
       "    <tr>\n",
       "      <th>SRX063252</th>\n",
       "      <td>2011-05-16 14:22:03</td>\n",
       "      <td>1140</td>\n",
       "      <td>Synechococcus elongatus PCC 7942 = FACHB-805</td>\n",
       "      <td>32046</td>\n",
       "      <td>1117</td>\n",
       "      <td>1140</td>\n",
       "      <td>Synechococcus elongatus</td>\n",
       "      <td>SINGLE</td>\n",
       "      <td>ILLUMINA</td>\n",
       "      <td>Illumina Genome Analyzer II</td>\n",
       "      <td>...</td>\n",
       "      <td>0.15</td>\n",
       "      <td>cool white</td>\n",
       "      <td>25.0</td>\n",
       "      <td>0.000025</td>\n",
       "      <td>25umol photons m-2 s-1</td>\n",
       "      <td>True</td>\n",
       "      <td>True</td>\n",
       "      <td>True</td>\n",
       "      <td>NaN</td>\n",
       "      <td>https://genomebiology.biomedcentral.com/articl...</td>\n",
       "    </tr>\n",
       "    <tr>\n",
       "      <th>SRX2356912</th>\n",
       "      <td>2017-02-15 16:19:00</td>\n",
       "      <td>1140</td>\n",
       "      <td>Synechococcus elongatus PCC 7942 = FACHB-805</td>\n",
       "      <td>32046</td>\n",
       "      <td>1117</td>\n",
       "      <td>1140</td>\n",
       "      <td>Synechococcus elongatus</td>\n",
       "      <td>SINGLE</td>\n",
       "      <td>ILLUMINA</td>\n",
       "      <td>Illumina HiSeq 2000</td>\n",
       "      <td>...</td>\n",
       "      <td>0.20</td>\n",
       "      <td>cool</td>\n",
       "      <td>40.0</td>\n",
       "      <td>0.000040</td>\n",
       "      <td>40 _E m-2 s-1 (moles photons m-2 s-1)</td>\n",
       "      <td>True</td>\n",
       "      <td>True</td>\n",
       "      <td>True</td>\n",
       "      <td>NaN</td>\n",
       "      <td>https://www.ncbi.nlm.nih.gov/pmc/articles/PMC5...</td>\n",
       "    </tr>\n",
       "    <tr>\n",
       "      <th>SRX2356914</th>\n",
       "      <td>2017-02-15 16:19:00</td>\n",
       "      <td>1140</td>\n",
       "      <td>Synechococcus elongatus PCC 7942 = FACHB-805</td>\n",
       "      <td>32046</td>\n",
       "      <td>1117</td>\n",
       "      <td>1140</td>\n",
       "      <td>Synechococcus elongatus</td>\n",
       "      <td>SINGLE</td>\n",
       "      <td>ILLUMINA</td>\n",
       "      <td>Illumina HiSeq 2000</td>\n",
       "      <td>...</td>\n",
       "      <td>0.20</td>\n",
       "      <td>cool</td>\n",
       "      <td>40.0</td>\n",
       "      <td>0.000040</td>\n",
       "      <td>40 _E m-2 s-1 (moles photons m-2 s-1)</td>\n",
       "      <td>True</td>\n",
       "      <td>True</td>\n",
       "      <td>True</td>\n",
       "      <td>NaN</td>\n",
       "      <td>https://www.ncbi.nlm.nih.gov/pmc/articles/PMC5...</td>\n",
       "    </tr>\n",
       "    <tr>\n",
       "      <th>SRX2356915</th>\n",
       "      <td>2017-02-15 16:19:00</td>\n",
       "      <td>1140</td>\n",
       "      <td>Synechococcus elongatus PCC 7942 = FACHB-805</td>\n",
       "      <td>32046</td>\n",
       "      <td>1117</td>\n",
       "      <td>1140</td>\n",
       "      <td>Synechococcus elongatus</td>\n",
       "      <td>SINGLE</td>\n",
       "      <td>ILLUMINA</td>\n",
       "      <td>Illumina HiSeq 2000</td>\n",
       "      <td>...</td>\n",
       "      <td>0.20</td>\n",
       "      <td>cool</td>\n",
       "      <td>40.0</td>\n",
       "      <td>0.000040</td>\n",
       "      <td>40 _E m-2 s-1 (moles photons m-2 s-1)</td>\n",
       "      <td>True</td>\n",
       "      <td>True</td>\n",
       "      <td>True</td>\n",
       "      <td>NaN</td>\n",
       "      <td>https://www.ncbi.nlm.nih.gov/pmc/articles/PMC5...</td>\n",
       "    </tr>\n",
       "    <tr>\n",
       "      <th>SRX2356921</th>\n",
       "      <td>2017-02-15 16:19:00</td>\n",
       "      <td>1140</td>\n",
       "      <td>Synechococcus elongatus PCC 7942 = FACHB-805</td>\n",
       "      <td>32046</td>\n",
       "      <td>1117</td>\n",
       "      <td>1140</td>\n",
       "      <td>Synechococcus elongatus</td>\n",
       "      <td>SINGLE</td>\n",
       "      <td>ILLUMINA</td>\n",
       "      <td>Illumina HiSeq 2000</td>\n",
       "      <td>...</td>\n",
       "      <td>0.20</td>\n",
       "      <td>cool</td>\n",
       "      <td>40.0</td>\n",
       "      <td>0.000040</td>\n",
       "      <td>40 _E m-2 s-1 (moles photons m-2 s-1)</td>\n",
       "      <td>True</td>\n",
       "      <td>True</td>\n",
       "      <td>True</td>\n",
       "      <td>NaN</td>\n",
       "      <td>https://www.ncbi.nlm.nih.gov/pmc/articles/PMC5...</td>\n",
       "    </tr>\n",
       "  </tbody>\n",
       "</table>\n",
       "<p>5 rows × 62 columns</p>\n",
       "</div>"
      ],
      "text/plain": [
       "                    ReleaseDate  TaxID  \\\n",
       "SRX063252   2011-05-16 14:22:03   1140   \n",
       "SRX2356912  2017-02-15 16:19:00   1140   \n",
       "SRX2356914  2017-02-15 16:19:00   1140   \n",
       "SRX2356915  2017-02-15 16:19:00   1140   \n",
       "SRX2356921  2017-02-15 16:19:00   1140   \n",
       "\n",
       "                                          ScientificName  species_tax_id  \\\n",
       "SRX063252   Synechococcus elongatus PCC 7942 = FACHB-805           32046   \n",
       "SRX2356912  Synechococcus elongatus PCC 7942 = FACHB-805           32046   \n",
       "SRX2356914  Synechococcus elongatus PCC 7942 = FACHB-805           32046   \n",
       "SRX2356915  Synechococcus elongatus PCC 7942 = FACHB-805           32046   \n",
       "SRX2356921  Synechococcus elongatus PCC 7942 = FACHB-805           32046   \n",
       "\n",
       "            class_tax_id  strain_tax_id                  species  \\\n",
       "SRX063252           1117           1140  Synechococcus elongatus   \n",
       "SRX2356912          1117           1140  Synechococcus elongatus   \n",
       "SRX2356914          1117           1140  Synechococcus elongatus   \n",
       "SRX2356915          1117           1140  Synechococcus elongatus   \n",
       "SRX2356921          1117           1140  Synechococcus elongatus   \n",
       "\n",
       "           LibraryLayout  Platform                        Model  ...    OD  \\\n",
       "SRX063252         SINGLE  ILLUMINA  Illumina Genome Analyzer II  ...  0.15   \n",
       "SRX2356912        SINGLE  ILLUMINA          Illumina HiSeq 2000  ...  0.20   \n",
       "SRX2356914        SINGLE  ILLUMINA          Illumina HiSeq 2000  ...  0.20   \n",
       "SRX2356915        SINGLE  ILLUMINA          Illumina HiSeq 2000  ...  0.20   \n",
       "SRX2356921        SINGLE  ILLUMINA          Illumina HiSeq 2000  ...  0.20   \n",
       "\n",
       "           fluorescent light light_flux_umol/m2s  light_flux_mol/m2s  \\\n",
       "SRX063252         cool white                25.0            0.000025   \n",
       "SRX2356912              cool                40.0            0.000040   \n",
       "SRX2356914              cool                40.0            0.000040   \n",
       "SRX2356915              cool                40.0            0.000040   \n",
       "SRX2356921              cool                40.0            0.000040   \n",
       "\n",
       "                                  light_intensity passed_fastqc  \\\n",
       "SRX063252                  25umol photons m-2 s-1          True   \n",
       "SRX2356912  40 _E m-2 s-1 (moles photons m-2 s-1)          True   \n",
       "SRX2356914  40 _E m-2 s-1 (moles photons m-2 s-1)          True   \n",
       "SRX2356915  40 _E m-2 s-1 (moles photons m-2 s-1)          True   \n",
       "SRX2356921  40 _E m-2 s-1 (moles photons m-2 s-1)          True   \n",
       "\n",
       "           passed_reads_mapped_to_CDS passed_global_correlation  \\\n",
       "SRX063252                        True                      True   \n",
       "SRX2356912                       True                      True   \n",
       "SRX2356914                       True                      True   \n",
       "SRX2356915                       True                      True   \n",
       "SRX2356921                       True                      True   \n",
       "\n",
       "           passed_global_correlation.1  \\\n",
       "SRX063252                          NaN   \n",
       "SRX2356912                         NaN   \n",
       "SRX2356914                         NaN   \n",
       "SRX2356915                         NaN   \n",
       "SRX2356921                         NaN   \n",
       "\n",
       "                                                       Source  \n",
       "SRX063252   https://genomebiology.biomedcentral.com/articl...  \n",
       "SRX2356912  https://www.ncbi.nlm.nih.gov/pmc/articles/PMC5...  \n",
       "SRX2356914  https://www.ncbi.nlm.nih.gov/pmc/articles/PMC5...  \n",
       "SRX2356915  https://www.ncbi.nlm.nih.gov/pmc/articles/PMC5...  \n",
       "SRX2356921  https://www.ncbi.nlm.nih.gov/pmc/articles/PMC5...  \n",
       "\n",
       "[5 rows x 62 columns]"
      ]
     },
     "execution_count": 36,
     "metadata": {},
     "output_type": "execute_result"
    }
   ],
   "source": [
    "curated_metadata_file= \"2_metadata_passed_curated_262_INPUT.csv\" #gives 81 \n",
    "# curated_metadata_file= \"2_metadata_passed_262_UPDATED.csv\" #gives 81 \n",
    "\n",
    "DF_metadata_curated = pd.read_csv(path.join(data_dir,curated_metadata_file),index_col=0,sep=',')\n",
    "print('Number of samples with metadata:',DF_metadata_passed.shape[0])\n",
    "DF_metadata_curated.head()"
   ]
  },
  {
   "cell_type": "code",
   "execution_count": 37,
   "metadata": {},
   "outputs": [
    {
     "data": {
      "text/plain": [
       "SRX063252             RNAseq:wt\n",
       "SRX2356912    rpaA:wt_1dusk_000\n",
       "SRX2356914    rpaA:wt_2dark_015\n",
       "SRX2356915    rpaA:wt_2dark_030\n",
       "SRX2356921    rpaA:wt_3dawn_005\n",
       "                    ...        \n",
       "SRX5055971      H2O2:mut_normal\n",
       "SRX7119038       DHAR:wt_normal\n",
       "SRX7119039     DHAR:wt_stressed\n",
       "SRX7119040      DHAR:mut_normal\n",
       "SRX8650808           RNAseq2:wt\n",
       "Name: full_name, Length: 262, dtype: object"
      ]
     },
     "execution_count": 37,
     "metadata": {},
     "output_type": "execute_result"
    }
   ],
   "source": [
    "DF_metadata_curated['full_name'] = DF_metadata_curated.loc[:,'project'].str.cat(DF_metadata_curated.loc[:,'condition'],sep=':')\n",
    "DF_metadata_curated['full_name']"
   ]
  },
  {
   "cell_type": "markdown",
   "metadata": {},
   "source": [
    "## Compute Pearson R Score"
   ]
  },
  {
   "cell_type": "markdown",
   "metadata": {},
   "source": [
    "<font size=\"4\">Once you have updated your metadata files with the sample information, we can investigate correlations between biological replicates. We require biological replicates to have a Pearson R correlation above 0.95. For samples with more than 2 replicates, the replicates must have R >= 0.95 with at least one other replicate or it will be dropped. </font>"
   ]
  },
  {
   "cell_type": "code",
   "execution_count": 38,
   "metadata": {},
   "outputs": [],
   "source": [
    "from tqdm.notebook import tqdm\n",
    "import itertools\n",
    "from scipy import stats\n",
    "import numpy as np"
   ]
  },
  {
   "cell_type": "code",
   "execution_count": 39,
   "metadata": {},
   "outputs": [
    {
     "data": {
      "application/vnd.jupyter.widget-view+json": {
       "model_id": "a92e05fd02764559b25a4f2ce8e87406",
       "version_major": 2,
       "version_minor": 0
      },
      "text/plain": [
       "  0%|          | 0/34191.0 [00:00<?, ?it/s]"
      ]
     },
     "metadata": {},
     "output_type": "display_data"
    }
   ],
   "source": [
    "rep_corrs = {}\n",
    "rand_corrs = {}\n",
    "\n",
    "num_comparisons = len(DF_metadata_curated)*(len(DF_metadata_curated)-1)/2\n",
    "for exp1,exp2 in tqdm(itertools.combinations(DF_metadata_curated.index,2),total=num_comparisons):\n",
    "    if DF_metadata_curated.loc[exp1,'full_name'] == DF_metadata_curated.loc[exp2,'full_name']:\n",
    "        rep_corrs[(exp1,exp2)] = stats.pearsonr(DF_log_tpm[exp1],DF_log_tpm[exp2])[0]\n",
    "    else:\n",
    "        rand_corrs[(exp1,exp2)] = stats.pearsonr(DF_log_tpm[exp1],DF_log_tpm[exp2])[0]"
   ]
  },
  {
   "cell_type": "code",
   "execution_count": 40,
   "metadata": {},
   "outputs": [],
   "source": [
    "sns.set_style('ticks')"
   ]
  },
  {
   "cell_type": "code",
   "execution_count": 41,
   "metadata": {},
   "outputs": [
    {
     "name": "stdout",
     "output_type": "stream",
     "text": [
      "Median Pearson R between replicates: 0.97\n"
     ]
    },
    {
     "data": {
      "image/png": "[encoded data removed]",
      "text/plain": [
       "<Figure size 360x360 with 2 Axes>"
      ]
     },
     "metadata": {},
     "output_type": "display_data"
    }
   ],
   "source": [
    "fig,ax = plt.subplots(figsize=(5,5))\n",
    "ax2 = ax.twinx()\n",
    "ax2.hist(rep_corrs.values(),bins=50,range=(0.2,1),alpha=0.8,color='green',linewidth=0)\n",
    "ax.hist(rand_corrs.values(),bins=50,range=(0.2,1),alpha=0.8,color='blue',linewidth=0)\n",
    "ax.set_title('Pearson R correlation between experiments',fontsize=14)\n",
    "ax.set_xlabel('Pearson R correlation',fontsize=14)\n",
    "ax.set_ylabel('Different Conditions',fontsize=14)\n",
    "ax2.set_ylabel('Known Replicates',fontsize=14)\n",
    "\n",
    "med_corr = np.median([v for k,v in rep_corrs.items()])\n",
    "print('Median Pearson R between replicates: {:.2f}'.format(med_corr))"
   ]
  },
  {
   "cell_type": "code",
   "execution_count": 44,
   "metadata": {},
   "outputs": [],
   "source": [
    "fig.savefig('myimage.png', format='png', bbox_inches='tight', dpi=1200)"
   ]
  },
  {
   "cell_type": "code",
   "execution_count": 42,
   "metadata": {},
   "outputs": [
    {
     "name": "stdout",
     "output_type": "stream",
     "text": [
      "#samples that failed replicates 85\n"
     ]
    }
   ],
   "source": [
    "#pearson r cutoff for replicates\n",
    "rcutoff = 0.9\n",
    "\n",
    "#for each sample get max correlation between replicates\n",
    "dissimilar = []\n",
    "for idx, grp in DF_metadata_curated.groupby('full_name'):\n",
    "    ident = np.identity(len(grp))\n",
    "    corrs = (DF_log_tpm[grp.index].corr() - ident).max()\n",
    "    dissimilar.extend(corrs[corrs<rcutoff].index)\n",
    "DF_metadata['passed_replicate_corr'] = ~DF_metadata.index.isin(dissimilar)\n",
    "DF_metadata_curated['passed_similar_replicates'] = ~DF_metadata_curated.index.isin(dissimilar)\n",
    "\n",
    "print('#samples that failed replicates', len([i for i in DF_metadata_curated['passed_similar_replicates']  if i == False]))"
   ]
  },
  {
   "cell_type": "code",
   "execution_count": 43,
   "metadata": {},
   "outputs": [],
   "source": [
    "# marking all 85 samples with a false \n",
    "x = DF_metadata_curated[DF_metadata_curated['passed_similar_replicates'] == False]\n",
    "x.to_csv(os.path.join(data_dir,'3_samples_failed_rep_corr.csv'))"
   ]
  },
  {
   "cell_type": "markdown",
   "metadata": {},
   "source": [
    "## Investigating Individual Correlation"
   ]
  },
  {
   "cell_type": "code",
   "execution_count": 44,
   "metadata": {},
   "outputs": [],
   "source": [
    "# rpaA = DF_metadata_curated[DF_metadata_curated.BioProject=='PRJNA354335']"
   ]
  },
  {
   "cell_type": "code",
   "execution_count": 45,
   "metadata": {},
   "outputs": [],
   "source": [
    "# rpaA_corrs = {}\n",
    "# #rpaA = DF_metadata_passed[DF_metadata_passed.BioProject=='PRJNA280002'].index\n",
    "# num_comparisons = len(rpaA)*(len(rpaA)-1)/2\n",
    "# for exp1,exp2 in tqdm(itertools.combinations(rpaA.index,2),total=num_comparisons):\n",
    "#     rpaA_corrs[(exp1,exp2)] = stats.pearsonr(DF_log_tpm[exp1],DF_log_tpm[exp2])[0]"
   ]
  },
  {
   "cell_type": "code",
   "execution_count": 46,
   "metadata": {},
   "outputs": [],
   "source": [
    "# fig,ax = plt.subplots(figsize=(5,5))\n",
    "# #ax2 = ax.twinx()\n",
    "# #ax2.hist(rep_corrs.values(),bins=50,range=(0.2,1),alpha=0.8,color='green',linewidth=0)\n",
    "# ax.hist(rpaA_corrs.values(),bins=50,range=(0.2,1),alpha=0.8,color='blue',linewidth=0)\n",
    "# ax.set_title('Pearson R correlation between experiments',fontsize=14)\n",
    "# ax.set_xlabel('Pearson R correlation',fontsize=14)\n",
    "# ax.set_ylabel('Different Conditions',fontsize=14)\n",
    "# #ax2.set_ylabel('Known Replicates',fontsize=14)\n",
    "\n",
    "# med_corr = np.median([v for k,v in rpaA_corrs.items()])\n",
    "# print('Median Pearson R between replicates: {:85.2f}'.format(med_corr))"
   ]
  },
  {
   "cell_type": "markdown",
   "metadata": {},
   "source": [
    "Cannot tell clearly establish a threshold since there is no clear seperation. So we create lesser combinations as shown in the section below. "
   ]
  },
  {
   "cell_type": "markdown",
   "metadata": {},
   "source": [
    "## Investigating rpaA"
   ]
  },
  {
   "cell_type": "code",
   "execution_count": 47,
   "metadata": {},
   "outputs": [],
   "source": [
    "wt_dusk = ['SRX2356912','SRX2356914','SRX2356915']\n",
    "wt_dawn = ['SRX2356921', 'SRX2356922','SRX2356923']\n",
    "ko_dusk = ['SRX2356924', 'SRX2356925','SRX2356926', 'SRX2356927', 'SRX2356928', 'SRX2356929']\n",
    "ko_dawn = ['SRX2356933', 'SRX2356934' ,'SRX2356935']"
   ]
  },
  {
   "cell_type": "code",
   "execution_count": 48,
   "metadata": {},
   "outputs": [
    {
     "data": {
      "text/plain": [
       "{('SRX2356933', 'SRX2356934'): 0.8471974910387716,\n",
       " ('SRX2356934', 'SRX2356935'): 0.8900420594931362}"
      ]
     },
     "execution_count": 48,
     "metadata": {},
     "output_type": "execute_result"
    }
   ],
   "source": [
    "corrs = {}\n",
    "for i in range(0,2):\n",
    "    samp1 = ko_dawn[i] \n",
    "    samp2 = ko_dawn[i+1]\n",
    "    corrs[(samp1,samp2)]= stats.pearsonr(DF_log_tpm[samp1],DF_log_tpm[samp2])[0]\n",
    "    #corrs.append(stats.pearsonr(DF_log_tpm.sample1, DF_log_tpm.sample2))\n",
    "    #print(sample1,sample2)\n",
    "corrs"
   ]
  },
  {
   "cell_type": "markdown",
   "metadata": {},
   "source": [
    "## Investigating ppGpp with theo"
   ]
  },
  {
   "cell_type": "code",
   "execution_count": 49,
   "metadata": {},
   "outputs": [
    {
     "data": {
      "text/plain": [
       "{('SRX3172764', 'SRX3172765'): 0.9451953608214186,\n",
       " ('SRX3172765', 'SRX3172766'): 0.9802871788489227}"
      ]
     },
     "execution_count": 49,
     "metadata": {},
     "output_type": "execute_result"
    }
   ],
   "source": [
    "wt_dusk = ['SRX3172761','SRX3172762','SRX3172763']\n",
    "ko_dusk = ['SRX3172764','SRX3172765','SRX3172766']\n",
    "corrs = {}\n",
    "for i in range(0,2):\n",
    "    samp1 = ko_dusk[i] \n",
    "    samp2 = ko_dusk[i+1]\n",
    "    corrs[(samp1,samp2)]= stats.pearsonr(DF_log_tpm[samp1],DF_log_tpm[samp2])[0]\n",
    "    #corrs.append(stats.pearsonr(DF_log_tpm.sample1, DF_log_tpm.sample2))\n",
    "    #print(sample1,sample2)\n",
    "corrs"
   ]
  },
  {
   "cell_type": "markdown",
   "metadata": {},
   "source": [
    "## Clock "
   ]
  },
  {
   "cell_type": "code",
   "execution_count": 50,
   "metadata": {},
   "outputs": [
    {
     "data": {
      "text/plain": [
       "{('SRX359381', 'SRX359382'): 0.9756405382606808,\n",
       " ('SRX359382', 'SRX359383'): 0.9750472478625956}"
      ]
     },
     "execution_count": 50,
     "metadata": {},
     "output_type": "execute_result"
    }
   ],
   "source": [
    "wt = ['SRX359366','SRX359367','SRX359368','SRX359369','SRX359370','SRX359371']\n",
    "KaiBC_IPTG = ['SRX359372','SRX359373','SRX359374','SRX359375','SRX359376','SRX359377']\n",
    "KaiBC = ['SRX359378','SRX359379','SRX359380']\n",
    "empty = ['SRX359381','SRX359382','SRX359383']\n",
    "\n",
    "corrs = {}\n",
    "for i in range(0,2):\n",
    "    samp1 = empty[i] \n",
    "    samp2 = empty[i+1]\n",
    "    corrs[(samp1,samp2)]= stats.pearsonr(DF_log_tpm[samp1],DF_log_tpm[samp2])[0]\n",
    "    #corrs.append(stats.pearsonr(DF_log_tpm.sample1, DF_log_tpm.sample2))\n",
    "    #print(sample1,sample2)\n",
    "corrs"
   ]
  },
  {
   "cell_type": "code",
   "execution_count": 51,
   "metadata": {},
   "outputs": [],
   "source": [
    "# fig,ax = plt.subplots(figsize=(5,5))\n",
    "# #ax2 = ax.twinx()\n",
    "# #ax2.hist(rep_corrs.values(),bins=50,range=(0.2,1),alpha=0.8,color='green',linewidth=0)\n",
    "# ax.hist(corrs.values(),bins=50,range=(0.2,1),alpha=0.8,color='blue',linewidth=0)\n",
    "# ax.set_title('Pearson R correlation between experiments',fontsize=14)\n",
    "# ax.set_xlabel('Pearson R correlation',fontsize=14)\n",
    "# ax.set_ylabel('Different Conditions',fontsize=14)\n",
    "# #ax2.set_ylabel('Known Replicates',fontsize=14)\n",
    "\n",
    "# med_corr = np.median([v for k,v in rpaA_corrs.items()])\n",
    "# print('Median Pearson R between replicates: {:85.2f}'.format(med_corr))"
   ]
  },
  {
   "cell_type": "markdown",
   "metadata": {},
   "source": [
    "## S7 "
   ]
  },
  {
   "cell_type": "code",
   "execution_count": null,
   "metadata": {},
   "outputs": [],
   "source": [
    "ph = ['SRX359366','SRX359367','SRX359368','SRX359369','SRX359370','SRX359371']\n",
    "saline = ['SRX359372','SRX359373','SRX359374','SRX359375','SRX359376','SRX359377']\n",
    "co2 = ['SRX359378','SRX359379','SRX359380']\n",
    "temp = ['SRX359381','SRX359382','SRX359383']\n",
    "light = ['SRX359381','SRX359382','SRX359383']\n",
    "U = ['SRX359381','SRX359382','SRX359383']\n",
    "\n",
    "corrs = {}\n",
    "for i in range(0,2):\n",
    "    samp1 = empty[i] \n",
    "    samp2 = empty[i+1]\n",
    "    corrs[(samp1,samp2)]= stats.pearsonr(DF_log_tpm[samp1],DF_log_tpm[samp2])[0]\n",
    "    #corrs.append(stats.pearsonr(DF_log_tpm.sample1, DF_log_tpm.sample2))\n",
    "    #print(sample1,sample2)\n",
    "corrs"
   ]
  },
  {
   "cell_type": "markdown",
   "metadata": {},
   "source": [
    "between samples 15-21, the correlaitons is 0.55 \n",
    "and between 14-15 or 21-22 the correlation is way higher \n",
    "so in this case we passed all the samples from this project (Tahani/anand 9/11/2020)"
   ]
  },
  {
   "cell_type": "markdown",
   "metadata": {},
   "source": [
    "## Drop Samples with no replicates"
   ]
  },
  {
   "cell_type": "markdown",
   "metadata": {},
   "source": [
    "cond_counts = DF_metadata_curated.condition.value_counts()\n",
    "drop_conds = cond_counts[cond_counts < 2].index\n",
    "drop_conds"
   ]
  },
  {
   "cell_type": "markdown",
   "metadata": {},
   "source": [
    "DF_metadata_curated['passed_number_replicates'] = ~DF_metadata_curated.condition.isin(drop_conds)\n",
    "print('#samples that failed replicates', len([i for i in DF_metadata_curated['passed_number_replicates']  if i == False]))"
   ]
  },
  {
   "cell_type": "markdown",
   "metadata": {},
   "source": [
    "DF_metadata_curated = DF_metadata_curated[DF_metadata_curated['passed_number_replicates']]"
   ]
  },
  {
   "cell_type": "markdown",
   "metadata": {},
   "source": [
    "## Calculating failed samples for Replicate correlation"
   ]
  },
  {
   "cell_type": "code",
   "execution_count": 52,
   "metadata": {},
   "outputs": [
    {
     "name": "stdout",
     "output_type": "stream",
     "text": [
      "#samples that failed similar replicates 85\n"
     ]
    }
   ],
   "source": [
    "DF_metadata['passed_similar_replicates'] = ~DF_metadata.index.isin(dissimilar)\n",
    "print('#samples that failed similar replicates', len([i for i in DF_metadata['passed_similar_replicates']  if i == False]))"
   ]
  },
  {
   "cell_type": "code",
   "execution_count": 53,
   "metadata": {},
   "outputs": [],
   "source": [
    "qc_columns2 = ['passed_similar_replicates']\n",
    "pass_qc2 = DF_metadata[qc_columns2].all(axis=1)"
   ]
  },
  {
   "cell_type": "code",
   "execution_count": 54,
   "metadata": {},
   "outputs": [],
   "source": [
    "# pass_qc2 = DF_metadata_curated[qc_columns2].all(axis=1)\n",
    "# DF_metadata_curated = DF_metadata_curated[pass_qc2]\n",
    "# DF_metadata_curated.shape\n",
    "# # 262 - 8 failed samples "
   ]
  },
  {
   "cell_type": "code",
   "execution_count": 55,
   "metadata": {},
   "outputs": [
    {
     "data": {
      "image/png": "[encoded data removed]",
      "text/plain": [
       "<Figure size 432x288 with 1 Axes>"
      ]
     },
     "metadata": {},
     "output_type": "display_data"
    }
   ],
   "source": [
    "_,_,pcts = plt.pie(pass_qc2.value_counts().sort_values(),\n",
    "        labels = ['Failed','Passed'],\n",
    "        colors=['tab:red','tab:blue'],\n",
    "        autopct='%.0f%%',textprops={'size':16});\n",
    "\n",
    "# Colors percents white\n",
    "for pct in pcts:\n",
    "    pct.set_color('white')"
   ]
  },
  {
   "cell_type": "markdown",
   "metadata": {},
   "source": [
    "Total samples failing replicate correlation is 26%  (81 failed samples from the original 317)"
   ]
  },
  {
   "cell_type": "markdown",
   "metadata": {},
   "source": [
    "## Calculating total failed samples (FastQC to Replicate correlation)"
   ]
  },
  {
   "cell_type": "code",
   "execution_count": 56,
   "metadata": {},
   "outputs": [],
   "source": [
    "qc_columns3 = ['passed_fastqc',\n",
    "              'passed_reads_mapped_to_CDS',\n",
    "              'passed_global_correlation','passed_similar_replicates']\n",
    "pass_qc3 = DF_metadata[qc_columns3].all(axis=1)"
   ]
  },
  {
   "cell_type": "code",
   "execution_count": 57,
   "metadata": {},
   "outputs": [
    {
     "data": {
      "image/png": "[encoded data removed]",
      "text/plain": [
       "<Figure size 432x288 with 1 Axes>"
      ]
     },
     "metadata": {},
     "output_type": "display_data"
    }
   ],
   "source": [
    "_,_,pcts = plt.pie(pass_qc3.value_counts().sort_values(),\n",
    "        labels = ['Failed','Passed'],\n",
    "        colors=['tab:red','tab:blue'],\n",
    "        autopct='%.0f%%',textprops={'size':16});\n",
    "\n",
    "# Colors percents white\n",
    "for pct in pcts:\n",
    "    pct.set_color('white')"
   ]
  },
  {
   "cell_type": "code",
   "execution_count": 58,
   "metadata": {},
   "outputs": [
    {
     "data": {
      "text/plain": [
       "False    140\n",
       "True     177\n",
       "dtype: int64"
      ]
     },
     "execution_count": 58,
     "metadata": {},
     "output_type": "execute_result"
    }
   ],
   "source": [
    "pass_qc3.value_counts().sort_values()"
   ]
  },
  {
   "cell_type": "markdown",
   "metadata": {},
   "source": [
    "Total samples failing ALL METRICS is 136 samples (34%) of the total 317 samples"
   ]
  },
  {
   "cell_type": "markdown",
   "metadata": {},
   "source": [
    "## Calculating stats with adding failed time-series data"
   ]
  },
  {
   "cell_type": "markdown",
   "metadata": {},
   "source": [
    "#### 1. Adding the failed time-series data back to metadata_curated DataFrame "
   ]
  },
  {
   "cell_type": "code",
   "execution_count": 59,
   "metadata": {},
   "outputs": [
    {
     "data": {
      "text/plain": [
       "(262, 64)"
      ]
     },
     "execution_count": 59,
     "metadata": {},
     "output_type": "execute_result"
    }
   ],
   "source": [
    "#before \n",
    "DF_metadata_curated.shape"
   ]
  },
  {
   "cell_type": "code",
   "execution_count": 60,
   "metadata": {},
   "outputs": [],
   "source": [
    "rpaA = DF_metadata_curated[DF_metadata_curated.BioProject=='PRJNA354335']\n",
    "ppGpp_theo = DF_metadata_curated[DF_metadata_curated.BioProject=='PRJNA403840']\n",
    "clock = DF_metadata_curated[DF_metadata_curated.BioProject=='PRJNA221220']"
   ]
  },
  {
   "cell_type": "code",
   "execution_count": 61,
   "metadata": {},
   "outputs": [
    {
     "data": {
      "text/plain": [
       "(262, 64)"
      ]
     },
     "execution_count": 61,
     "metadata": {},
     "output_type": "execute_result"
    }
   ],
   "source": [
    "# After\n",
    "DF_metadata_curated.shape"
   ]
  },
  {
   "cell_type": "markdown",
   "metadata": {},
   "source": [
    "#### 1. Changing \"false\" to \"true\" for these projects t ocalculate finale pie chart"
   ]
  },
  {
   "cell_type": "code",
   "execution_count": 62,
   "metadata": {},
   "outputs": [],
   "source": [
    "DF_metadata.to_csv(os.path.join(data_dir,'temp.csv'))"
   ]
  },
  {
   "cell_type": "code",
   "execution_count": 63,
   "metadata": {},
   "outputs": [],
   "source": [
    "DF_metadata = pd.read_csv(path.join(data_dir,'3_after_adding_True_to_failed_samples.csv'),index_col=0)"
   ]
  },
  {
   "cell_type": "code",
   "execution_count": 64,
   "metadata": {},
   "outputs": [],
   "source": [
    "qc_columns4 = ['passed_fastqc',\n",
    "              'passed_reads_mapped_to_CDS',\n",
    "              'passed_global_correlation','passed_similar_replicates']\n",
    "pass_qc4 = DF_metadata[qc_columns4].all(axis=1)"
   ]
  },
  {
   "cell_type": "code",
   "execution_count": 65,
   "metadata": {},
   "outputs": [
    {
     "data": {
      "text/plain": [
       "False    101\n",
       "True     216\n",
       "dtype: int64"
      ]
     },
     "execution_count": 65,
     "metadata": {},
     "output_type": "execute_result"
    }
   ],
   "source": [
    "pass_qc4.value_counts().sort_values()"
   ]
  },
  {
   "cell_type": "code",
   "execution_count": 66,
   "metadata": {},
   "outputs": [
    {
     "data": {
      "image/png": "[encoded data removed]",
      "text/plain": [
       "<Figure size 432x288 with 1 Axes>"
      ]
     },
     "metadata": {},
     "output_type": "display_data"
    }
   ],
   "source": [
    "_,_,pcts = plt.pie(pass_qc4.value_counts().sort_values(),\n",
    "        labels = ['Failed','Passed'],\n",
    "        colors=['tab:red','tab:blue'],\n",
    "        autopct='%.0f%%',textprops={'size':16});\n",
    "\n",
    "# Colors percents white\n",
    "for pct in pcts:\n",
    "    pct.set_color('white')"
   ]
  },
  {
   "cell_type": "markdown",
   "metadata": {},
   "source": [
    "stats after reviving the failed samples from replicate correlation (ppGpp_theo, rpaA and clock projects)"
   ]
  },
  {
   "cell_type": "markdown",
   "metadata": {},
   "source": [
    "# Manually add failed time-series samples to curated metadata and save "
   ]
  },
  {
   "cell_type": "markdown",
   "metadata": {},
   "source": [
    "1. get updated metadata with all pased replicate correlation samples "
   ]
  },
  {
   "cell_type": "code",
   "execution_count": 67,
   "metadata": {},
   "outputs": [],
   "source": [
    "qc_columns = ['passed_similar_replicates']"
   ]
  },
  {
   "cell_type": "code",
   "execution_count": 68,
   "metadata": {},
   "outputs": [
    {
     "data": {
      "text/plain": [
       "(177, 64)"
      ]
     },
     "execution_count": 68,
     "metadata": {},
     "output_type": "execute_result"
    }
   ],
   "source": [
    "DF_metadata_final = DF_metadata_curated[DF_metadata_curated[qc_columns].all(axis=1)]\n",
    "DF_metadata_final.shape"
   ]
  },
  {
   "cell_type": "markdown",
   "metadata": {},
   "source": [
    "2. Add manually the failed time-series samples"
   ]
  },
  {
   "cell_type": "code",
   "execution_count": 69,
   "metadata": {},
   "outputs": [
    {
     "data": {
      "text/plain": [
       "(216, 64)"
      ]
     },
     "execution_count": 69,
     "metadata": {},
     "output_type": "execute_result"
    }
   ],
   "source": [
    "DF_metadata_final = rpaA.append(DF_metadata_final) \n",
    "DF_metadata_final = ppGpp_theo.append(DF_metadata_final)\n",
    "DF_metadata_final = clock.append(DF_metadata_final)\n",
    "DF_metadata_final.shape"
   ]
  },
  {
   "cell_type": "code",
   "execution_count": 70,
   "metadata": {},
   "outputs": [
    {
     "data": {
      "text/plain": [
       "(2700, 216)"
      ]
     },
     "execution_count": 70,
     "metadata": {},
     "output_type": "execute_result"
    }
   ],
   "source": [
    "DF_log_tpm_final = DF_log_tpm[DF_metadata_final.index]\n",
    "DF_log_tpm_final.shape"
   ]
  },
  {
   "cell_type": "code",
   "execution_count": 71,
   "metadata": {},
   "outputs": [
    {
     "data": {
      "text/plain": [
       "PRJNA412032    60\n",
       "PRJNA472248    32\n",
       "PRJNA415380    30\n",
       "PRJNA404081    24\n",
       "PRJNA221220    18\n",
       "PRJNA354335    15\n",
       "PRJNA196229    15\n",
       "PRJNA401777     8\n",
       "PRJNA401742     8\n",
       "PRJNA403840     6\n",
       "Name: BioProject, dtype: int64"
      ]
     },
     "execution_count": 71,
     "metadata": {},
     "output_type": "execute_result"
    }
   ],
   "source": [
    "DF_metadata_final.BioProject.value_counts().sort_values(ascending=False)"
   ]
  },
  {
   "cell_type": "markdown",
   "metadata": {},
   "source": [
    "# Save final datasets"
   ]
  },
  {
   "cell_type": "code",
   "execution_count": 72,
   "metadata": {},
   "outputs": [],
   "source": [
    "DF_log_tpm_final.to_csv(os.path.join(data_dir,'3_log_tpm_qc_ICA.csv'))\n",
    "DF_metadata_final.to_csv(os.path.join(data_dir,'3_metadata_qc_ICA.csv'))"
   ]
  },
  {
   "cell_type": "markdown",
   "metadata": {},
   "source": [
    "# Plots "
   ]
  },
  {
   "cell_type": "code",
   "execution_count": 73,
   "metadata": {},
   "outputs": [
    {
     "data": {
      "text/plain": [
       "PRJNA412032    60\n",
       "PRJNA472248    32\n",
       "PRJNA415380    30\n",
       "PRJNA404081    24\n",
       "PRJNA221220    18\n",
       "PRJNA354335    15\n",
       "PRJNA196229    15\n",
       "PRJNA401777     8\n",
       "PRJNA401742     8\n",
       "PRJNA403840     6\n",
       "Name: BioProject, dtype: int64"
      ]
     },
     "execution_count": 73,
     "metadata": {},
     "output_type": "execute_result"
    }
   ],
   "source": [
    "DF_metadata_final.BioProject.value_counts().sort_values(ascending=False)"
   ]
  },
  {
   "cell_type": "code",
   "execution_count": 74,
   "metadata": {},
   "outputs": [],
   "source": [
    "data = DF_metadata_final.project.value_counts().sort_values(ascending=False)"
   ]
  },
  {
   "cell_type": "code",
   "execution_count": 75,
   "metadata": {},
   "outputs": [
    {
     "data": {
      "text/plain": [
       "ppGpp        76\n",
       "light        60\n",
       "sigFactor    32\n",
       "clock        18\n",
       "rpaA         15\n",
       "FFA          15\n",
       "Name: project, dtype: int64"
      ]
     },
     "execution_count": 75,
     "metadata": {},
     "output_type": "execute_result"
    }
   ],
   "source": [
    "data"
   ]
  },
  {
   "cell_type": "code",
   "execution_count": 76,
   "metadata": {},
   "outputs": [
    {
     "data": {
      "image/png": "[encoded data removed]",
      "text/plain": [
       "<Figure size 432x288 with 1 Axes>"
      ]
     },
     "metadata": {},
     "output_type": "display_data"
    }
   ],
   "source": [
    "# Libraries\n",
    "import matplotlib.pyplot as plt\n",
    " \n",
    "# Make data: I have 3 groups and 7 subgroups\n",
    "group_names = ['light', 'ppGpp', 'sigFctr', 'FFA', 'rpaA']\n",
    "group_size=[60,40,35,15,15]\n",
    "subgroup_names=['PRJNA412032','PRJNA401777','PRJNA404081','PRJNA401742','PRJNA415380','PRJNA472248', 'PRJNA196229', 'PRJNA354335'  ]\n",
    "subgroup_size=[60,8,12,8,12,35,15,15]\n",
    " \n",
    "# Create colors\n",
    "a, b, c, d, e =[plt.cm.Blues, plt.cm.Reds, plt.cm.Greens, plt.cm.Purples, plt.cm.Wistia]\n",
    " \n",
    "# First Ring (outside)\n",
    "fig, ax = plt.subplots()\n",
    "ax.axis('equal')\n",
    "mypie, _ = ax.pie(group_size, radius=1.7, labels=group_names, colors=[a(0.6), b(0.6), c(0.6), d(0.6), e(0.6)], labeldistance = 1.1)\n",
    "plt.setp( mypie, width=0.8, edgecolor='white')\n",
    " \n",
    "# Second Ring (Inside)\n",
    "mypie2, _ = ax.pie(subgroup_size, radius=1.3-0.3, labels=subgroup_names, labeldistance=0.7, colors=[a(0.4), b(0.5), b(0.4), b(0.3), b(0.2), c(0.4), d(0.4), e(0.4)],rotatelabels= True)\n",
    "plt.setp( mypie2, width=0.4, edgecolor='white')\n",
    "plt.margins(0,0)\n",
    " \n",
    "# show it\n",
    "plt.show()"
   ]
  },
  {
   "cell_type": "code",
   "execution_count": 77,
   "metadata": {},
   "outputs": [
    {
     "data": {
      "image/png": "[encoded data removed]",
      "text/plain": [
       "<Figure size 432x288 with 1 Axes>"
      ]
     },
     "metadata": {},
     "output_type": "display_data"
    }
   ],
   "source": [
    "my_circle = plt.Circle((0, 0), 0.7, color='white')\n",
    "\n",
    "d = plt.pie(group_size, labels=group_names, autopct='%1.1f%%',\n",
    "            startangle=9, labeldistance=1.05)\n",
    "plt.axis('equal')\n",
    "plt.gca().add_artist(my_circle)\n",
    "            \n",
    "plt.show()"
   ]
  },
  {
   "cell_type": "code",
   "execution_count": 48,
   "metadata": {},
   "outputs": [],
   "source": [
    "path = '/home/tahani/Documents/elongatus/data/1_iModulon/pie_cateogries.csv'"
   ]
  },
  {
   "cell_type": "code",
   "execution_count": 52,
   "metadata": {},
   "outputs": [
    {
     "data": {
      "application/vnd.plotly.v1+json": {
       "config": {
        "plotlyServerURL": "https://plot.ly"
       },
       "data": [
        {
         "branchvalues": "total",
         "domain": {
          "x": [
           0,
           1
          ],
          "y": [
           0,
           1
          ]
         },
         "hovertemplate": "labels=%{label}<br>count=%{value}<br>parent=%{parent}<br>id=%{id}<extra></extra>",
         "ids": [
          "Biological/Metabolism/Carbon Metabolism",
          "Regulatory/Lifestyle/Chemotaxis",
          "Regulatory/Two-Component System/Circadian Oscillation",
          "Regulatory/Anaerobic Respiration/Cyanate Metabolism",
          "Biological/Anaerobic Respiration/Energy Metabolism",
          "Biological/Photosynthesis/Energy Metabolism",
          "Regulatory/Stress Response/Heat Shock Response",
          "Regulatory/Stress Response/Iron Homeostasis",
          "Biological/Lifestyle/Natural Competence",
          "Regulatory/Anaerobic Respiration/Nitrogen Metabolism",
          "Regulatory/Stress Response/Phosphate Homeostasis",
          "Genomic/Genetic Ulterations/Prophages",
          "Regulatory/Stress Response/Redox Stress",
          "Biological/Central Dogma/Riboswitch",
          "Other/Other/Single Gene",
          "Regulatory/Stress Response/Sulfur Homeostasis",
          "Biological/Central Dogma/Translation",
          "Unknown/Unknown/Uncharacterized",
          "Biological/Anaerobic Respiration",
          "Regulatory/Anaerobic Respiration",
          "Biological/Central Dogma",
          "Genomic/Genetic Ulterations",
          "Biological/Lifestyle",
          "Regulatory/Lifestyle",
          "Biological/Metabolism",
          "Other/Other",
          "Biological/Photosynthesis",
          "Regulatory/Stress Response",
          "Regulatory/Two-Component System",
          "Unknown/Unknown",
          "Biological",
          "Genomic",
          "Other",
          "Regulatory",
          "Unknown"
         ],
         "labels": [
          "Carbon Metabolism",
          "Chemotaxis",
          "Circadian Oscillation",
          "Cyanate Metabolism",
          "Energy Metabolism",
          "Energy Metabolism",
          "Heat Shock Response",
          "Iron Homeostasis",
          "Natural Competence",
          "Nitrogen Metabolism",
          "Phosphate Homeostasis",
          "Prophages",
          "Redox Stress",
          "Riboswitch",
          "Single Gene",
          "Sulfur Homeostasis",
          "Translation",
          "Uncharacterized",
          "Anaerobic Respiration",
          "Anaerobic Respiration",
          "Central Dogma",
          "Genetic Ulterations",
          "Lifestyle",
          "Lifestyle",
          "Metabolism",
          "Other",
          "Photosynthesis",
          "Stress Response",
          "Two-Component System",
          "Unknown",
          "Biological",
          "Genomic",
          "Other",
          "Regulatory",
          "Unknown"
         ],
         "name": "",
         "parents": [
          "Biological/Metabolism",
          "Regulatory/Lifestyle",
          "Regulatory/Two-Component System",
          "Regulatory/Anaerobic Respiration",
          "Biological/Anaerobic Respiration",
          "Biological/Photosynthesis",
          "Regulatory/Stress Response",
          "Regulatory/Stress Response",
          "Biological/Lifestyle",
          "Regulatory/Anaerobic Respiration",
          "Regulatory/Stress Response",
          "Genomic/Genetic Ulterations",
          "Regulatory/Stress Response",
          "Biological/Central Dogma",
          "Other/Other",
          "Regulatory/Stress Response",
          "Biological/Central Dogma",
          "Unknown/Unknown",
          "Biological",
          "Regulatory",
          "Biological",
          "Genomic",
          "Biological",
          "Regulatory",
          "Biological",
          "Other",
          "Biological",
          "Regulatory",
          "Regulatory",
          "Unknown",
          "",
          "",
          "",
          "",
          ""
         ],
         "type": "sunburst",
         "values": [
          2,
          1,
          3,
          1,
          1,
          3,
          1,
          1,
          1,
          2,
          1,
          2,
          2,
          2,
          7,
          1,
          1,
          16,
          1,
          3,
          3,
          2,
          1,
          1,
          2,
          7,
          3,
          6,
          3,
          16,
          10,
          2,
          7,
          13,
          16
         ]
        }
       ],
       "layout": {
        "legend": {
         "tracegroupgap": 0
        },
        "margin": {
         "t": 60
        },
        "sunburstcolorway": [
         "LightSkyBlue",
         "DarkSalmon",
         "YellowGreen",
         "Gold",
         "Violet"
        ],
        "template": {
         "data": {
          "bar": [
           {
            "error_x": {
             "color": "#2a3f5f"
            },
            "error_y": {
             "color": "#2a3f5f"
            },
            "marker": {
             "line": {
              "color": "#E5ECF6",
              "width": 0.5
             }
            },
            "type": "bar"
           }
          ],
          "barpolar": [
           {
            "marker": {
             "line": {
              "color": "#E5ECF6",
              "width": 0.5
             }
            },
            "type": "barpolar"
           }
          ],
          "carpet": [
           {
            "aaxis": {
             "endlinecolor": "#2a3f5f",
             "gridcolor": "white",
             "linecolor": "white",
             "minorgridcolor": "white",
             "startlinecolor": "#2a3f5f"
            },
            "baxis": {
             "endlinecolor": "#2a3f5f",
             "gridcolor": "white",
             "linecolor": "white",
             "minorgridcolor": "white",
             "startlinecolor": "#2a3f5f"
            },
            "type": "carpet"
           }
          ],
          "choropleth": [
           {
            "colorbar": {
             "outlinewidth": 0,
             "ticks": ""
            },
            "type": "choropleth"
           }
          ],
          "contour": [
           {
            "colorbar": {
             "outlinewidth": 0,
             "ticks": ""
            },
            "colorscale": [
             [
              0,
              "#0d0887"
             ],
             [
              0.1111111111111111,
              "#46039f"
             ],
             [
              0.2222222222222222,
              "#7201a8"
             ],
             [
              0.3333333333333333,
              "#9c179e"
             ],
             [
              0.4444444444444444,
              "#bd3786"
             ],
             [
              0.5555555555555556,
              "#d8576b"
             ],
             [
              0.6666666666666666,
              "#ed7953"
             ],
             [
              0.7777777777777778,
              "#fb9f3a"
             ],
             [
              0.8888888888888888,
              "#fdca26"
             ],
             [
              1,
              "#f0f921"
             ]
            ],
            "type": "contour"
           }
          ],
          "contourcarpet": [
           {
            "colorbar": {
             "outlinewidth": 0,
             "ticks": ""
            },
            "type": "contourcarpet"
           }
          ],
          "heatmap": [
           {
            "colorbar": {
             "outlinewidth": 0,
             "ticks": ""
            },
            "colorscale": [
             [
              0,
              "#0d0887"
             ],
             [
              0.1111111111111111,
              "#46039f"
             ],
             [
              0.2222222222222222,
              "#7201a8"
             ],
             [
              0.3333333333333333,
              "#9c179e"
             ],
             [
              0.4444444444444444,
              "#bd3786"
             ],
             [
              0.5555555555555556,
              "#d8576b"
             ],
             [
              0.6666666666666666,
              "#ed7953"
             ],
             [
              0.7777777777777778,
              "#fb9f3a"
             ],
             [
              0.8888888888888888,
              "#fdca26"
             ],
             [
              1,
              "#f0f921"
             ]
            ],
            "type": "heatmap"
           }
          ],
          "heatmapgl": [
           {
            "colorbar": {
             "outlinewidth": 0,
             "ticks": ""
            },
            "colorscale": [
             [
              0,
              "#0d0887"
             ],
             [
              0.1111111111111111,
              "#46039f"
             ],
             [
              0.2222222222222222,
              "#7201a8"
             ],
             [
              0.3333333333333333,
              "#9c179e"
             ],
             [
              0.4444444444444444,
              "#bd3786"
             ],
             [
              0.5555555555555556,
              "#d8576b"
             ],
             [
              0.6666666666666666,
              "#ed7953"
             ],
             [
              0.7777777777777778,
              "#fb9f3a"
             ],
             [
              0.8888888888888888,
              "#fdca26"
             ],
             [
              1,
              "#f0f921"
             ]
            ],
            "type": "heatmapgl"
           }
          ],
          "histogram": [
           {
            "marker": {
             "colorbar": {
              "outlinewidth": 0,
              "ticks": ""
             }
            },
            "type": "histogram"
           }
          ],
          "histogram2d": [
           {
            "colorbar": {
             "outlinewidth": 0,
             "ticks": ""
            },
            "colorscale": [
             [
              0,
              "#0d0887"
             ],
             [
              0.1111111111111111,
              "#46039f"
             ],
             [
              0.2222222222222222,
              "#7201a8"
             ],
             [
              0.3333333333333333,
              "#9c179e"
             ],
             [
              0.4444444444444444,
              "#bd3786"
             ],
             [
              0.5555555555555556,
              "#d8576b"
             ],
             [
              0.6666666666666666,
              "#ed7953"
             ],
             [
              0.7777777777777778,
              "#fb9f3a"
             ],
             [
              0.8888888888888888,
              "#fdca26"
             ],
             [
              1,
              "#f0f921"
             ]
            ],
            "type": "histogram2d"
           }
          ],
          "histogram2dcontour": [
           {
            "colorbar": {
             "outlinewidth": 0,
             "ticks": ""
            },
            "colorscale": [
             [
              0,
              "#0d0887"
             ],
             [
              0.1111111111111111,
              "#46039f"
             ],
             [
              0.2222222222222222,
              "#7201a8"
             ],
             [
              0.3333333333333333,
              "#9c179e"
             ],
             [
              0.4444444444444444,
              "#bd3786"
             ],
             [
              0.5555555555555556,
              "#d8576b"
             ],
             [
              0.6666666666666666,
              "#ed7953"
             ],
             [
              0.7777777777777778,
              "#fb9f3a"
             ],
             [
              0.8888888888888888,
              "#fdca26"
             ],
             [
              1,
              "#f0f921"
             ]
            ],
            "type": "histogram2dcontour"
           }
          ],
          "mesh3d": [
           {
            "colorbar": {
             "outlinewidth": 0,
             "ticks": ""
            },
            "type": "mesh3d"
           }
          ],
          "parcoords": [
           {
            "line": {
             "colorbar": {
              "outlinewidth": 0,
              "ticks": ""
             }
            },
            "type": "parcoords"
           }
          ],
          "pie": [
           {
            "automargin": true,
            "type": "pie"
           }
          ],
          "scatter": [
           {
            "marker": {
             "colorbar": {
              "outlinewidth": 0,
              "ticks": ""
             }
            },
            "type": "scatter"
           }
          ],
          "scatter3d": [
           {
            "line": {
             "colorbar": {
              "outlinewidth": 0,
              "ticks": ""
             }
            },
            "marker": {
             "colorbar": {
              "outlinewidth": 0,
              "ticks": ""
             }
            },
            "type": "scatter3d"
           }
          ],
          "scattercarpet": [
           {
            "marker": {
             "colorbar": {
              "outlinewidth": 0,
              "ticks": ""
             }
            },
            "type": "scattercarpet"
           }
          ],
          "scattergeo": [
           {
            "marker": {
             "colorbar": {
              "outlinewidth": 0,
              "ticks": ""
             }
            },
            "type": "scattergeo"
           }
          ],
          "scattergl": [
           {
            "marker": {
             "colorbar": {
              "outlinewidth": 0,
              "ticks": ""
             }
            },
            "type": "scattergl"
           }
          ],
          "scattermapbox": [
           {
            "marker": {
             "colorbar": {
              "outlinewidth": 0,
              "ticks": ""
             }
            },
            "type": "scattermapbox"
           }
          ],
          "scatterpolar": [
           {
            "marker": {
             "colorbar": {
              "outlinewidth": 0,
              "ticks": ""
             }
            },
            "type": "scatterpolar"
           }
          ],
          "scatterpolargl": [
           {
            "marker": {
             "colorbar": {
              "outlinewidth": 0,
              "ticks": ""
             }
            },
            "type": "scatterpolargl"
           }
          ],
          "scatterternary": [
           {
            "marker": {
             "colorbar": {
              "outlinewidth": 0,
              "ticks": ""
             }
            },
            "type": "scatterternary"
           }
          ],
          "surface": [
           {
            "colorbar": {
             "outlinewidth": 0,
             "ticks": ""
            },
            "colorscale": [
             [
              0,
              "#0d0887"
             ],
             [
              0.1111111111111111,
              "#46039f"
             ],
             [
              0.2222222222222222,
              "#7201a8"
             ],
             [
              0.3333333333333333,
              "#9c179e"
             ],
             [
              0.4444444444444444,
              "#bd3786"
             ],
             [
              0.5555555555555556,
              "#d8576b"
             ],
             [
              0.6666666666666666,
              "#ed7953"
             ],
             [
              0.7777777777777778,
              "#fb9f3a"
             ],
             [
              0.8888888888888888,
              "#fdca26"
             ],
             [
              1,
              "#f0f921"
             ]
            ],
            "type": "surface"
           }
          ],
          "table": [
           {
            "cells": {
             "fill": {
              "color": "#EBF0F8"
             },
             "line": {
              "color": "white"
             }
            },
            "header": {
             "fill": {
              "color": "#C8D4E3"
             },
             "line": {
              "color": "white"
             }
            },
            "type": "table"
           }
          ]
         },
         "layout": {
          "annotationdefaults": {
           "arrowcolor": "#2a3f5f",
           "arrowhead": 0,
           "arrowwidth": 1
          },
          "autotypenumbers": "strict",
          "coloraxis": {
           "colorbar": {
            "outlinewidth": 0,
            "ticks": ""
           }
          },
          "colorscale": {
           "diverging": [
            [
             0,
             "#8e0152"
            ],
            [
             0.1,
             "#c51b7d"
            ],
            [
             0.2,
             "#de77ae"
            ],
            [
             0.3,
             "#f1b6da"
            ],
            [
             0.4,
             "#fde0ef"
            ],
            [
             0.5,
             "#f7f7f7"
            ],
            [
             0.6,
             "#e6f5d0"
            ],
            [
             0.7,
             "#b8e186"
            ],
            [
             0.8,
             "#7fbc41"
            ],
            [
             0.9,
             "#4d9221"
            ],
            [
             1,
             "#276419"
            ]
           ],
           "sequential": [
            [
             0,
             "#0d0887"
            ],
            [
             0.1111111111111111,
             "#46039f"
            ],
            [
             0.2222222222222222,
             "#7201a8"
            ],
            [
             0.3333333333333333,
             "#9c179e"
            ],
            [
             0.4444444444444444,
             "#bd3786"
            ],
            [
             0.5555555555555556,
             "#d8576b"
            ],
            [
             0.6666666666666666,
             "#ed7953"
            ],
            [
             0.7777777777777778,
             "#fb9f3a"
            ],
            [
             0.8888888888888888,
             "#fdca26"
            ],
            [
             1,
             "#f0f921"
            ]
           ],
           "sequentialminus": [
            [
             0,
             "#0d0887"
            ],
            [
             0.1111111111111111,
             "#46039f"
            ],
            [
             0.2222222222222222,
             "#7201a8"
            ],
            [
             0.3333333333333333,
             "#9c179e"
            ],
            [
             0.4444444444444444,
             "#bd3786"
            ],
            [
             0.5555555555555556,
             "#d8576b"
            ],
            [
             0.6666666666666666,
             "#ed7953"
            ],
            [
             0.7777777777777778,
             "#fb9f3a"
            ],
            [
             0.8888888888888888,
             "#fdca26"
            ],
            [
             1,
             "#f0f921"
            ]
           ]
          },
          "colorway": [
           "#636efa",
           "#EF553B",
           "#00cc96",
           "#ab63fa",
           "#FFA15A",
           "#19d3f3",
           "#FF6692",
           "#B6E880",
           "#FF97FF",
           "#FECB52"
          ],
          "font": {
           "color": "#2a3f5f"
          },
          "geo": {
           "bgcolor": "white",
           "lakecolor": "white",
           "landcolor": "#E5ECF6",
           "showlakes": true,
           "showland": true,
           "subunitcolor": "white"
          },
          "hoverlabel": {
           "align": "left"
          },
          "hovermode": "closest",
          "mapbox": {
           "style": "light"
          },
          "paper_bgcolor": "white",
          "plot_bgcolor": "#E5ECF6",
          "polar": {
           "angularaxis": {
            "gridcolor": "white",
            "linecolor": "white",
            "ticks": ""
           },
           "bgcolor": "#E5ECF6",
           "radialaxis": {
            "gridcolor": "white",
            "linecolor": "white",
            "ticks": ""
           }
          },
          "scene": {
           "xaxis": {
            "backgroundcolor": "#E5ECF6",
            "gridcolor": "white",
            "gridwidth": 2,
            "linecolor": "white",
            "showbackground": true,
            "ticks": "",
            "zerolinecolor": "white"
           },
           "yaxis": {
            "backgroundcolor": "#E5ECF6",
            "gridcolor": "white",
            "gridwidth": 2,
            "linecolor": "white",
            "showbackground": true,
            "ticks": "",
            "zerolinecolor": "white"
           },
           "zaxis": {
            "backgroundcolor": "#E5ECF6",
            "gridcolor": "white",
            "gridwidth": 2,
            "linecolor": "white",
            "showbackground": true,
            "ticks": "",
            "zerolinecolor": "white"
           }
          },
          "shapedefaults": {
           "line": {
            "color": "#2a3f5f"
           }
          },
          "ternary": {
           "aaxis": {
            "gridcolor": "white",
            "linecolor": "white",
            "ticks": ""
           },
           "baxis": {
            "gridcolor": "white",
            "linecolor": "white",
            "ticks": ""
           },
           "bgcolor": "#E5ECF6",
           "caxis": {
            "gridcolor": "white",
            "linecolor": "white",
            "ticks": ""
           }
          },
          "title": {
           "x": 0.05
          },
          "xaxis": {
           "automargin": true,
           "gridcolor": "white",
           "linecolor": "white",
           "ticks": "",
           "title": {
            "standoff": 15
           },
           "zerolinecolor": "white",
           "zerolinewidth": 2
          },
          "yaxis": {
           "automargin": true,
           "gridcolor": "white",
           "linecolor": "white",
           "ticks": "",
           "title": {
            "standoff": 15
           },
           "zerolinecolor": "white",
           "zerolinewidth": 2
          }
         }
        }
       }
      },
      "text/html": [
       "<div>                            <div id=\"d2592343-741f-4ee6-bafa-60080c43d6da\" class=\"plotly-graph-div\" style=\"height:525px; width:100%;\"></div>            <script type=\"text/javascript\">                require([\"plotly\"], function(Plotly) {                    window.PLOTLYENV=window.PLOTLYENV || {};                                    if (document.getElementById(\"d2592343-741f-4ee6-bafa-60080c43d6da\")) {                    Plotly.newPlot(                        \"d2592343-741f-4ee6-bafa-60080c43d6da\",                        [{\"branchvalues\": \"total\", \"domain\": {\"x\": [0.0, 1.0], \"y\": [0.0, 1.0]}, \"hovertemplate\": \"labels=%{label}<br>count=%{value}<br>parent=%{parent}<br>id=%{id}<extra></extra>\", \"ids\": [\"Biological/Metabolism/Carbon Metabolism\", \"Regulatory/Lifestyle/Chemotaxis\", \"Regulatory/Two-Component System/Circadian Oscillation\", \"Regulatory/Anaerobic Respiration/Cyanate Metabolism\", \"Biological/Anaerobic Respiration/Energy Metabolism\", \"Biological/Photosynthesis/Energy Metabolism\", \"Regulatory/Stress Response/Heat Shock Response\", \"Regulatory/Stress Response/Iron Homeostasis\", \"Biological/Lifestyle/Natural Competence\", \"Regulatory/Anaerobic Respiration/Nitrogen Metabolism\", \"Regulatory/Stress Response/Phosphate Homeostasis\", \"Genomic/Genetic Ulterations/Prophages\", \"Regulatory/Stress Response/Redox Stress\", \"Biological/Central Dogma/Riboswitch\", \"Other/Other/Single Gene\", \"Regulatory/Stress Response/Sulfur Homeostasis\", \"Biological/Central Dogma/Translation\", \"Unknown/Unknown/Uncharacterized\", \"Biological/Anaerobic Respiration\", \"Regulatory/Anaerobic Respiration\", \"Biological/Central Dogma\", \"Genomic/Genetic Ulterations\", \"Biological/Lifestyle\", \"Regulatory/Lifestyle\", \"Biological/Metabolism\", \"Other/Other\", \"Biological/Photosynthesis\", \"Regulatory/Stress Response\", \"Regulatory/Two-Component System\", \"Unknown/Unknown\", \"Biological\", \"Genomic\", \"Other\", \"Regulatory\", \"Unknown\"], \"labels\": [\"Carbon Metabolism\", \"Chemotaxis\", \"Circadian Oscillation\", \"Cyanate Metabolism\", \"Energy Metabolism\", \"Energy Metabolism\", \"Heat Shock Response\", \"Iron Homeostasis\", \"Natural Competence\", \"Nitrogen Metabolism\", \"Phosphate Homeostasis\", \"Prophages\", \"Redox Stress\", \"Riboswitch\", \"Single Gene\", \"Sulfur Homeostasis\", \"Translation\", \"Uncharacterized\", \"Anaerobic Respiration\", \"Anaerobic Respiration\", \"Central Dogma\", \"Genetic Ulterations\", \"Lifestyle\", \"Lifestyle\", \"Metabolism\", \"Other\", \"Photosynthesis\", \"Stress Response\", \"Two-Component System\", \"Unknown\", \"Biological\", \"Genomic\", \"Other\", \"Regulatory\", \"Unknown\"], \"name\": \"\", \"parents\": [\"Biological/Metabolism\", \"Regulatory/Lifestyle\", \"Regulatory/Two-Component System\", \"Regulatory/Anaerobic Respiration\", \"Biological/Anaerobic Respiration\", \"Biological/Photosynthesis\", \"Regulatory/Stress Response\", \"Regulatory/Stress Response\", \"Biological/Lifestyle\", \"Regulatory/Anaerobic Respiration\", \"Regulatory/Stress Response\", \"Genomic/Genetic Ulterations\", \"Regulatory/Stress Response\", \"Biological/Central Dogma\", \"Other/Other\", \"Regulatory/Stress Response\", \"Biological/Central Dogma\", \"Unknown/Unknown\", \"Biological\", \"Regulatory\", \"Biological\", \"Genomic\", \"Biological\", \"Regulatory\", \"Biological\", \"Other\", \"Biological\", \"Regulatory\", \"Regulatory\", \"Unknown\", \"\", \"\", \"\", \"\", \"\"], \"type\": \"sunburst\", \"values\": [2, 1, 3, 1, 1, 3, 1, 1, 1, 2, 1, 2, 2, 2, 7, 1, 1, 16, 1, 3, 3, 2, 1, 1, 2, 7, 3, 6, 3, 16, 10, 2, 7, 13, 16]}],                        {\"legend\": {\"tracegroupgap\": 0}, \"margin\": {\"t\": 60}, \"sunburstcolorway\": [\"LightSkyBlue\", \"DarkSalmon\", \"YellowGreen\", \"Gold\", \"Violet\"], \"template\": {\"data\": {\"bar\": [{\"error_x\": {\"color\": \"#2a3f5f\"}, \"error_y\": {\"color\": \"#2a3f5f\"}, \"marker\": {\"line\": {\"color\": \"#E5ECF6\", \"width\": 0.5}}, \"type\": \"bar\"}], \"barpolar\": [{\"marker\": {\"line\": {\"color\": \"#E5ECF6\", \"width\": 0.5}}, \"type\": \"barpolar\"}], \"carpet\": [{\"aaxis\": {\"endlinecolor\": \"#2a3f5f\", \"gridcolor\": \"white\", \"linecolor\": \"white\", \"minorgridcolor\": \"white\", \"startlinecolor\": \"#2a3f5f\"}, \"baxis\": {\"endlinecolor\": \"#2a3f5f\", \"gridcolor\": \"white\", \"linecolor\": \"white\", \"minorgridcolor\": \"white\", \"startlinecolor\": \"#2a3f5f\"}, \"type\": \"carpet\"}], \"choropleth\": [{\"colorbar\": {\"outlinewidth\": 0, \"ticks\": \"\"}, \"type\": \"choropleth\"}], \"contour\": [{\"colorbar\": {\"outlinewidth\": 0, \"ticks\": \"\"}, \"colorscale\": [[0.0, \"#0d0887\"], [0.1111111111111111, \"#46039f\"], [0.2222222222222222, \"#7201a8\"], [0.3333333333333333, \"#9c179e\"], [0.4444444444444444, \"#bd3786\"], [0.5555555555555556, \"#d8576b\"], [0.6666666666666666, \"#ed7953\"], [0.7777777777777778, \"#fb9f3a\"], [0.8888888888888888, \"#fdca26\"], [1.0, \"#f0f921\"]], \"type\": \"contour\"}], \"contourcarpet\": [{\"colorbar\": {\"outlinewidth\": 0, \"ticks\": \"\"}, \"type\": \"contourcarpet\"}], \"heatmap\": [{\"colorbar\": {\"outlinewidth\": 0, \"ticks\": \"\"}, \"colorscale\": [[0.0, \"#0d0887\"], [0.1111111111111111, \"#46039f\"], [0.2222222222222222, \"#7201a8\"], [0.3333333333333333, \"#9c179e\"], [0.4444444444444444, \"#bd3786\"], [0.5555555555555556, \"#d8576b\"], [0.6666666666666666, \"#ed7953\"], [0.7777777777777778, \"#fb9f3a\"], [0.8888888888888888, \"#fdca26\"], [1.0, \"#f0f921\"]], \"type\": \"heatmap\"}], \"heatmapgl\": [{\"colorbar\": {\"outlinewidth\": 0, \"ticks\": \"\"}, \"colorscale\": [[0.0, \"#0d0887\"], [0.1111111111111111, \"#46039f\"], [0.2222222222222222, \"#7201a8\"], [0.3333333333333333, \"#9c179e\"], [0.4444444444444444, \"#bd3786\"], [0.5555555555555556, \"#d8576b\"], [0.6666666666666666, \"#ed7953\"], [0.7777777777777778, \"#fb9f3a\"], [0.8888888888888888, \"#fdca26\"], [1.0, \"#f0f921\"]], \"type\": \"heatmapgl\"}], \"histogram\": [{\"marker\": {\"colorbar\": {\"outlinewidth\": 0, \"ticks\": \"\"}}, \"type\": \"histogram\"}], \"histogram2d\": [{\"colorbar\": {\"outlinewidth\": 0, \"ticks\": \"\"}, \"colorscale\": [[0.0, \"#0d0887\"], [0.1111111111111111, \"#46039f\"], [0.2222222222222222, \"#7201a8\"], [0.3333333333333333, \"#9c179e\"], [0.4444444444444444, \"#bd3786\"], [0.5555555555555556, \"#d8576b\"], [0.6666666666666666, \"#ed7953\"], [0.7777777777777778, \"#fb9f3a\"], [0.8888888888888888, \"#fdca26\"], [1.0, \"#f0f921\"]], \"type\": \"histogram2d\"}], \"histogram2dcontour\": [{\"colorbar\": {\"outlinewidth\": 0, \"ticks\": \"\"}, \"colorscale\": [[0.0, \"#0d0887\"], [0.1111111111111111, \"#46039f\"], [0.2222222222222222, \"#7201a8\"], [0.3333333333333333, \"#9c179e\"], [0.4444444444444444, \"#bd3786\"], [0.5555555555555556, \"#d8576b\"], [0.6666666666666666, \"#ed7953\"], [0.7777777777777778, \"#fb9f3a\"], [0.8888888888888888, \"#fdca26\"], [1.0, \"#f0f921\"]], \"type\": \"histogram2dcontour\"}], \"mesh3d\": [{\"colorbar\": {\"outlinewidth\": 0, \"ticks\": \"\"}, \"type\": \"mesh3d\"}], \"parcoords\": [{\"line\": {\"colorbar\": {\"outlinewidth\": 0, \"ticks\": \"\"}}, \"type\": \"parcoords\"}], \"pie\": [{\"automargin\": true, \"type\": \"pie\"}], \"scatter\": [{\"marker\": {\"colorbar\": {\"outlinewidth\": 0, \"ticks\": \"\"}}, \"type\": \"scatter\"}], \"scatter3d\": [{\"line\": {\"colorbar\": {\"outlinewidth\": 0, \"ticks\": \"\"}}, \"marker\": {\"colorbar\": {\"outlinewidth\": 0, \"ticks\": \"\"}}, \"type\": \"scatter3d\"}], \"scattercarpet\": [{\"marker\": {\"colorbar\": {\"outlinewidth\": 0, \"ticks\": \"\"}}, \"type\": \"scattercarpet\"}], \"scattergeo\": [{\"marker\": {\"colorbar\": {\"outlinewidth\": 0, \"ticks\": \"\"}}, \"type\": \"scattergeo\"}], \"scattergl\": [{\"marker\": {\"colorbar\": {\"outlinewidth\": 0, \"ticks\": \"\"}}, \"type\": \"scattergl\"}], \"scattermapbox\": [{\"marker\": {\"colorbar\": {\"outlinewidth\": 0, \"ticks\": \"\"}}, \"type\": \"scattermapbox\"}], \"scatterpolar\": [{\"marker\": {\"colorbar\": {\"outlinewidth\": 0, \"ticks\": \"\"}}, \"type\": \"scatterpolar\"}], \"scatterpolargl\": [{\"marker\": {\"colorbar\": {\"outlinewidth\": 0, \"ticks\": \"\"}}, \"type\": \"scatterpolargl\"}], \"scatterternary\": [{\"marker\": {\"colorbar\": {\"outlinewidth\": 0, \"ticks\": \"\"}}, \"type\": \"scatterternary\"}], \"surface\": [{\"colorbar\": {\"outlinewidth\": 0, \"ticks\": \"\"}, \"colorscale\": [[0.0, \"#0d0887\"], [0.1111111111111111, \"#46039f\"], [0.2222222222222222, \"#7201a8\"], [0.3333333333333333, \"#9c179e\"], [0.4444444444444444, \"#bd3786\"], [0.5555555555555556, \"#d8576b\"], [0.6666666666666666, \"#ed7953\"], [0.7777777777777778, \"#fb9f3a\"], [0.8888888888888888, \"#fdca26\"], [1.0, \"#f0f921\"]], \"type\": \"surface\"}], \"table\": [{\"cells\": {\"fill\": {\"color\": \"#EBF0F8\"}, \"line\": {\"color\": \"white\"}}, \"header\": {\"fill\": {\"color\": \"#C8D4E3\"}, \"line\": {\"color\": \"white\"}}, \"type\": \"table\"}]}, \"layout\": {\"annotationdefaults\": {\"arrowcolor\": \"#2a3f5f\", \"arrowhead\": 0, \"arrowwidth\": 1}, \"autotypenumbers\": \"strict\", \"coloraxis\": {\"colorbar\": {\"outlinewidth\": 0, \"ticks\": \"\"}}, \"colorscale\": {\"diverging\": [[0, \"#8e0152\"], [0.1, \"#c51b7d\"], [0.2, \"#de77ae\"], [0.3, \"#f1b6da\"], [0.4, \"#fde0ef\"], [0.5, \"#f7f7f7\"], [0.6, \"#e6f5d0\"], [0.7, \"#b8e186\"], [0.8, \"#7fbc41\"], [0.9, \"#4d9221\"], [1, \"#276419\"]], \"sequential\": [[0.0, \"#0d0887\"], [0.1111111111111111, \"#46039f\"], [0.2222222222222222, \"#7201a8\"], [0.3333333333333333, \"#9c179e\"], [0.4444444444444444, \"#bd3786\"], [0.5555555555555556, \"#d8576b\"], [0.6666666666666666, \"#ed7953\"], [0.7777777777777778, \"#fb9f3a\"], [0.8888888888888888, \"#fdca26\"], [1.0, \"#f0f921\"]], \"sequentialminus\": [[0.0, \"#0d0887\"], [0.1111111111111111, \"#46039f\"], [0.2222222222222222, \"#7201a8\"], [0.3333333333333333, \"#9c179e\"], [0.4444444444444444, \"#bd3786\"], [0.5555555555555556, \"#d8576b\"], [0.6666666666666666, \"#ed7953\"], [0.7777777777777778, \"#fb9f3a\"], [0.8888888888888888, \"#fdca26\"], [1.0, \"#f0f921\"]]}, \"colorway\": [\"#636efa\", \"#EF553B\", \"#00cc96\", \"#ab63fa\", \"#FFA15A\", \"#19d3f3\", \"#FF6692\", \"#B6E880\", \"#FF97FF\", \"#FECB52\"], \"font\": {\"color\": \"#2a3f5f\"}, \"geo\": {\"bgcolor\": \"white\", \"lakecolor\": \"white\", \"landcolor\": \"#E5ECF6\", \"showlakes\": true, \"showland\": true, \"subunitcolor\": \"white\"}, \"hoverlabel\": {\"align\": \"left\"}, \"hovermode\": \"closest\", \"mapbox\": {\"style\": \"light\"}, \"paper_bgcolor\": \"white\", \"plot_bgcolor\": \"#E5ECF6\", \"polar\": {\"angularaxis\": {\"gridcolor\": \"white\", \"linecolor\": \"white\", \"ticks\": \"\"}, \"bgcolor\": \"#E5ECF6\", \"radialaxis\": {\"gridcolor\": \"white\", \"linecolor\": \"white\", \"ticks\": \"\"}}, \"scene\": {\"xaxis\": {\"backgroundcolor\": \"#E5ECF6\", \"gridcolor\": \"white\", \"gridwidth\": 2, \"linecolor\": \"white\", \"showbackground\": true, \"ticks\": \"\", \"zerolinecolor\": \"white\"}, \"yaxis\": {\"backgroundcolor\": \"#E5ECF6\", \"gridcolor\": \"white\", \"gridwidth\": 2, \"linecolor\": \"white\", \"showbackground\": true, \"ticks\": \"\", \"zerolinecolor\": \"white\"}, \"zaxis\": {\"backgroundcolor\": \"#E5ECF6\", \"gridcolor\": \"white\", \"gridwidth\": 2, \"linecolor\": \"white\", \"showbackground\": true, \"ticks\": \"\", \"zerolinecolor\": \"white\"}}, \"shapedefaults\": {\"line\": {\"color\": \"#2a3f5f\"}}, \"ternary\": {\"aaxis\": {\"gridcolor\": \"white\", \"linecolor\": \"white\", \"ticks\": \"\"}, \"baxis\": {\"gridcolor\": \"white\", \"linecolor\": \"white\", \"ticks\": \"\"}, \"bgcolor\": \"#E5ECF6\", \"caxis\": {\"gridcolor\": \"white\", \"linecolor\": \"white\", \"ticks\": \"\"}}, \"title\": {\"x\": 0.05}, \"xaxis\": {\"automargin\": true, \"gridcolor\": \"white\", \"linecolor\": \"white\", \"ticks\": \"\", \"title\": {\"standoff\": 15}, \"zerolinecolor\": \"white\", \"zerolinewidth\": 2}, \"yaxis\": {\"automargin\": true, \"gridcolor\": \"white\", \"linecolor\": \"white\", \"ticks\": \"\", \"title\": {\"standoff\": 15}, \"zerolinecolor\": \"white\", \"zerolinewidth\": 2}}}},                        {\"responsive\": true}                    ).then(function(){\n",
       "                            \n",
       "var gd = document.getElementById('d2592343-741f-4ee6-bafa-60080c43d6da');\n",
       "var x = new MutationObserver(function (mutations, observer) {{\n",
       "        var display = window.getComputedStyle(gd).display;\n",
       "        if (!display || display === 'none') {{\n",
       "            console.log([gd, 'removed!']);\n",
       "            Plotly.purge(gd);\n",
       "            observer.disconnect();\n",
       "        }}\n",
       "}});\n",
       "\n",
       "// Listen for the removal of the full notebook cells\n",
       "var notebookContainer = gd.closest('#notebook-container');\n",
       "if (notebookContainer) {{\n",
       "    x.observe(notebookContainer, {childList: true});\n",
       "}}\n",
       "\n",
       "// Listen for the clearing of the current output cell\n",
       "var outputEl = gd.closest('.output');\n",
       "if (outputEl) {{\n",
       "    x.observe(outputEl, {childList: true});\n",
       "}}\n",
       "\n",
       "                        })                };                });            </script>        </div>"
      ]
     },
     "metadata": {},
     "output_type": "display_data"
    }
   ],
   "source": [
    "import plotly.express as px \n",
    "  \n",
    "df = pd.read_csv(path, index_col = 0)\n",
    "  \n",
    "fig = px.sunburst(df, path=['core', 'inner', 'outer'],\n",
    "                  color_discrete_sequence = [\"LightSkyBlue\", \"DarkSalmon\", \"YellowGreen\", \"Gold\", \"Violet\"])\n",
    "#                   px.colors.qualitative.Set2)\n",
    "fig.show()\n",
    "\n",
    "fig.write_image(\"fig1.pdf\")"
   ]
  },
  {
   "cell_type": "code",
   "execution_count": 80,
   "metadata": {},
   "outputs": [
    {
     "data": {
      "application/vnd.plotly.v1+json": {
       "config": {
        "plotlyServerURL": "https://plot.ly"
       },
       "data": [
        {
         "branchvalues": "total",
         "domain": {
          "x": [
           0,
           1
          ],
          "y": [
           0,
           1
          ]
         },
         "hovertemplate": "labels=%{label}<br>count=%{value}<br>parent=%{parent}<br>id=%{id}<extra></extra>",
         "ids": [
          "Biological/Metabolism/Carbon Metabolism",
          "Regulatory/Lifestyle/Chemotaxis",
          "Regulatory/Two-Component System/Circadian Oscillation",
          "Regulatory/Anaerobic Respiration/Cyanate Metabolism",
          "Biological/Anaerobic Respiration/Energy Metabolism",
          "Biological/Photosynthesis/Energy Metabolism",
          "Regulatory/Stress Response/Heat Shock Response",
          "Regulatory/Stress Response/Iron Homeostasis",
          "Biological/Lifestyle/Natural Competence",
          "Regulatory/Anaerobic Respiration/Nitrogen Metabolism",
          "Regulatory/Stress Response/Phosphate Homeostasis",
          "Genomic/Genetic Ulterations/Prophages",
          "Regulatory/Stress Response/Redox Stress",
          "Biological/Central Dogma/Riboswitch",
          "Other/Other/Single Gene",
          "Regulatory/Stress Response/Sulfur Homeostasis",
          "Biological/Central Dogma/Translation",
          "Unknown/Unknown/Uncharacterized",
          "Biological/Anaerobic Respiration",
          "Regulatory/Anaerobic Respiration",
          "Biological/Central Dogma",
          "Genomic/Genetic Ulterations",
          "Biological/Lifestyle",
          "Regulatory/Lifestyle",
          "Biological/Metabolism",
          "Other/Other",
          "Biological/Photosynthesis",
          "Regulatory/Stress Response",
          "Regulatory/Two-Component System",
          "Unknown/Unknown",
          "Biological",
          "Genomic",
          "Other",
          "Regulatory",
          "Unknown"
         ],
         "labels": [
          "Carbon Metabolism",
          "Chemotaxis",
          "Circadian Oscillation",
          "Cyanate Metabolism",
          "Energy Metabolism",
          "Energy Metabolism",
          "Heat Shock Response",
          "Iron Homeostasis",
          "Natural Competence",
          "Nitrogen Metabolism",
          "Phosphate Homeostasis",
          "Prophages",
          "Redox Stress",
          "Riboswitch",
          "Single Gene",
          "Sulfur Homeostasis",
          "Translation",
          "Uncharacterized",
          "Anaerobic Respiration",
          "Anaerobic Respiration",
          "Central Dogma",
          "Genetic Ulterations",
          "Lifestyle",
          "Lifestyle",
          "Metabolism",
          "Other",
          "Photosynthesis",
          "Stress Response",
          "Two-Component System",
          "Unknown",
          "Biological",
          "Genomic",
          "Other",
          "Regulatory",
          "Unknown"
         ],
         "name": "",
         "parents": [
          "Biological/Metabolism",
          "Regulatory/Lifestyle",
          "Regulatory/Two-Component System",
          "Regulatory/Anaerobic Respiration",
          "Biological/Anaerobic Respiration",
          "Biological/Photosynthesis",
          "Regulatory/Stress Response",
          "Regulatory/Stress Response",
          "Biological/Lifestyle",
          "Regulatory/Anaerobic Respiration",
          "Regulatory/Stress Response",
          "Genomic/Genetic Ulterations",
          "Regulatory/Stress Response",
          "Biological/Central Dogma",
          "Other/Other",
          "Regulatory/Stress Response",
          "Biological/Central Dogma",
          "Unknown/Unknown",
          "Biological",
          "Regulatory",
          "Biological",
          "Genomic",
          "Biological",
          "Regulatory",
          "Biological",
          "Other",
          "Biological",
          "Regulatory",
          "Regulatory",
          "Unknown",
          "",
          "",
          "",
          "",
          ""
         ],
         "type": "sunburst",
         "values": [
          2,
          1,
          3,
          1,
          1,
          3,
          1,
          1,
          1,
          2,
          1,
          2,
          2,
          2,
          7,
          1,
          1,
          16,
          1,
          3,
          3,
          2,
          1,
          1,
          2,
          7,
          3,
          6,
          3,
          16,
          10,
          2,
          7,
          13,
          16
         ]
        }
       ],
       "layout": {
        "legend": {
         "tracegroupgap": 0
        },
        "margin": {
         "t": 60
        },
        "sunburstcolorway": [
         "rgb(102,194,165)",
         "rgb(252,141,98)",
         "rgb(141,160,203)",
         "rgb(231,138,195)",
         "rgb(166,216,84)",
         "rgb(255,217,47)",
         "rgb(229,196,148)",
         "rgb(179,179,179)"
        ],
        "template": {
         "data": {
          "bar": [
           {
            "error_x": {
             "color": "#2a3f5f"
            },
            "error_y": {
             "color": "#2a3f5f"
            },
            "marker": {
             "line": {
              "color": "#E5ECF6",
              "width": 0.5
             }
            },
            "type": "bar"
           }
          ],
          "barpolar": [
           {
            "marker": {
             "line": {
              "color": "#E5ECF6",
              "width": 0.5
             }
            },
            "type": "barpolar"
           }
          ],
          "carpet": [
           {
            "aaxis": {
             "endlinecolor": "#2a3f5f",
             "gridcolor": "white",
             "linecolor": "white",
             "minorgridcolor": "white",
             "startlinecolor": "#2a3f5f"
            },
            "baxis": {
             "endlinecolor": "#2a3f5f",
             "gridcolor": "white",
             "linecolor": "white",
             "minorgridcolor": "white",
             "startlinecolor": "#2a3f5f"
            },
            "type": "carpet"
           }
          ],
          "choropleth": [
           {
            "colorbar": {
             "outlinewidth": 0,
             "ticks": ""
            },
            "type": "choropleth"
           }
          ],
          "contour": [
           {
            "colorbar": {
             "outlinewidth": 0,
             "ticks": ""
            },
            "colorscale": [
             [
              0,
              "#0d0887"
             ],
             [
              0.1111111111111111,
              "#46039f"
             ],
             [
              0.2222222222222222,
              "#7201a8"
             ],
             [
              0.3333333333333333,
              "#9c179e"
             ],
             [
              0.4444444444444444,
              "#bd3786"
             ],
             [
              0.5555555555555556,
              "#d8576b"
             ],
             [
              0.6666666666666666,
              "#ed7953"
             ],
             [
              0.7777777777777778,
              "#fb9f3a"
             ],
             [
              0.8888888888888888,
              "#fdca26"
             ],
             [
              1,
              "#f0f921"
             ]
            ],
            "type": "contour"
           }
          ],
          "contourcarpet": [
           {
            "colorbar": {
             "outlinewidth": 0,
             "ticks": ""
            },
            "type": "contourcarpet"
           }
          ],
          "heatmap": [
           {
            "colorbar": {
             "outlinewidth": 0,
             "ticks": ""
            },
            "colorscale": [
             [
              0,
              "#0d0887"
             ],
             [
              0.1111111111111111,
              "#46039f"
             ],
             [
              0.2222222222222222,
              "#7201a8"
             ],
             [
              0.3333333333333333,
              "#9c179e"
             ],
             [
              0.4444444444444444,
              "#bd3786"
             ],
             [
              0.5555555555555556,
              "#d8576b"
             ],
             [
              0.6666666666666666,
              "#ed7953"
             ],
             [
              0.7777777777777778,
              "#fb9f3a"
             ],
             [
              0.8888888888888888,
              "#fdca26"
             ],
             [
              1,
              "#f0f921"
             ]
            ],
            "type": "heatmap"
           }
          ],
          "heatmapgl": [
           {
            "colorbar": {
             "outlinewidth": 0,
             "ticks": ""
            },
            "colorscale": [
             [
              0,
              "#0d0887"
             ],
             [
              0.1111111111111111,
              "#46039f"
             ],
             [
              0.2222222222222222,
              "#7201a8"
             ],
             [
              0.3333333333333333,
              "#9c179e"
             ],
             [
              0.4444444444444444,
              "#bd3786"
             ],
             [
              0.5555555555555556,
              "#d8576b"
             ],
             [
              0.6666666666666666,
              "#ed7953"
             ],
             [
              0.7777777777777778,
              "#fb9f3a"
             ],
             [
              0.8888888888888888,
              "#fdca26"
             ],
             [
              1,
              "#f0f921"
             ]
            ],
            "type": "heatmapgl"
           }
          ],
          "histogram": [
           {
            "marker": {
             "colorbar": {
              "outlinewidth": 0,
              "ticks": ""
             }
            },
            "type": "histogram"
           }
          ],
          "histogram2d": [
           {
            "colorbar": {
             "outlinewidth": 0,
             "ticks": ""
            },
            "colorscale": [
             [
              0,
              "#0d0887"
             ],
             [
              0.1111111111111111,
              "#46039f"
             ],
             [
              0.2222222222222222,
              "#7201a8"
             ],
             [
              0.3333333333333333,
              "#9c179e"
             ],
             [
              0.4444444444444444,
              "#bd3786"
             ],
             [
              0.5555555555555556,
              "#d8576b"
             ],
             [
              0.6666666666666666,
              "#ed7953"
             ],
             [
              0.7777777777777778,
              "#fb9f3a"
             ],
             [
              0.8888888888888888,
              "#fdca26"
             ],
             [
              1,
              "#f0f921"
             ]
            ],
            "type": "histogram2d"
           }
          ],
          "histogram2dcontour": [
           {
            "colorbar": {
             "outlinewidth": 0,
             "ticks": ""
            },
            "colorscale": [
             [
              0,
              "#0d0887"
             ],
             [
              0.1111111111111111,
              "#46039f"
             ],
             [
              0.2222222222222222,
              "#7201a8"
             ],
             [
              0.3333333333333333,
              "#9c179e"
             ],
             [
              0.4444444444444444,
              "#bd3786"
             ],
             [
              0.5555555555555556,
              "#d8576b"
             ],
             [
              0.6666666666666666,
              "#ed7953"
             ],
             [
              0.7777777777777778,
              "#fb9f3a"
             ],
             [
              0.8888888888888888,
              "#fdca26"
             ],
             [
              1,
              "#f0f921"
             ]
            ],
            "type": "histogram2dcontour"
           }
          ],
          "mesh3d": [
           {
            "colorbar": {
             "outlinewidth": 0,
             "ticks": ""
            },
            "type": "mesh3d"
           }
          ],
          "parcoords": [
           {
            "line": {
             "colorbar": {
              "outlinewidth": 0,
              "ticks": ""
             }
            },
            "type": "parcoords"
           }
          ],
          "pie": [
           {
            "automargin": true,
            "type": "pie"
           }
          ],
          "scatter": [
           {
            "marker": {
             "colorbar": {
              "outlinewidth": 0,
              "ticks": ""
             }
            },
            "type": "scatter"
           }
          ],
          "scatter3d": [
           {
            "line": {
             "colorbar": {
              "outlinewidth": 0,
              "ticks": ""
             }
            },
            "marker": {
             "colorbar": {
              "outlinewidth": 0,
              "ticks": ""
             }
            },
            "type": "scatter3d"
           }
          ],
          "scattercarpet": [
           {
            "marker": {
             "colorbar": {
              "outlinewidth": 0,
              "ticks": ""
             }
            },
            "type": "scattercarpet"
           }
          ],
          "scattergeo": [
           {
            "marker": {
             "colorbar": {
              "outlinewidth": 0,
              "ticks": ""
             }
            },
            "type": "scattergeo"
           }
          ],
          "scattergl": [
           {
            "marker": {
             "colorbar": {
              "outlinewidth": 0,
              "ticks": ""
             }
            },
            "type": "scattergl"
           }
          ],
          "scattermapbox": [
           {
            "marker": {
             "colorbar": {
              "outlinewidth": 0,
              "ticks": ""
             }
            },
            "type": "scattermapbox"
           }
          ],
          "scatterpolar": [
           {
            "marker": {
             "colorbar": {
              "outlinewidth": 0,
              "ticks": ""
             }
            },
            "type": "scatterpolar"
           }
          ],
          "scatterpolargl": [
           {
            "marker": {
             "colorbar": {
              "outlinewidth": 0,
              "ticks": ""
             }
            },
            "type": "scatterpolargl"
           }
          ],
          "scatterternary": [
           {
            "marker": {
             "colorbar": {
              "outlinewidth": 0,
              "ticks": ""
             }
            },
            "type": "scatterternary"
           }
          ],
          "surface": [
           {
            "colorbar": {
             "outlinewidth": 0,
             "ticks": ""
            },
            "colorscale": [
             [
              0,
              "#0d0887"
             ],
             [
              0.1111111111111111,
              "#46039f"
             ],
             [
              0.2222222222222222,
              "#7201a8"
             ],
             [
              0.3333333333333333,
              "#9c179e"
             ],
             [
              0.4444444444444444,
              "#bd3786"
             ],
             [
              0.5555555555555556,
              "#d8576b"
             ],
             [
              0.6666666666666666,
              "#ed7953"
             ],
             [
              0.7777777777777778,
              "#fb9f3a"
             ],
             [
              0.8888888888888888,
              "#fdca26"
             ],
             [
              1,
              "#f0f921"
             ]
            ],
            "type": "surface"
           }
          ],
          "table": [
           {
            "cells": {
             "fill": {
              "color": "#EBF0F8"
             },
             "line": {
              "color": "white"
             }
            },
            "header": {
             "fill": {
              "color": "#C8D4E3"
             },
             "line": {
              "color": "white"
             }
            },
            "type": "table"
           }
          ]
         },
         "layout": {
          "annotationdefaults": {
           "arrowcolor": "#2a3f5f",
           "arrowhead": 0,
           "arrowwidth": 1
          },
          "autotypenumbers": "strict",
          "coloraxis": {
           "colorbar": {
            "outlinewidth": 0,
            "ticks": ""
           }
          },
          "colorscale": {
           "diverging": [
            [
             0,
             "#8e0152"
            ],
            [
             0.1,
             "#c51b7d"
            ],
            [
             0.2,
             "#de77ae"
            ],
            [
             0.3,
             "#f1b6da"
            ],
            [
             0.4,
             "#fde0ef"
            ],
            [
             0.5,
             "#f7f7f7"
            ],
            [
             0.6,
             "#e6f5d0"
            ],
            [
             0.7,
             "#b8e186"
            ],
            [
             0.8,
             "#7fbc41"
            ],
            [
             0.9,
             "#4d9221"
            ],
            [
             1,
             "#276419"
            ]
           ],
           "sequential": [
            [
             0,
             "#0d0887"
            ],
            [
             0.1111111111111111,
             "#46039f"
            ],
            [
             0.2222222222222222,
             "#7201a8"
            ],
            [
             0.3333333333333333,
             "#9c179e"
            ],
            [
             0.4444444444444444,
             "#bd3786"
            ],
            [
             0.5555555555555556,
             "#d8576b"
            ],
            [
             0.6666666666666666,
             "#ed7953"
            ],
            [
             0.7777777777777778,
             "#fb9f3a"
            ],
            [
             0.8888888888888888,
             "#fdca26"
            ],
            [
             1,
             "#f0f921"
            ]
           ],
           "sequentialminus": [
            [
             0,
             "#0d0887"
            ],
            [
             0.1111111111111111,
             "#46039f"
            ],
            [
             0.2222222222222222,
             "#7201a8"
            ],
            [
             0.3333333333333333,
             "#9c179e"
            ],
            [
             0.4444444444444444,
             "#bd3786"
            ],
            [
             0.5555555555555556,
             "#d8576b"
            ],
            [
             0.6666666666666666,
             "#ed7953"
            ],
            [
             0.7777777777777778,
             "#fb9f3a"
            ],
            [
             0.8888888888888888,
             "#fdca26"
            ],
            [
             1,
             "#f0f921"
            ]
           ]
          },
          "colorway": [
           "#636efa",
           "#EF553B",
           "#00cc96",
           "#ab63fa",
           "#FFA15A",
           "#19d3f3",
           "#FF6692",
           "#B6E880",
           "#FF97FF",
           "#FECB52"
          ],
          "font": {
           "color": "#2a3f5f"
          },
          "geo": {
           "bgcolor": "white",
           "lakecolor": "white",
           "landcolor": "#E5ECF6",
           "showlakes": true,
           "showland": true,
           "subunitcolor": "white"
          },
          "hoverlabel": {
           "align": "left"
          },
          "hovermode": "closest",
          "mapbox": {
           "style": "light"
          },
          "paper_bgcolor": "white",
          "plot_bgcolor": "#E5ECF6",
          "polar": {
           "angularaxis": {
            "gridcolor": "white",
            "linecolor": "white",
            "ticks": ""
           },
           "bgcolor": "#E5ECF6",
           "radialaxis": {
            "gridcolor": "white",
            "linecolor": "white",
            "ticks": ""
           }
          },
          "scene": {
           "xaxis": {
            "backgroundcolor": "#E5ECF6",
            "gridcolor": "white",
            "gridwidth": 2,
            "linecolor": "white",
            "showbackground": true,
            "ticks": "",
            "zerolinecolor": "white"
           },
           "yaxis": {
            "backgroundcolor": "#E5ECF6",
            "gridcolor": "white",
            "gridwidth": 2,
            "linecolor": "white",
            "showbackground": true,
            "ticks": "",
            "zerolinecolor": "white"
           },
           "zaxis": {
            "backgroundcolor": "#E5ECF6",
            "gridcolor": "white",
            "gridwidth": 2,
            "linecolor": "white",
            "showbackground": true,
            "ticks": "",
            "zerolinecolor": "white"
           }
          },
          "shapedefaults": {
           "line": {
            "color": "#2a3f5f"
           }
          },
          "ternary": {
           "aaxis": {
            "gridcolor": "white",
            "linecolor": "white",
            "ticks": ""
           },
           "baxis": {
            "gridcolor": "white",
            "linecolor": "white",
            "ticks": ""
           },
           "bgcolor": "#E5ECF6",
           "caxis": {
            "gridcolor": "white",
            "linecolor": "white",
            "ticks": ""
           }
          },
          "title": {
           "x": 0.05
          },
          "xaxis": {
           "automargin": true,
           "gridcolor": "white",
           "linecolor": "white",
           "ticks": "",
           "title": {
            "standoff": 15
           },
           "zerolinecolor": "white",
           "zerolinewidth": 2
          },
          "yaxis": {
           "automargin": true,
           "gridcolor": "white",
           "linecolor": "white",
           "ticks": "",
           "title": {
            "standoff": 15
           },
           "zerolinecolor": "white",
           "zerolinewidth": 2
          }
         }
        }
       }
      },
      "text/html": [
       "<div>                            <div id=\"a8dcae03-4fce-4bbe-aea7-9e0bf4cf76e2\" class=\"plotly-graph-div\" style=\"height:525px; width:100%;\"></div>            <script type=\"text/javascript\">                require([\"plotly\"], function(Plotly) {                    window.PLOTLYENV=window.PLOTLYENV || {};                                    if (document.getElementById(\"a8dcae03-4fce-4bbe-aea7-9e0bf4cf76e2\")) {                    Plotly.newPlot(                        \"a8dcae03-4fce-4bbe-aea7-9e0bf4cf76e2\",                        [{\"branchvalues\": \"total\", \"domain\": {\"x\": [0.0, 1.0], \"y\": [0.0, 1.0]}, \"hovertemplate\": \"labels=%{label}<br>count=%{value}<br>parent=%{parent}<br>id=%{id}<extra></extra>\", \"ids\": [\"Biological/Metabolism/Carbon Metabolism\", \"Regulatory/Lifestyle/Chemotaxis\", \"Regulatory/Two-Component System/Circadian Oscillation\", \"Regulatory/Anaerobic Respiration/Cyanate Metabolism\", \"Biological/Anaerobic Respiration/Energy Metabolism\", \"Biological/Photosynthesis/Energy Metabolism\", \"Regulatory/Stress Response/Heat Shock Response\", \"Regulatory/Stress Response/Iron Homeostasis\", \"Biological/Lifestyle/Natural Competence\", \"Regulatory/Anaerobic Respiration/Nitrogen Metabolism\", \"Regulatory/Stress Response/Phosphate Homeostasis\", \"Genomic/Genetic Ulterations/Prophages\", \"Regulatory/Stress Response/Redox Stress\", \"Biological/Central Dogma/Riboswitch\", \"Other/Other/Single Gene\", \"Regulatory/Stress Response/Sulfur Homeostasis\", \"Biological/Central Dogma/Translation\", \"Unknown/Unknown/Uncharacterized\", \"Biological/Anaerobic Respiration\", \"Regulatory/Anaerobic Respiration\", \"Biological/Central Dogma\", \"Genomic/Genetic Ulterations\", \"Biological/Lifestyle\", \"Regulatory/Lifestyle\", \"Biological/Metabolism\", \"Other/Other\", \"Biological/Photosynthesis\", \"Regulatory/Stress Response\", \"Regulatory/Two-Component System\", \"Unknown/Unknown\", \"Biological\", \"Genomic\", \"Other\", \"Regulatory\", \"Unknown\"], \"labels\": [\"Carbon Metabolism\", \"Chemotaxis\", \"Circadian Oscillation\", \"Cyanate Metabolism\", \"Energy Metabolism\", \"Energy Metabolism\", \"Heat Shock Response\", \"Iron Homeostasis\", \"Natural Competence\", \"Nitrogen Metabolism\", \"Phosphate Homeostasis\", \"Prophages\", \"Redox Stress\", \"Riboswitch\", \"Single Gene\", \"Sulfur Homeostasis\", \"Translation\", \"Uncharacterized\", \"Anaerobic Respiration\", \"Anaerobic Respiration\", \"Central Dogma\", \"Genetic Ulterations\", \"Lifestyle\", \"Lifestyle\", \"Metabolism\", \"Other\", \"Photosynthesis\", \"Stress Response\", \"Two-Component System\", \"Unknown\", \"Biological\", \"Genomic\", \"Other\", \"Regulatory\", \"Unknown\"], \"name\": \"\", \"parents\": [\"Biological/Metabolism\", \"Regulatory/Lifestyle\", \"Regulatory/Two-Component System\", \"Regulatory/Anaerobic Respiration\", \"Biological/Anaerobic Respiration\", \"Biological/Photosynthesis\", \"Regulatory/Stress Response\", \"Regulatory/Stress Response\", \"Biological/Lifestyle\", \"Regulatory/Anaerobic Respiration\", \"Regulatory/Stress Response\", \"Genomic/Genetic Ulterations\", \"Regulatory/Stress Response\", \"Biological/Central Dogma\", \"Other/Other\", \"Regulatory/Stress Response\", \"Biological/Central Dogma\", \"Unknown/Unknown\", \"Biological\", \"Regulatory\", \"Biological\", \"Genomic\", \"Biological\", \"Regulatory\", \"Biological\", \"Other\", \"Biological\", \"Regulatory\", \"Regulatory\", \"Unknown\", \"\", \"\", \"\", \"\", \"\"], \"type\": \"sunburst\", \"values\": [2, 1, 3, 1, 1, 3, 1, 1, 1, 2, 1, 2, 2, 2, 7, 1, 1, 16, 1, 3, 3, 2, 1, 1, 2, 7, 3, 6, 3, 16, 10, 2, 7, 13, 16]}],                        {\"legend\": {\"tracegroupgap\": 0}, \"margin\": {\"t\": 60}, \"sunburstcolorway\": [\"rgb(102,194,165)\", \"rgb(252,141,98)\", \"rgb(141,160,203)\", \"rgb(231,138,195)\", \"rgb(166,216,84)\", \"rgb(255,217,47)\", \"rgb(229,196,148)\", \"rgb(179,179,179)\"], \"template\": {\"data\": {\"bar\": [{\"error_x\": {\"color\": \"#2a3f5f\"}, \"error_y\": {\"color\": \"#2a3f5f\"}, \"marker\": {\"line\": {\"color\": \"#E5ECF6\", \"width\": 0.5}}, \"type\": \"bar\"}], \"barpolar\": [{\"marker\": {\"line\": {\"color\": \"#E5ECF6\", \"width\": 0.5}}, \"type\": \"barpolar\"}], \"carpet\": [{\"aaxis\": {\"endlinecolor\": \"#2a3f5f\", \"gridcolor\": \"white\", \"linecolor\": \"white\", \"minorgridcolor\": \"white\", \"startlinecolor\": \"#2a3f5f\"}, \"baxis\": {\"endlinecolor\": \"#2a3f5f\", \"gridcolor\": \"white\", \"linecolor\": \"white\", \"minorgridcolor\": \"white\", \"startlinecolor\": \"#2a3f5f\"}, \"type\": \"carpet\"}], \"choropleth\": [{\"colorbar\": {\"outlinewidth\": 0, \"ticks\": \"\"}, \"type\": \"choropleth\"}], \"contour\": [{\"colorbar\": {\"outlinewidth\": 0, \"ticks\": \"\"}, \"colorscale\": [[0.0, \"#0d0887\"], [0.1111111111111111, \"#46039f\"], [0.2222222222222222, \"#7201a8\"], [0.3333333333333333, \"#9c179e\"], [0.4444444444444444, \"#bd3786\"], [0.5555555555555556, \"#d8576b\"], [0.6666666666666666, \"#ed7953\"], [0.7777777777777778, \"#fb9f3a\"], [0.8888888888888888, \"#fdca26\"], [1.0, \"#f0f921\"]], \"type\": \"contour\"}], \"contourcarpet\": [{\"colorbar\": {\"outlinewidth\": 0, \"ticks\": \"\"}, \"type\": \"contourcarpet\"}], \"heatmap\": [{\"colorbar\": {\"outlinewidth\": 0, \"ticks\": \"\"}, \"colorscale\": [[0.0, \"#0d0887\"], [0.1111111111111111, \"#46039f\"], [0.2222222222222222, \"#7201a8\"], [0.3333333333333333, \"#9c179e\"], [0.4444444444444444, \"#bd3786\"], [0.5555555555555556, \"#d8576b\"], [0.6666666666666666, \"#ed7953\"], [0.7777777777777778, \"#fb9f3a\"], [0.8888888888888888, \"#fdca26\"], [1.0, \"#f0f921\"]], \"type\": \"heatmap\"}], \"heatmapgl\": [{\"colorbar\": {\"outlinewidth\": 0, \"ticks\": \"\"}, \"colorscale\": [[0.0, \"#0d0887\"], [0.1111111111111111, \"#46039f\"], [0.2222222222222222, \"#7201a8\"], [0.3333333333333333, \"#9c179e\"], [0.4444444444444444, \"#bd3786\"], [0.5555555555555556, \"#d8576b\"], [0.6666666666666666, \"#ed7953\"], [0.7777777777777778, \"#fb9f3a\"], [0.8888888888888888, \"#fdca26\"], [1.0, \"#f0f921\"]], \"type\": \"heatmapgl\"}], \"histogram\": [{\"marker\": {\"colorbar\": {\"outlinewidth\": 0, \"ticks\": \"\"}}, \"type\": \"histogram\"}], \"histogram2d\": [{\"colorbar\": {\"outlinewidth\": 0, \"ticks\": \"\"}, \"colorscale\": [[0.0, \"#0d0887\"], [0.1111111111111111, \"#46039f\"], [0.2222222222222222, \"#7201a8\"], [0.3333333333333333, \"#9c179e\"], [0.4444444444444444, \"#bd3786\"], [0.5555555555555556, \"#d8576b\"], [0.6666666666666666, \"#ed7953\"], [0.7777777777777778, \"#fb9f3a\"], [0.8888888888888888, \"#fdca26\"], [1.0, \"#f0f921\"]], \"type\": \"histogram2d\"}], \"histogram2dcontour\": [{\"colorbar\": {\"outlinewidth\": 0, \"ticks\": \"\"}, \"colorscale\": [[0.0, \"#0d0887\"], [0.1111111111111111, \"#46039f\"], [0.2222222222222222, \"#7201a8\"], [0.3333333333333333, \"#9c179e\"], [0.4444444444444444, \"#bd3786\"], [0.5555555555555556, \"#d8576b\"], [0.6666666666666666, \"#ed7953\"], [0.7777777777777778, \"#fb9f3a\"], [0.8888888888888888, \"#fdca26\"], [1.0, \"#f0f921\"]], \"type\": \"histogram2dcontour\"}], \"mesh3d\": [{\"colorbar\": {\"outlinewidth\": 0, \"ticks\": \"\"}, \"type\": \"mesh3d\"}], \"parcoords\": [{\"line\": {\"colorbar\": {\"outlinewidth\": 0, \"ticks\": \"\"}}, \"type\": \"parcoords\"}], \"pie\": [{\"automargin\": true, \"type\": \"pie\"}], \"scatter\": [{\"marker\": {\"colorbar\": {\"outlinewidth\": 0, \"ticks\": \"\"}}, \"type\": \"scatter\"}], \"scatter3d\": [{\"line\": {\"colorbar\": {\"outlinewidth\": 0, \"ticks\": \"\"}}, \"marker\": {\"colorbar\": {\"outlinewidth\": 0, \"ticks\": \"\"}}, \"type\": \"scatter3d\"}], \"scattercarpet\": [{\"marker\": {\"colorbar\": {\"outlinewidth\": 0, \"ticks\": \"\"}}, \"type\": \"scattercarpet\"}], \"scattergeo\": [{\"marker\": {\"colorbar\": {\"outlinewidth\": 0, \"ticks\": \"\"}}, \"type\": \"scattergeo\"}], \"scattergl\": [{\"marker\": {\"colorbar\": {\"outlinewidth\": 0, \"ticks\": \"\"}}, \"type\": \"scattergl\"}], \"scattermapbox\": [{\"marker\": {\"colorbar\": {\"outlinewidth\": 0, \"ticks\": \"\"}}, \"type\": \"scattermapbox\"}], \"scatterpolar\": [{\"marker\": {\"colorbar\": {\"outlinewidth\": 0, \"ticks\": \"\"}}, \"type\": \"scatterpolar\"}], \"scatterpolargl\": [{\"marker\": {\"colorbar\": {\"outlinewidth\": 0, \"ticks\": \"\"}}, \"type\": \"scatterpolargl\"}], \"scatterternary\": [{\"marker\": {\"colorbar\": {\"outlinewidth\": 0, \"ticks\": \"\"}}, \"type\": \"scatterternary\"}], \"surface\": [{\"colorbar\": {\"outlinewidth\": 0, \"ticks\": \"\"}, \"colorscale\": [[0.0, \"#0d0887\"], [0.1111111111111111, \"#46039f\"], [0.2222222222222222, \"#7201a8\"], [0.3333333333333333, \"#9c179e\"], [0.4444444444444444, \"#bd3786\"], [0.5555555555555556, \"#d8576b\"], [0.6666666666666666, \"#ed7953\"], [0.7777777777777778, \"#fb9f3a\"], [0.8888888888888888, \"#fdca26\"], [1.0, \"#f0f921\"]], \"type\": \"surface\"}], \"table\": [{\"cells\": {\"fill\": {\"color\": \"#EBF0F8\"}, \"line\": {\"color\": \"white\"}}, \"header\": {\"fill\": {\"color\": \"#C8D4E3\"}, \"line\": {\"color\": \"white\"}}, \"type\": \"table\"}]}, \"layout\": {\"annotationdefaults\": {\"arrowcolor\": \"#2a3f5f\", \"arrowhead\": 0, \"arrowwidth\": 1}, \"autotypenumbers\": \"strict\", \"coloraxis\": {\"colorbar\": {\"outlinewidth\": 0, \"ticks\": \"\"}}, \"colorscale\": {\"diverging\": [[0, \"#8e0152\"], [0.1, \"#c51b7d\"], [0.2, \"#de77ae\"], [0.3, \"#f1b6da\"], [0.4, \"#fde0ef\"], [0.5, \"#f7f7f7\"], [0.6, \"#e6f5d0\"], [0.7, \"#b8e186\"], [0.8, \"#7fbc41\"], [0.9, \"#4d9221\"], [1, \"#276419\"]], \"sequential\": [[0.0, \"#0d0887\"], [0.1111111111111111, \"#46039f\"], [0.2222222222222222, \"#7201a8\"], [0.3333333333333333, \"#9c179e\"], [0.4444444444444444, \"#bd3786\"], [0.5555555555555556, \"#d8576b\"], [0.6666666666666666, \"#ed7953\"], [0.7777777777777778, \"#fb9f3a\"], [0.8888888888888888, \"#fdca26\"], [1.0, \"#f0f921\"]], \"sequentialminus\": [[0.0, \"#0d0887\"], [0.1111111111111111, \"#46039f\"], [0.2222222222222222, \"#7201a8\"], [0.3333333333333333, \"#9c179e\"], [0.4444444444444444, \"#bd3786\"], [0.5555555555555556, \"#d8576b\"], [0.6666666666666666, \"#ed7953\"], [0.7777777777777778, \"#fb9f3a\"], [0.8888888888888888, \"#fdca26\"], [1.0, \"#f0f921\"]]}, \"colorway\": [\"#636efa\", \"#EF553B\", \"#00cc96\", \"#ab63fa\", \"#FFA15A\", \"#19d3f3\", \"#FF6692\", \"#B6E880\", \"#FF97FF\", \"#FECB52\"], \"font\": {\"color\": \"#2a3f5f\"}, \"geo\": {\"bgcolor\": \"white\", \"lakecolor\": \"white\", \"landcolor\": \"#E5ECF6\", \"showlakes\": true, \"showland\": true, \"subunitcolor\": \"white\"}, \"hoverlabel\": {\"align\": \"left\"}, \"hovermode\": \"closest\", \"mapbox\": {\"style\": \"light\"}, \"paper_bgcolor\": \"white\", \"plot_bgcolor\": \"#E5ECF6\", \"polar\": {\"angularaxis\": {\"gridcolor\": \"white\", \"linecolor\": \"white\", \"ticks\": \"\"}, \"bgcolor\": \"#E5ECF6\", \"radialaxis\": {\"gridcolor\": \"white\", \"linecolor\": \"white\", \"ticks\": \"\"}}, \"scene\": {\"xaxis\": {\"backgroundcolor\": \"#E5ECF6\", \"gridcolor\": \"white\", \"gridwidth\": 2, \"linecolor\": \"white\", \"showbackground\": true, \"ticks\": \"\", \"zerolinecolor\": \"white\"}, \"yaxis\": {\"backgroundcolor\": \"#E5ECF6\", \"gridcolor\": \"white\", \"gridwidth\": 2, \"linecolor\": \"white\", \"showbackground\": true, \"ticks\": \"\", \"zerolinecolor\": \"white\"}, \"zaxis\": {\"backgroundcolor\": \"#E5ECF6\", \"gridcolor\": \"white\", \"gridwidth\": 2, \"linecolor\": \"white\", \"showbackground\": true, \"ticks\": \"\", \"zerolinecolor\": \"white\"}}, \"shapedefaults\": {\"line\": {\"color\": \"#2a3f5f\"}}, \"ternary\": {\"aaxis\": {\"gridcolor\": \"white\", \"linecolor\": \"white\", \"ticks\": \"\"}, \"baxis\": {\"gridcolor\": \"white\", \"linecolor\": \"white\", \"ticks\": \"\"}, \"bgcolor\": \"#E5ECF6\", \"caxis\": {\"gridcolor\": \"white\", \"linecolor\": \"white\", \"ticks\": \"\"}}, \"title\": {\"x\": 0.05}, \"xaxis\": {\"automargin\": true, \"gridcolor\": \"white\", \"linecolor\": \"white\", \"ticks\": \"\", \"title\": {\"standoff\": 15}, \"zerolinecolor\": \"white\", \"zerolinewidth\": 2}, \"yaxis\": {\"automargin\": true, \"gridcolor\": \"white\", \"linecolor\": \"white\", \"ticks\": \"\", \"title\": {\"standoff\": 15}, \"zerolinecolor\": \"white\", \"zerolinewidth\": 2}}}},                        {\"responsive\": true}                    ).then(function(){\n",
       "                            \n",
       "var gd = document.getElementById('a8dcae03-4fce-4bbe-aea7-9e0bf4cf76e2');\n",
       "var x = new MutationObserver(function (mutations, observer) {{\n",
       "        var display = window.getComputedStyle(gd).display;\n",
       "        if (!display || display === 'none') {{\n",
       "            console.log([gd, 'removed!']);\n",
       "            Plotly.purge(gd);\n",
       "            observer.disconnect();\n",
       "        }}\n",
       "}});\n",
       "\n",
       "// Listen for the removal of the full notebook cells\n",
       "var notebookContainer = gd.closest('#notebook-container');\n",
       "if (notebookContainer) {{\n",
       "    x.observe(notebookContainer, {childList: true});\n",
       "}}\n",
       "\n",
       "// Listen for the clearing of the current output cell\n",
       "var outputEl = gd.closest('.output');\n",
       "if (outputEl) {{\n",
       "    x.observe(outputEl, {childList: true});\n",
       "}}\n",
       "\n",
       "                        })                };                });            </script>        </div>"
      ]
     },
     "metadata": {},
     "output_type": "display_data"
    }
   ],
   "source": [
    "fig = px.sunburst(df, path=['core', 'inner', 'outer'],\n",
    "                  color_discrete_sequence = px.colors.qualitative.Set2)\n",
    "fig.show()"
   ]
  },
  {
   "cell_type": "markdown",
   "metadata": {},
   "source": [
    "1. Tahani Oct 6, 2020\n",
    "2. Tahani Feb 19, 2021"
   ]
  }
 ],
 "metadata": {
  "kernelspec": {
   "display_name": "Python 3",
   "language": "python",
   "name": "python3"
  },
  "language_info": {
   "codemirror_mode": {
    "name": "ipython",
    "version": 3
   },
   "file_extension": ".py",
   "mimetype": "text/x-python",
   "name": "python",
   "nbconvert_exporter": "python",
   "pygments_lexer": "ipython3",
   "version": "3.8.8"
  },
  "toc": {
   "base_numbering": 1,
   "nav_menu": {},
   "number_sections": true,
   "sideBar": true,
   "skip_h1_title": false,
   "title_cell": "Table of Contents",
   "title_sidebar": "Contents",
   "toc_cell": true,
   "toc_position": {},
   "toc_section_display": true,
   "toc_window_display": false
  }
 },
 "nbformat": 4,
 "nbformat_minor": 2
}
